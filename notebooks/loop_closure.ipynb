{
 "cells": [
  {
   "cell_type": "code",
   "execution_count": 2,
   "id": "86a26a31",
   "metadata": {},
   "outputs": [],
   "source": [
    "import numpy as np\n",
    "from matplotlib import pyplot as plt\n"
   ]
  },
  {
   "cell_type": "code",
   "execution_count": 4,
   "id": "706bdc3a",
   "metadata": {},
   "outputs": [],
   "source": [
    "class Keyframe:\n",
    "    def __init__(self, position, orientation, point_cloud, descriptor=None, id=None, timestamp=None):\n",
    "        self.position = position  # [x, y, z]\n",
    "        self.orientation = orientation  # Quaternion [qx, qy, qz, qw]\n",
    "        self.point_cloud = point_cloud  # Full point cloud\n",
    "        self.descriptor = descriptor  # Optional pose descriptor\n",
    "        self.id = id  # Unique identifier\n",
    "        self.timestamp = timestamp  # Optional metadata\n"
   ]
  },
  {
   "cell_type": "code",
   "execution_count": 24,
   "id": "1a25b07b",
   "metadata": {},
   "outputs": [],
   "source": [
    "pos = np.zeros([3])\n",
    "look_dir = np.zeros([3])\n",
    "pc = np.random.randn(10,3)\n",
    "\n",
    "k = Keyframe(pos, look_dir, pc)"
   ]
  },
  {
   "cell_type": "code",
   "execution_count": 25,
   "id": "88758872",
   "metadata": {},
   "outputs": [
    {
     "name": "stdout",
     "output_type": "stream",
     "text": [
      "[[-1.26358295  0.94975262 -0.07982602]\n",
      " [-0.04860726  0.07739919  0.03563413]\n",
      " [-1.76053062  0.25221781  2.06674849]\n",
      " [-0.31357482 -0.71378819  1.30093419]\n",
      " [ 1.16255697 -1.10735484  1.04162651]\n",
      " [-0.5409386   0.27120546 -1.12544979]\n",
      " [ 0.97120924 -0.50063409 -0.38142702]\n",
      " [-0.27253864  0.97673537 -0.51047475]\n",
      " [-0.1248554  -0.72294382 -0.20990697]\n",
      " [-0.95575627  0.33554606 -0.33605997]]\n"
     ]
    }
   ],
   "source": [
    "print(k.point_cloud)"
   ]
  },
  {
   "cell_type": "code",
   "execution_count": null,
   "id": "3b864ad5",
   "metadata": {},
   "outputs": [],
   "source": []
  }
 ],
 "metadata": {
  "kernelspec": {
   "display_name": "Python 3 (ipykernel)",
   "language": "python",
   "name": "python3"
  },
  "language_info": {
   "codemirror_mode": {
    "name": "ipython",
    "version": 3
   },
   "file_extension": ".py",
   "mimetype": "text/x-python",
   "name": "python",
   "nbconvert_exporter": "python",
   "pygments_lexer": "ipython3",
   "version": "3.8.10"
  }
 },
 "nbformat": 4,
 "nbformat_minor": 5
}
