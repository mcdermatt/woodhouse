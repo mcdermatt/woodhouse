{
 "cells": [
  {
   "cell_type": "code",
   "execution_count": 1,
   "id": "86a26a31",
   "metadata": {},
   "outputs": [
    {
     "name": "stderr",
     "output_type": "stream",
     "text": [
      "2025-04-12 10:06:11.603016: I tensorflow/core/platform/cpu_feature_guard.cc:193] This TensorFlow binary is optimized with oneAPI Deep Neural Network Library (oneDNN) to use the following CPU instructions in performance-critical operations:  AVX2 FMA\n",
      "To enable them in other operations, rebuild TensorFlow with the appropriate compiler flags.\n",
      "2025-04-12 10:06:13.497869: W tensorflow/compiler/xla/stream_executor/platform/default/dso_loader.cc:64] Could not load dynamic library 'libnvinfer.so.7'; dlerror: libnvinfer.so.7: cannot open shared object file: No such file or directory; LD_LIBRARY_PATH: /usr/local/lib:/usr/local/lib:/home/derm/ROS/devel/lib:/opt/ros/noetic/lib:/usr/local/lib\n",
      "2025-04-12 10:06:13.498032: W tensorflow/compiler/xla/stream_executor/platform/default/dso_loader.cc:64] Could not load dynamic library 'libnvinfer_plugin.so.7'; dlerror: libnvinfer_plugin.so.7: cannot open shared object file: No such file or directory; LD_LIBRARY_PATH: /usr/local/lib:/usr/local/lib:/home/derm/ROS/devel/lib:/opt/ros/noetic/lib:/usr/local/lib\n",
      "2025-04-12 10:06:13.498042: W tensorflow/compiler/tf2tensorrt/utils/py_utils.cc:38] TF-TRT Warning: Cannot dlopen some TensorRT libraries. If you would like to use Nvidia GPU with TensorRT, please make sure the missing libraries mentioned above are installed properly.\n"
     ]
    }
   ],
   "source": [
    "from vedo import *\n",
    "from ipyvtklink.viewer import ViewInteractiveWidget\n",
    "#needed for running on laptop~~~~~\n",
    "from vedo import settings\n",
    "settings.default_backend = 'vtk'\n",
    "#~~~~~~~~~~~~~~~~~~~~~~~~~~~~~~~~~\n",
    "import numpy as np\n",
    "# import tensorflow as tf\n",
    "from scipy.spatial.transform import Rotation as R\n",
    "\n",
    "import gtsam\n",
    "import gtsam.utils.plot as gtsam_plot\n",
    "from gtsam import Pose3, Rot3, Point3\n",
    "from pose_graph_utils import *\n",
    "import tensorflow as tf\n",
    "from tensorflow import  sin, cos, tan\n",
    "\n",
    "import numpy as np\n",
    "from matplotlib import pyplot as p\n",
    "%load_ext autoreload\n",
    "%autoreload 2"
   ]
  },
  {
   "cell_type": "markdown",
   "id": "026e1800",
   "metadata": {},
   "source": [
    "# Draw frames from odometry constraints"
   ]
  },
  {
   "cell_type": "code",
   "execution_count": 723,
   "id": "1a25b07b",
   "metadata": {
    "scrolled": true
   },
   "outputs": [
    {
     "name": "stdout",
     "output_type": "stream",
     "text": [
      "149\n"
     ]
    }
   ],
   "source": [
    "#load relative poses from odometry file\n",
    "# constraints = np.loadtxt(\"apartment/pose_data.csv\", delimiter=',',skiprows=1)\n",
    "constraints = np.loadtxt(\"pose_data.csv\", delimiter=',',skiprows=1)\n",
    "\n",
    "# print(constraints[:,0] == 1)\n",
    "# print(constraints[:,:3])\n",
    "\n",
    "odom_raw = constraints[constraints[:,0] == 0][:,1:]  # raw odometry constraints \n",
    "sr_raw = constraints[constraints[:,0] == 1][:,1:]    # sequential registration of keyframe constraints\n",
    "lc_raw = constraints[constraints[:,0] == 2][:,1:]    # loop closure constraints\n",
    "dc_raw = constraints[constraints[:,0] == 3][:,1:]    # dense constraints\n",
    "\n",
    "# odom_raw = sr_raw #DEBUG-- uncomment to draw SR traj ~~~~~~~~~~~~~~~~~~~~~~~~~~~~~~~~~~~~~~~~~~~~~~~~~~\n",
    "# odom_raw = odom_raw[:(len(odom_raw)//2)]\n",
    "print(len(odom_raw))\n",
    "#convert to rotation matrix\n",
    "odom = np.zeros([len(odom_raw),4,4])\n",
    "odom[0] = np.eye(4)\n",
    "for i in range(1,len(odom_raw)):\n",
    "    odom[i] = np.eye(4)\n",
    "    curr = np.eye(4)\n",
    "    #Full 6DOF transform\n",
    "#     curr[:3,:3] = R.from_quat(odom_raw[i,5:]).as_matrix() #scipy depreciated syntax :(\n",
    "    curr[:3,:3] = R.from_quat(odom_raw[i,5:]).as_dcm() \n",
    "#     #Suppress Pitch and Roll\n",
    "#     full_rot = R.from_quat(odom_raw[i,5:]).as_euler('xyz')\n",
    "#     curr[:3,:3] = R.from_euler('xyz', [0,0,full_rot[2]]).as_matrix()\n",
    "\n",
    "    curr[:3,-1] = odom_raw[i,2:5]\n",
    "    #forward conga line (works)\n",
    "    for j in range(i):\n",
    "        odom[j] = curr @ odom[j]    \n",
    "\n",
    "#bring back to map frame\n",
    "OG = odom[0].copy()\n",
    "for j in range(len(odom_raw)):\n",
    "    odom[j] = np.linalg.pinv(OG) @ odom[j]\n",
    "        \n",
    "sr = np.zeros([len(sr_raw),4,4])\n",
    "sr[0] = np.eye(4)\n",
    "for i in range(len(sr_raw)):\n",
    "    sr[i] = np.eye(4)\n",
    "    curr = np.eye(4)\n",
    "    #FULL DOF\n",
    "#     curr[:3,:3] = R.from_quat(sr_raw[i,5:]).as_matrix()\n",
    "    curr[:3,:3] = R.from_quat(sr_raw[i,5:]).as_dcm()\n",
    "#     #Suppress Pitch and Roll\n",
    "#     full_rot = R.from_quat(sr_raw[i,5:]).as_euler('xyz')\n",
    "#     curr[:3,:3] = R.from_euler('xyz', [0,0,full_rot[2]]).as_matrix()    \n",
    "    curr[:3,-1] = sr_raw[i,2:5]\n",
    "    for j in range(i+1):\n",
    "        sr[j] = curr @ sr[j]"
   ]
  },
  {
   "cell_type": "code",
   "execution_count": 724,
   "id": "6986a56f",
   "metadata": {},
   "outputs": [
    {
     "name": "stderr",
     "output_type": "stream",
     "text": [
      "\u001b[1m[vedo.plotter.py:3439] INFO: Closing window now. Plotter.escaped is set to True.\u001b[0m\n"
     ]
    },
    {
     "data": {
      "text/plain": [
       "<vedo.plotter.Plotter at 0x7ff163604280>"
      ]
     },
     "execution_count": 724,
     "metadata": {},
     "output_type": "execute_result"
    }
   ],
   "source": [
    "plt = Plotter(N = 1, axes = 0, bg = (1, 1, 1), interactive = True) #axes = 4 (simple), 1(scale)\n",
    "disp=[]         \n",
    "scale = 0.25\n",
    "runlen = len(odom) - 1\n",
    "# runlen = 75\n",
    "\n",
    "for i in range(0,runlen):\n",
    "    rotm = odom[i,:,:]\n",
    "#     rotm = sr[i,:,:] #TEST\n",
    "#     print(rotm)\n",
    "    alph = 1-(i/runlen)\n",
    "    \n",
    "    #forward view direction (-z in NeRF c2w convention)\n",
    "    # x\n",
    "    headings = rotm[:3,:3] @ np.array([scale,0,0])\n",
    "    disp.append(Arrows(rotm[:3,-1][None,:], (rotm[:3,-1] + headings)[None,:], c = \"red\", alpha = alph))\n",
    "    #y\n",
    "    headings = rotm[:3,:3] @ np.array([0,scale,0])\n",
    "    disp.append(Arrows(rotm[:3,-1][None,:], (rotm[:3,-1] + headings)[None,:], c = \"green\", alpha = alph))\n",
    "    #z\n",
    "    headings = rotm[:3,:3] @ np.array([0,0,scale])\n",
    "    disp.append(Arrows(rotm[:3,-1][None,:], (rotm[:3,-1] + headings)[None,:], c = \"blue\", alpha = alph))\n",
    "    #draw line between odometry\n",
    "    disp.append(Line(odom[i,:3,3], odom[i+1,:3,3], c = 'black', lw=2))\n",
    "    \n",
    "    #draw any potential loop closure constraints\n",
    "    for j in range(len(lc_raw)):\n",
    "        if lc_raw[j,0] == i:\n",
    "            disp.append(Line(odom[i,:3,3], odom[int(lc_raw[j,1]),:3,3], c = 'red', lw=3, alpha = 0.7))\n",
    "    \n",
    "\n",
    "plt.show(disp, \"dead reckoning from odometry constraints\")"
   ]
  },
  {
   "cell_type": "code",
   "execution_count": 471,
   "id": "976342a0",
   "metadata": {
    "scrolled": false
   },
   "outputs": [
    {
     "data": {
      "text/plain": [
       "<matplotlib.legend.Legend at 0x7ff19ad38fa0>"
      ]
     },
     "execution_count": 471,
     "metadata": {},
     "output_type": "execute_result"
    },
    {
     "data": {
      "image/png": "[encoded data removed]",
      "text/plain": [
       "<Figure size 640x480 with 1 Axes>"
      ]
     },
     "metadata": {},
     "output_type": "display_data"
    }
   ],
   "source": [
    "fig, ax = p.subplots()   \n",
    "odom_euls = np.zeros([0,3])\n",
    "for i in range(1,len(odom_raw)):\n",
    "#     rotm = R.from_quat(odom_raw[i,5:]).as_matrix()\n",
    "    rotm = R.from_quat(odom_raw[i,5:]).as_dcm()\n",
    "    rpy = np.array([np.arctan2(rotm[2,1],rotm[2,2]), np.arcsin(rotm[2,0]), np.arctan2(rotm[1,0], rotm[0,0])])\n",
    "    odom_euls = np.append(odom_euls, rpy[None,:], axis = 0)\n",
    "\n",
    "sr_euls = np.zeros([0,3])\n",
    "for i in range(1,len(sr_raw)):\n",
    "#     rotm = R.from_quat(sr_raw[i,5:]).as_matrix()\n",
    "    rotm = R.from_quat(sr_raw[i,5:]).as_dcm()\n",
    "    rpy = np.array([np.arctan2(rotm[2,1],rotm[2,2]), np.arcsin(rotm[2,0]), np.arctan2(rotm[1,0], rotm[0,0])])\n",
    "    sr_euls = np.append(sr_euls, rpy[None,:], axis = 0)\n",
    "\n",
    "ax.plot(odom_euls[1:,2], label = 'odom yaw')\n",
    "ax.plot(sr_euls[:,2], label = 'sequential cloud registration yaw')\n",
    "ax.legend(loc='best')"
   ]
  },
  {
   "cell_type": "code",
   "execution_count": 472,
   "id": "5a7513c0",
   "metadata": {
    "scrolled": false
   },
   "outputs": [
    {
     "data": {
      "text/plain": [
       "<matplotlib.legend.Legend at 0x7ff19ad10040>"
      ]
     },
     "execution_count": 472,
     "metadata": {},
     "output_type": "execute_result"
    },
    {
     "data": {
      "image/png": "[encoded data removed]",
      "text/plain": [
       "<Figure size 640x480 with 1 Axes>"
      ]
     },
     "metadata": {},
     "output_type": "display_data"
    }
   ],
   "source": [
    "fig, ax = p.subplots()\n",
    "# print(odom_raw[:10,2:5], \"\\n \\n\", sr_raw[:10,2:5])\n",
    "ax.plot(odom_raw[1:,2], label = 'odom x')\n",
    "ax.plot(sr_raw[:,2], label = 'sequential registration x')\n",
    "ax.legend(loc='best')"
   ]
  },
  {
   "cell_type": "markdown",
   "id": "9da90ae3",
   "metadata": {},
   "source": [
    "# Draw point clouds registered according to raw odometry and sequential keyframe registration"
   ]
  },
  {
   "cell_type": "code",
   "execution_count": 473,
   "id": "49d1719e",
   "metadata": {},
   "outputs": [
    {
     "name": "stdout",
     "output_type": "stream",
     "text": [
      "[20.        21.         0.195581  -0.150929  -0.0359077  0.0012948\n",
      "  0.0009056 -0.199054   0.979987 ]\n",
      "20 19\n"
     ]
    }
   ],
   "source": [
    "#load keyframe point clouds\n",
    "idx = 20\n",
    "idx2 = idx + 1\n",
    "# fn1 = \"apartment/keyframe_\" + str(idx) + \".csv\"\n",
    "# fn2 = \"apartment/keyframe_\" + str(idx2) + \".csv\"\n",
    "fn1 = \"keyframe_\" + str(idx) + \".csv\"\n",
    "fn2 = \"keyframe_\" + str(idx2) + \".csv\"\n",
    "pc1 = np.loadtxt(fn1, delimiter=\",\")\n",
    "pc2 = np.loadtxt(fn2, delimiter=\",\")\n",
    "# print(odom_raw[idx,2:5], R.from_quat(odom_raw[idx,5:]).as_euler('xyz'))\n",
    "print(odom_raw[idx])\n",
    "\n",
    "#get row corresponding to correct odometry constraint\n",
    "odom_idx = np.where(odom_raw[:,0] == idx)[0][0]\n",
    "sr_idx = np.where(sr_raw[:,0] == idx)[0][0]\n",
    "print(odom_idx, sr_idx)"
   ]
  },
  {
   "cell_type": "code",
   "execution_count": 474,
   "id": "706bdc3a",
   "metadata": {},
   "outputs": [
    {
     "name": "stderr",
     "output_type": "stream",
     "text": [
      "\u001b[1m\u001b[33;20m[vedo.plotter.py:909] WARNING: call to add() but Plotter was not initialized with show()\u001b[0m\n",
      "\u001b[1m\u001b[33;20m[vedo.plotter.py:909] WARNING: call to add() but Plotter was not initialized with show()\u001b[0m\n",
      "\u001b[1m[vedo.plotter.py:3439] INFO: Closing window now. Plotter.escaped is set to True.\u001b[0m\n"
     ]
    },
    {
     "data": {
      "text/plain": [
       "<vedo.plotter.Plotter at 0x7ff18a550610>"
      ]
     },
     "execution_count": 474,
     "metadata": {},
     "output_type": "execute_result"
    }
   ],
   "source": [
    "plt = Plotter(N = 2, axes = 0, bg = (0.2, 0.2, 0.2), interactive = True) #axes = 4 (simple), 1(scale)\n",
    "disp_odom=[]\n",
    "disp_odom.append(Points(pc1, c = 'red', r = 3, alpha = 0.5))\n",
    "disp_odom.append(Points(pc2, c = 'blue', r = 3, alpha = 0.5))\n",
    "disp_sr=[]\n",
    "disp_sr.append(Points(pc1, c = 'red', r = 3, alpha = 0.5))\n",
    "disp_sr.append(Points(pc2, c = 'blue', r = 3, alpha = 0.5))\n",
    "\n",
    "# p2_p1f_odom = (pc2 - odom_raw[odom_idx,2:5]) @ R.from_quat(odom_raw[odom_idx,5:]).as_matrix()#works for odom output\n",
    "# p2_p1f_sr = (pc2 - sr_raw[sr_idx,2:5]) @ R.from_quat(sr_raw[sr_idx,5:]).as_matrix()#works for odom output\n",
    "p2_p1f_odom = (pc2 - odom_raw[odom_idx,2:5]) @ R.from_quat(odom_raw[odom_idx,5:]).as_dcm()#works for odom output\n",
    "p2_p1f_sr = (pc2 - sr_raw[sr_idx,2:5]) @ R.from_quat(sr_raw[sr_idx,5:]).as_dcm()#works for odom output\n",
    "disp_odom.append(Points(p2_p1f_odom, c = 'green', r = 3, alpha = 0.5))\n",
    "disp_sr.append(Points(p2_p1f_sr, c = 'green', r = 3, alpha = 0.5))\n",
    "\n",
    "plt.at(0).add(disp_odom, \"odometry\")              \n",
    "plt.at(1).add(disp_sr, \"loop closure between neighboring keyframes\")              \n",
    "plt.show()#\"scan 1 (red), scan2 (blue), scan2 in s1 frame (green)\" "
   ]
  },
  {
   "cell_type": "markdown",
   "id": "ae3c49fa",
   "metadata": {},
   "source": [
    "# Look at loop closure canidates (from scan context)"
   ]
  },
  {
   "cell_type": "code",
   "execution_count": 631,
   "id": "d82a2d41",
   "metadata": {
    "scrolled": true
   },
   "outputs": [
    {
     "name": "stdout",
     "output_type": "stream",
     "text": [
      "19\n",
      "[[ 26.  16.]\n",
      " [ 28.  16.]\n",
      " [ 32.  18.]\n",
      " [ 61.  15.]\n",
      " [ 62.  14.]\n",
      " [120. 107.]\n",
      " [123. 105.]\n",
      " [126. 105.]\n",
      " [127. 105.]\n",
      " [130. 103.]\n",
      " [132. 102.]\n",
      " [133. 101.]\n",
      " [140.  68.]\n",
      " [141.  68.]\n",
      " [144.   9.]\n",
      " [145.   9.]\n",
      " [146.   4.]\n",
      " [147.   4.]\n",
      " [148.   3.]]\n"
     ]
    }
   ],
   "source": [
    "print(len(lc_raw))\n",
    "print(lc_raw[:,:2])"
   ]
  },
  {
   "cell_type": "code",
   "execution_count": 635,
   "id": "b943e6c8",
   "metadata": {},
   "outputs": [
    {
     "name": "stdout",
     "output_type": "stream",
     "text": [
      "[132.        102.          0.401376    0.0113268   0.110453    0.0307489\n",
      "   0.0103784   0.994462    0.0999614]\n",
      "132 102\n",
      "[ 0.02683935 -0.05911676  2.94043592]\n"
     ]
    },
    {
     "name": "stderr",
     "output_type": "stream",
     "text": [
      "\u001b[1m[vedo.plotter.py:3439] INFO: Closing window now. Plotter.escaped is set to True.\u001b[0m\n"
     ]
    },
    {
     "data": {
      "text/plain": [
       "<vedo.plotter.Plotter at 0x7ff1bec08730>"
      ]
     },
     "execution_count": 635,
     "metadata": {},
     "output_type": "execute_result"
    }
   ],
   "source": [
    "lc_idx = 10\n",
    "print(lc_raw[lc_idx,:])\n",
    "idx = int((lc_raw[lc_idx,0]))\n",
    "idx2 = int((lc_raw[lc_idx,1]))\n",
    "print(idx, idx2)\n",
    "print(R.from_quat(lc_raw[lc_idx,5:]).as_euler('xyz'))\n",
    "\n",
    "# fn1 = \"apartment/keyframe_\" + str(idx) + \".csv\"\n",
    "# fn2 = \"apartment/keyframe_\" + str(idx2) + \".csv\"\n",
    "fn1 = \"keyframe_\" + str(idx) + \".csv\"\n",
    "fn2 = \"keyframe_\" + str(idx2) + \".csv\"\n",
    "pc1 = np.loadtxt(fn1, delimiter=\",\")\n",
    "pc2 = np.loadtxt(fn2, delimiter=\",\")\n",
    "\n",
    "plt = Plotter(N = 1, axes = 0, bg = (0.2, 0.2, 0.2), interactive = True)\n",
    "disp = []\n",
    "# p2_p1f_lc = (pc2 - lc_raw[lc_idx,2:5]) @ R.from_quat(lc_raw[lc_idx,5:]).as_matrix()\n",
    "p2_p1f_lc = (pc2 - lc_raw[lc_idx,2:5]) @ R.from_quat(lc_raw[lc_idx,5:]).as_dcm()\n",
    "disp.append(Points(p2_p1f_lc, c = 'green', r = 3, alpha = 0.5))\n",
    "\n",
    "disp.append(Points(pc1, c = 'red', r = 3, alpha = 0.5))\n",
    "disp.append(Points(pc2, c = 'blue', r = 3, alpha = 0.5))\n",
    "plt.show(disp, \"registering point clouds with scan context loop closure \") "
   ]
  },
  {
   "cell_type": "markdown",
   "id": "bf1b70dc",
   "metadata": {},
   "source": [
    "## Look at dense constraints"
   ]
  },
  {
   "cell_type": "code",
   "execution_count": 630,
   "id": "c08b7e8b",
   "metadata": {
    "scrolled": true
   },
   "outputs": [
    {
     "name": "stdout",
     "output_type": "stream",
     "text": [
      "[]\n",
      "0\n"
     ]
    }
   ],
   "source": [
    "print(dc_raw)\n",
    "print(len(dc_raw))"
   ]
  },
  {
   "cell_type": "code",
   "execution_count": 481,
   "id": "384ba0e2",
   "metadata": {},
   "outputs": [
    {
     "name": "stdout",
     "output_type": "stream",
     "text": [
      "14 11\n",
      "[ 0.00436968 -0.015223   -0.37169007]\n"
     ]
    },
    {
     "name": "stderr",
     "output_type": "stream",
     "text": [
      "\u001b[1m[vedo.plotter.py:3439] INFO: Closing window now. Plotter.escaped is set to True.\u001b[0m\n"
     ]
    },
    {
     "data": {
      "text/plain": [
       "<vedo.plotter.Plotter at 0x7ff18a5896d0>"
      ]
     },
     "execution_count": 481,
     "metadata": {},
     "output_type": "execute_result"
    }
   ],
   "source": [
    "dc_idx = 16\n",
    "# print(dc_raw[dc_idx,:])\n",
    "idx = int((dc_raw[dc_idx,0]))\n",
    "idx2 = int((dc_raw[dc_idx,1]))\n",
    "print(idx, idx2)\n",
    "print(R.from_quat(dc_raw[dc_idx,5:]).as_euler('xyz'))\n",
    "\n",
    "# fn1 = \"apartment/keyframe_\" + str(idx) + \".csv\"\n",
    "# fn2 = \"apartment/keyframe_\" + str(idx2) + \".csv\"\n",
    "fn1 = \"keyframe_\" + str(idx) + \".csv\"\n",
    "fn2 = \"keyframe_\" + str(idx2) + \".csv\"\n",
    "pc1 = np.loadtxt(fn1, delimiter=\",\")\n",
    "pc2 = np.loadtxt(fn2, delimiter=\",\")\n",
    "\n",
    "plt = Plotter(N = 1, axes = 0, bg = (0.2, 0.2, 0.2), interactive = True)\n",
    "disp = []\n",
    "p2_p1f_dc = (pc2 - dc_raw[dc_idx,2:5]) @ R.from_quat(dc_raw[dc_idx,5:]).as_dcm()\n",
    "disp.append(Points(p2_p1f_dc, c = 'green', r = 3, alpha = 0.5))\n",
    "\n",
    "disp.append(Points(pc1, c = 'red', r = 3, alpha = 0.5))\n",
    "disp.append(Points(pc2, c = 'blue', r = 3, alpha = 0.5))\n",
    "plt.show(disp, \"registering point clouds with scan context loop closure \") "
   ]
  },
  {
   "cell_type": "markdown",
   "id": "5a1029b2",
   "metadata": {},
   "source": [
    "# Optimize Sequential Keyframe trajectory + Loop Closure Constraints\n",
    "\n",
    "### TODO:\n",
    "* Combine SR with odom data\n",
    "* replace batch GTSAM optimization with incramental iSAM2\n",
    "* create new python node"
   ]
  },
  {
   "cell_type": "code",
   "execution_count": 638,
   "id": "932746e3",
   "metadata": {
    "scrolled": true
   },
   "outputs": [],
   "source": [
    "OH = np.zeros([len(sr_raw)+len(lc_raw),8])\n",
    "for i in range(len(sr_raw)):\n",
    "    OH[i,:3] = sr_raw[i,2:5]\n",
    "    OH[i,3:6] = R.from_quat(sr_raw[i,5:]).as_euler('xyz')\n",
    "    OH[i,6] = sr_raw[i,0] - 1\n",
    "    OH[i,7] = sr_raw[i,1] - 1\n",
    "for j in range(len(lc_raw)):\n",
    "    OH[len(sr_raw)+j,:3] = lc_raw[j,2:5]\n",
    "    OH[len(sr_raw)+j,3:6] = R.from_quat(lc_raw[j,5:]).as_euler('xyz')\n",
    "    OH[len(sr_raw)+j,6] = lc_raw[j,0] - 1\n",
    "    OH[len(sr_raw)+j,7] = lc_raw[j,1] - 1\n",
    "    \n",
    "    \n",
    "odometry_history = OH\n",
    "pred_stds_history = np.tile(np.array([[0.01, 0.01, 0.01, 1e-2, 1e-2, 1e-2]]), (len(odometry_history),1))\n",
    "pred_stds_history[len(sr_raw):,:] *= 10 #make loop closure constraints way higher covariance\n",
    "pred_stds_history = np.append(pred_stds_history, odometry_history[:,-2:], axis = 1)\n",
    "ij = odometry_history[:,-2:].astype(np.int32)"
   ]
  },
  {
   "cell_type": "code",
   "execution_count": 639,
   "id": "e980b7d0",
   "metadata": {},
   "outputs": [
    {
     "ename": "RuntimeError",
     "evalue": "Attempting to at the key \"147\", which does not exist in the Values.",
     "output_type": "error",
     "traceback": [
      "\u001b[0;31m---------------------------------------------------------------------------\u001b[0m",
      "\u001b[0;31mRuntimeError\u001b[0m                              Traceback (most recent call last)",
      "Cell \u001b[0;32mIn[639], line 57\u001b[0m\n\u001b[1;32m     55\u001b[0m params\u001b[38;5;241m.\u001b[39msetMaxIterations(\u001b[38;5;241m100\u001b[39m)\n\u001b[1;32m     56\u001b[0m params\u001b[38;5;241m.\u001b[39msetVerbosity(\u001b[38;5;124m\"\u001b[39m\u001b[38;5;124mTermination\u001b[39m\u001b[38;5;124m\"\u001b[39m)\n\u001b[0;32m---> 57\u001b[0m optimizer \u001b[38;5;241m=\u001b[39m \u001b[43mgtsam\u001b[49m\u001b[38;5;241;43m.\u001b[39;49m\u001b[43mDoglegOptimizer\u001b[49m\u001b[43m(\u001b[49m\u001b[43mgraph\u001b[49m\u001b[43m,\u001b[49m\u001b[43m \u001b[49m\u001b[43minitial\u001b[49m\u001b[43m,\u001b[49m\u001b[43m \u001b[49m\u001b[43mparams\u001b[49m\u001b[43m)\u001b[49m\n\u001b[1;32m     58\u001b[0m result \u001b[38;5;241m=\u001b[39m optimizer\u001b[38;5;241m.\u001b[39moptimize()\n\u001b[1;32m     60\u001b[0m \u001b[38;5;66;03m# Print results\u001b[39;00m\n\u001b[1;32m     61\u001b[0m \u001b[38;5;66;03m# for i in range(len(constraints) + 1):\u001b[39;00m\n\u001b[1;32m     62\u001b[0m \u001b[38;5;66;03m#     print(f\"Pose {i}: {result.atPose3(i)}\")\u001b[39;00m\n",
      "\u001b[0;31mRuntimeError\u001b[0m: Attempting to at the key \"147\", which does not exist in the Values."
     ]
    }
   ],
   "source": [
    "# Batch optimization\n",
    "# Example constraint array: [x, y, z, roll, pitch, yaw, keyframe_idx1, keyframe_idx2]\n",
    "constraints = odometry_history.copy()\n",
    "\n",
    "# Initialize factor graph and values\n",
    "graph = gtsam.NonlinearFactorGraph()\n",
    "initial = gtsam.Values()\n",
    "\n",
    "# Add a prior on the first keyframe to anchor the solution\n",
    "prior_noise = gtsam.noiseModel.Diagonal.Sigmas([1e-3, 1e-3, 1e-3, 1e-3, 1e-3, 1e-3])  # Small uncertainty\n",
    "# pose_prior = Pose3(Rot3.Identity(), Point3(0, 0, 0))\n",
    "pose_prior = Pose3(Rot3.identity(), Point3(0, 0, 0))\n",
    "graph.add(gtsam.PriorFactorPose3(0, pose_prior, prior_noise))\n",
    "\n",
    "# Initialize first pose estimate\n",
    "initial.insert(0, pose_prior)\n",
    "\n",
    "# Add constraints and initialize other keyframes\n",
    "for i, row in enumerate(constraints):\n",
    "    x, y, z, roll, pitch, yaw, keyframe1, keyframe2 = row\n",
    "    \n",
    "    x *= -1 \n",
    "    y *= -1 \n",
    "    z *= -1 \n",
    "    roll *= -1 \n",
    "    pitch *= -1\n",
    "    yaw *= -1\n",
    "    \n",
    "    # Convert quaternion to rotation matrix\n",
    "    rot = Rot3.Ypr(yaw, pitch, roll)  # YPR order (Yaw-Pitch-Roll)\n",
    "    \n",
    "    # Create relative Pose3 transformation\n",
    "    relative_pose = Pose3(rot, Point3(x, y, z))\n",
    "\n",
    "    # Define a noise model (adjust values based on confidence in constraints)\n",
    "#     constraint_noise = gtsam.noiseModel.Diagonal.Sigmas([0.1, 0.1, 0.1, 0.1, 0.1, 0.1])  \n",
    "    constraint_noise = gtsam.noiseModel.Diagonal.Sigmas([pred_stds_history[i,0], \n",
    "                                                         pred_stds_history[i,1], \n",
    "                                                         pred_stds_history[i,2], \n",
    "                                                         pred_stds_history[i,3], \n",
    "                                                         pred_stds_history[i,4], \n",
    "                                                         pred_stds_history[i,5]])  \n",
    "\n",
    "    # Add BetweenFactorPose3 for relative transformation\n",
    "    #had this\n",
    "    graph.add(gtsam.BetweenFactorPose3(int(keyframe1), int(keyframe2), relative_pose, constraint_noise))\n",
    "\n",
    "    # Initialize poses (assuming incremental movement)\n",
    "    if not initial.exists(int(keyframe2)):\n",
    "        prev_pose = initial.atPose3(int(keyframe1))\n",
    "        initial.insert(int(keyframe2), prev_pose.compose(relative_pose))\n",
    "\n",
    "# Optimize\n",
    "params = gtsam.DoglegParams()\n",
    "params.setMaxIterations(100)\n",
    "params.setVerbosity(\"Termination\")\n",
    "optimizer = gtsam.DoglegOptimizer(graph, initial, params)\n",
    "result = optimizer.optimize()\n",
    "\n",
    "# Print results\n",
    "# for i in range(len(constraints) + 1):\n",
    "#     print(f\"Pose {i}: {result.atPose3(i)}\")\n"
   ]
  },
  {
   "cell_type": "code",
   "execution_count": 640,
   "id": "c9e579e7",
   "metadata": {},
   "outputs": [
    {
     "ename": "RuntimeError",
     "evalue": "Attempting to at the key \"1\", which does not exist in the Values.",
     "output_type": "error",
     "traceback": [
      "\u001b[0;31m---------------------------------------------------------------------------\u001b[0m",
      "\u001b[0;31mRuntimeError\u001b[0m                              Traceback (most recent call last)",
      "Cell \u001b[0;32mIn[640], line 6\u001b[0m\n\u001b[1;32m      4\u001b[0m plt1 \u001b[38;5;241m=\u001b[39m Plotter(N \u001b[38;5;241m=\u001b[39m \u001b[38;5;241m1\u001b[39m, axes \u001b[38;5;241m=\u001b[39m \u001b[38;5;241m1\u001b[39m, bg \u001b[38;5;241m=\u001b[39m(\u001b[38;5;241m1\u001b[39m, \u001b[38;5;241m1\u001b[39m, \u001b[38;5;241m1\u001b[39m), interactive \u001b[38;5;241m=\u001b[39m \u001b[38;5;28;01mTrue\u001b[39;00m) \u001b[38;5;66;03m#ax=7 gives rulers\u001b[39;00m\n\u001b[1;32m      5\u001b[0m disp \u001b[38;5;241m=\u001b[39m []\n\u001b[0;32m----> 6\u001b[0m disp \u001b[38;5;241m=\u001b[39m \u001b[43mplot_results\u001b[49m\u001b[43m(\u001b[49m\u001b[43mdisp\u001b[49m\u001b[43m,\u001b[49m\u001b[43m \u001b[49m\u001b[43mresult\u001b[49m\u001b[43m,\u001b[49m\u001b[43m \u001b[49m\u001b[43mij\u001b[49m\u001b[43m,\u001b[49m\u001b[43m \u001b[49m\u001b[43mdraw_axis\u001b[49m\u001b[38;5;241;43m=\u001b[39;49m\u001b[38;5;28;43;01mTrue\u001b[39;49;00m\u001b[43m)\u001b[49m \u001b[38;5;66;03m#draw without ellipsoids\u001b[39;00m\n\u001b[1;32m      7\u001b[0m \u001b[38;5;66;03m# disp = plot_results(disp, result, ij, marginals, draw_axis = True) #draws covarince ellipsoids\u001b[39;00m\n\u001b[1;32m      8\u001b[0m plt1\u001b[38;5;241m.\u001b[39mshow(disp, \u001b[38;5;124m\"\u001b[39m\u001b[38;5;124mFactor Graph Optmized Poses\u001b[39m\u001b[38;5;124m\"\u001b[39m)\n",
      "File \u001b[0;32m~/ROS/src/woodhouse/notebooks/pose_graph_utils.py:423\u001b[0m, in \u001b[0;36mplot_results\u001b[0;34m(disp, result, ij, marginals, draw_axis)\u001b[0m\n\u001b[1;32m    419\u001b[0m         \u001b[38;5;66;03m#TODO: plot last ellispe\u001b[39;00m\n\u001b[1;32m    420\u001b[0m         \n\u001b[1;32m    421\u001b[0m \u001b[38;5;66;03m#draw constraints using ij\u001b[39;00m\n\u001b[1;32m    422\u001b[0m \u001b[38;5;28;01mfor\u001b[39;00m c \u001b[38;5;129;01min\u001b[39;00m \u001b[38;5;28mrange\u001b[39m(\u001b[38;5;241m1\u001b[39m,\u001b[38;5;28mlen\u001b[39m(ij)):\n\u001b[0;32m--> 423\u001b[0m     pt1 \u001b[38;5;241m=\u001b[39m \u001b[43mresult\u001b[49m\u001b[38;5;241;43m.\u001b[39;49m\u001b[43matPose3\u001b[49m\u001b[43m(\u001b[49m\u001b[43mij\u001b[49m\u001b[43m[\u001b[49m\u001b[43mc\u001b[49m\u001b[43m,\u001b[49m\u001b[38;5;241;43m0\u001b[39;49m\u001b[43m]\u001b[49m\u001b[43m)\u001b[49m\u001b[38;5;241m.\u001b[39mtranslation()   \u001b[38;5;66;03m#get coords of results i and j \u001b[39;00m\n\u001b[1;32m    424\u001b[0m     pt2 \u001b[38;5;241m=\u001b[39m result\u001b[38;5;241m.\u001b[39matPose3(ij[c,\u001b[38;5;241m1\u001b[39m])\u001b[38;5;241m.\u001b[39mtranslation()\n\u001b[1;32m    425\u001b[0m     L \u001b[38;5;241m=\u001b[39m Line(p0 \u001b[38;5;241m=\u001b[39m pt1, p1 \u001b[38;5;241m=\u001b[39m pt2, lw \u001b[38;5;241m=\u001b[39m \u001b[38;5;241m1\u001b[39m)\n",
      "\u001b[0;31mRuntimeError\u001b[0m: Attempting to at the key \"1\", which does not exist in the Values."
     ]
    }
   ],
   "source": [
    "from pose_graph_utils import *\n",
    "\n",
    "#Plot results\n",
    "plt1 = Plotter(N = 1, axes = 1, bg =(1, 1, 1), interactive = True) #ax=7 gives rulers\n",
    "disp = []\n",
    "disp = plot_results(disp, result, ij, draw_axis=True) #draw without ellipsoids\n",
    "# disp = plot_results(disp, result, ij, marginals, draw_axis = True) #draws covarince ellipsoids\n",
    "plt1.show(disp, \"Factor Graph Optmized Poses\")"
   ]
  },
  {
   "cell_type": "markdown",
   "id": "75c113b3",
   "metadata": {},
   "source": [
    "# Detect bad factors and run again"
   ]
  },
  {
   "cell_type": "code",
   "execution_count": 641,
   "id": "961f68cf",
   "metadata": {
    "scrolled": true
   },
   "outputs": [
    {
     "name": "stdout",
     "output_type": "stream",
     "text": [
      "Bad loop closure detected: 31 -> 17 (Mahalanobis dist: 271.44)\n",
      "Bad loop closure detected: 60 -> 14 (Mahalanobis dist: 64.02)\n",
      "Bad loop closure detected: 122 -> 104 (Mahalanobis dist: 118.84)\n",
      "Bad loop closure detected: 125 -> 104 (Mahalanobis dist: 68.74)\n"
     ]
    }
   ],
   "source": [
    "#Only works with batch optimized graph (iSAM2 doesn't retain internal state in the same way)\n",
    "def mahalanobis_distance(error, covariance):\n",
    "    \"\"\"Compute the Mahalanobis distance.\"\"\"\n",
    "    return error.T @ np.linalg.inv(covariance) @ error\n",
    "\n",
    "def detect_bad_loop_closures(graph, result, threshold=20.0):\n",
    "    bad_factors = []\n",
    "    for i in range(graph.size()):\n",
    "        factor = graph.at(i) \n",
    "        if isinstance(factor, gtsam.BetweenFactorPose3):\n",
    "            key1, key2 = factor.keys()\n",
    "\n",
    "            # Compute expected relative pose based on current estimate\n",
    "            expected_pose = result.atPose3(key1).between(result.atPose3(key2))\n",
    "            measured_pose = factor.measured()\n",
    "            \n",
    "            # Compute the relative transformation error\n",
    "            error = gtsam.Pose3.Logmap(measured_pose.inverse() * expected_pose)\n",
    "\n",
    "            # Get covariance from noise model\n",
    "            covariance = factor.noiseModel().covariance()\n",
    "\n",
    "            # Compute Mahalanobis distance\n",
    "            mdist = mahalanobis_distance(error, covariance)\n",
    "\n",
    "            if mdist > threshold:\n",
    "                print(f\"Bad loop closure detected: {key1} -> {key2} (Mahalanobis dist: {mdist:.2f})\")\n",
    "                bad_factors.append(i)  # Store index of the bad factor\n",
    "    return bad_factors\n",
    "\n",
    "def optimize_slam(graph, initial_estimate, thresh = 20.):\n",
    "    \"\"\"Optimize the SLAM graph and remove bad loop closures based on Mahalanobis distance.\"\"\"\n",
    "    optimizer = gtsam.LevenbergMarquardtOptimizer(graph, initial_estimate)\n",
    "    result = optimizer.optimize()\n",
    "\n",
    "    # Detect bad loop closures\n",
    "    bad_factors = detect_bad_loop_closures(graph, result, thresh)\n",
    "\n",
    "    if bad_factors:\n",
    "        # Remove bad constraints\n",
    "        new_graph = gtsam.NonlinearFactorGraph()\n",
    "        for i in range(graph.size()):\n",
    "            if i not in bad_factors:\n",
    "                new_graph.add(graph.at(i))\n",
    "\n",
    "        # Re-optimize with cleaned graph\n",
    "        optimizer = gtsam.LevenbergMarquardtOptimizer(new_graph, initial_estimate)\n",
    "        result = optimizer.optimize()\n",
    "\n",
    "    return result\n",
    "\n",
    "# Initialize estimates for keyframe positions from initial graph convergence\n",
    "initial_estimate = gtsam.Values()\n",
    "current_pose = gtsam.Pose3()\n",
    "for i in range(graph.size()):\n",
    "    factor = graph.at(i)\n",
    "    if isinstance(factor, gtsam.BetweenFactorPose3):\n",
    "        key1, key2 = factor.keys()  # Get the keys\n",
    "\n",
    "        if not initial_estimate.exists(key1):  # Insert key1 if not already present\n",
    "            initial_estimate.insert(key1, current_pose)\n",
    "\n",
    "        # Apply odometry to get next pose\n",
    "        current_pose = current_pose.compose(factor.measured())\n",
    "\n",
    "        if not initial_estimate.exists(key2):  # FIX: Check before inserting key2\n",
    "            initial_estimate.insert(key2, current_pose)\n",
    "\n",
    "thresh = 50 #too low and we lose connectivity in our odometry chain\n",
    "result = optimize_slam(graph, initial_estimate, thresh)"
   ]
  },
  {
   "cell_type": "markdown",
   "id": "5d46e2e6",
   "metadata": {},
   "source": [
    "# Draw Keyframe Clouds on Optimized Trajectory "
   ]
  },
  {
   "cell_type": "code",
   "execution_count": 720,
   "id": "f9e9c73b",
   "metadata": {
    "scrolled": true
   },
   "outputs": [
    {
     "name": "stderr",
     "output_type": "stream",
     "text": [
      "\u001b[1m[vedo.plotter.py:3439] INFO: Closing window now. Plotter.escaped is set to True.\u001b[0m\n"
     ]
    },
    {
     "data": {
      "text/plain": [
       "<vedo.plotter.Plotter at 0x7ff18a56df40>"
      ]
     },
     "execution_count": 720,
     "metadata": {},
     "output_type": "execute_result"
    }
   ],
   "source": [
    "plt1 = Plotter(N = 1, axes = 0, bg =(1, 1, 1), interactive = True) #ax=7 gives rulers\n",
    "disp = []\n",
    "\n",
    "for i in range(2,result.size(), 3):\n",
    "# for i in range(2,20):\n",
    "    t = result.atPose3(i).matrix()\n",
    "    pc = np.loadtxt(\"keyframe_\" + str(i+1) + \".csv\",delimiter=\",\")\n",
    "    pc4 = np.append(pc, np.ones([len(pc),1]), axis = 1)\n",
    "    pc_wf = (t @ pc4.T).T    \n",
    "    disp.append(Points(pc_wf[:,:3], c = 'gray', r=3, alpha = 0.05))\n",
    "    disp.append(Points(t[:3,-1][None,:], c = 'red', r = 10))\n",
    "\n",
    "plt1.show(disp, \"Drawing Optimized Map\")"
   ]
  },
  {
   "cell_type": "markdown",
   "id": "9983bd1c",
   "metadata": {},
   "source": [
    "# Repeat with incramental iSAM2 graph"
   ]
  },
  {
   "cell_type": "code",
   "execution_count": 717,
   "id": "7a87a5e6",
   "metadata": {},
   "outputs": [],
   "source": [
    "OH = np.zeros([len(sr_raw)+len(lc_raw),8])\n",
    "# OH = np.zeros([len(sr_raw)+len(lc_raw)+len(odom_raw)-1,8])\n",
    "for i in range(len(sr_raw)):\n",
    "    OH[i,:3] = sr_raw[i,2:5]\n",
    "    OH[i,3:6] = R.from_quat(sr_raw[i,5:]).as_euler('xyz')\n",
    "    OH[i,6] = sr_raw[i,0] - 1\n",
    "    OH[i,7] = sr_raw[i,1] - 1\n",
    "for j in range(len(lc_raw)-1):\n",
    "#     OLD-- not matching up with true trajectory(?)\n",
    "    OH[len(sr_raw)+j,:3] = lc_raw[j,2:5]\n",
    "    OH[len(sr_raw)+j,3:6] = R.from_quat(lc_raw[j,5:]).as_euler('xyz')\n",
    "    OH[len(sr_raw)+j,6] = lc_raw[j,0] - 1\n",
    "    OH[len(sr_raw)+j,7] = lc_raw[j,1] - 1\n",
    "\n",
    "odometry_history = OH\n",
    "pred_stds_history = np.tile(np.array([[0.01, 0.01, 0.01, 1e-2, 1e-2, 1e-2]]), (len(odometry_history),1))\n",
    "\n",
    "pred_stds_history[len(sr_raw):,:] *= 10 #make loop closure constraints way higher covariance\n",
    "\n",
    "pred_stds_history = np.append(pred_stds_history, odometry_history[:,-2:], axis = 1)\n",
    "ij = odometry_history[:,-2:].astype(np.int32)"
   ]
  },
  {
   "cell_type": "code",
   "execution_count": 718,
   "id": "c3cd91bf",
   "metadata": {},
   "outputs": [],
   "source": [
    "#incramental optimization with iSAM2\n",
    "# Example constraint array: [x, y, z, roll, pitch, yaw, keyframe_idx1, keyframe_idx2]\n",
    "constraints = odometry_history.copy()\n",
    "\n",
    "# Initialize iSAM2\n",
    "parameters = gtsam.ISAM2Params()\n",
    "isam = gtsam.ISAM2(parameters)\n",
    "\n",
    "# Initialize factor graph and values\n",
    "graph = gtsam.NonlinearFactorGraph()\n",
    "initial = gtsam.Values()\n",
    "\n",
    "# Add a prior on the first keyframe to anchor the solution\n",
    "prior_noise = gtsam.noiseModel.Diagonal.Sigmas([1e-3] * 6)  # Small uncertainty\n",
    "# pose_prior = Pose3(Rot3.Identity(), Point3(0, 0, 0))\n",
    "pose_prior = Pose3(Rot3.identity(), Point3(0, 0, 0))\n",
    "graph.add(gtsam.PriorFactorPose3(0, pose_prior, prior_noise))\n",
    "initial.insert(0, pose_prior)  # Insert first keyframe\n",
    "\n",
    "# Apply first update to initialize iSAM2\n",
    "isam.update(graph, initial)\n",
    "graph.resize(0)  # Clear graph after update\n",
    "initial.clear()  # Clear values after inserting into iSAM2\n",
    "\n",
    "# Process constraints iteratively\n",
    "# for row in constraints:\n",
    "for i, row in enumerate(constraints):\n",
    "    x, y, z, roll, pitch, yaw, keyframe1, keyframe2 = row\n",
    "    x *= -1\n",
    "    y *= -1\n",
    "    z *= -1\n",
    "    roll *= -1\n",
    "    pitch *= -1\n",
    "    yaw *= -1  \n",
    "\n",
    "    # Convert to Pose3 transformation\n",
    "    rot = Rot3.Ypr(yaw, pitch, roll)  # YPR order (Yaw-Pitch-Roll)\n",
    "    relative_pose = Pose3(rot, Point3(x, y, z))\n",
    "\n",
    "    # Define a noise model\n",
    "#     constraint_noise = gtsam.noiseModel.Diagonal.Sigmas([0.1] * 6) #uniform\n",
    "    constraint_noise = gtsam.noiseModel.Diagonal.Sigmas([pred_stds_history[i,0], \n",
    "                                                         pred_stds_history[i,1], \n",
    "                                                         pred_stds_history[i,2], \n",
    "                                                         pred_stds_history[i,3], \n",
    "                                                         pred_stds_history[i,4], \n",
    "                                                         pred_stds_history[i,5]])  \n",
    "\n",
    "\n",
    "    # Add BetweenFactorPose3 to graph\n",
    "    graph.add(gtsam.BetweenFactorPose3(int(keyframe1), int(keyframe2), relative_pose, constraint_noise))\n",
    "\n",
    "    # Prepare new values for iSAM2\n",
    "    new_values = gtsam.Values()\n",
    "    if not isam.valueExists(int(keyframe2)):  # Check if keyframe2 is new\n",
    "        prev_pose = isam.calculateEstimate().atPose3(int(keyframe1))  # Get latest estimate\n",
    "        new_values.insert(int(keyframe2), prev_pose.compose(relative_pose))\n",
    "\n",
    "    # Update iSAM2 incrementally\n",
    "    isam.update(graph, new_values)\n",
    "    \n",
    "    # Clear graph & values after update (iSAM2 retains internal state)\n",
    "    graph.resize(0)\n",
    "    new_values.clear()\n",
    "\n",
    "result = isam.calculateEstimate()\n",
    "# for i in range(int(np.max(constraints)) + 1):\n",
    "#     print(f\"Pose {i}: {result.atPose3(i)}\")"
   ]
  },
  {
   "cell_type": "code",
   "execution_count": 719,
   "id": "74dd1b5f",
   "metadata": {},
   "outputs": [
    {
     "name": "stderr",
     "output_type": "stream",
     "text": [
      "\u001b[1m[vedo.plotter.py:3439] INFO: Closing window now. Plotter.escaped is set to True.\u001b[0m\n"
     ]
    },
    {
     "data": {
      "text/plain": [
       "<vedo.plotter.Plotter at 0x7ff18a589910>"
      ]
     },
     "execution_count": 719,
     "metadata": {},
     "output_type": "execute_result"
    }
   ],
   "source": [
    "#Plot (initial) results\n",
    "plt1 = Plotter(N = 1, axes = 1, bg =(1, 1, 1), interactive = True) #ax=7 gives rulers\n",
    "disp = []\n",
    "disp = plot_results(disp, result, ij, draw_axis=True) #draw without ellipsoids\n",
    "# disp = plot_results(disp, result, ij, marginals, draw_axis = True) #draws covarince ellipsoids\n",
    "plt1.show(disp, \"Factor Graph Optmized Poses\")"
   ]
  },
  {
   "cell_type": "code",
   "execution_count": 561,
   "id": "6fa6e0fa",
   "metadata": {},
   "outputs": [
    {
     "name": "stdout",
     "output_type": "stream",
     "text": [
      "[[  4.   1.]\n",
      " [  2.   1.]\n",
      " [  3.   1.]\n",
      " [  6.   1.]\n",
      " [  3.   1.]\n",
      " [  3.   1.]\n",
      " [  4.   1.]\n",
      " [ 25.  15.]\n",
      " [ 13.  10.]\n",
      " [  2.   1.]\n",
      " [  5.   1.]\n",
      " [  3.   1.]\n",
      " [  4.   1.]\n",
      " [ 27.  15.]\n",
      " [ 14.  11.]\n",
      " [  3.   1.]\n",
      " [  3.   1.]\n",
      " [  4.   1.]\n",
      " [ 15.  12.]\n",
      " [ 15.  12.]\n",
      " [  2.   1.]\n",
      " [  5.   1.]\n",
      " [ 17.  14.]\n",
      " [ 15.  12.]\n",
      " [ 17.  14.]\n",
      " [  4.   1.]\n",
      " [ 13.  10.]\n",
      " [  3.   1.]\n",
      " [  4.   1.]\n",
      " [ 13.  10.]\n",
      " [ 13.  10.]\n",
      " [  3.   1.]\n",
      " [  4.   1.]\n",
      " [  3.   1.]\n",
      " [  2.   1.]\n",
      " [ 16.  13.]\n",
      " [ 15.  11.]\n",
      " [ 14.  11.]\n",
      " [ 14.  11.]\n",
      " [ 24.  14.]\n",
      " [ 17.  14.]\n",
      " [  6.   1.]\n",
      " [  3.   1.]\n",
      " [ 41.  31.]\n",
      " [ 15.  11.]\n",
      " [  4.   1.]\n",
      " [ 27.  16.]\n",
      " [ 17.  14.]\n",
      " [ 26.  15.]\n",
      " [  3.   1.]\n",
      " [ 13.  10.]\n",
      " [  6.   1.]\n",
      " [ 26.  15.]\n",
      " [  2.   1.]\n",
      " [ 17.  14.]\n",
      " [ 24.  14.]\n",
      " [ 31.  29.]\n",
      " [  2.   1.]\n",
      " [ 23.  13.]\n",
      " [ 17.  14.]\n",
      " [ 26.  15.]\n",
      " [ 26.  15.]\n",
      " [ 26.  15.]\n",
      " [ 24.  14.]\n",
      " [ 27.  16.]\n",
      " [ 27.  16.]\n",
      " [ 36.  31.]\n",
      " [ 26.  15.]\n",
      " [ 15.  11.]\n",
      " [ 16.  13.]\n",
      " [ 23.  13.]\n",
      " [ 25.  14.]\n",
      " [ 14.  11.]\n",
      " [  3.   1.]\n",
      " [ 25.  14.]\n",
      " [  2.   1.]\n",
      " [ 25.  14.]\n",
      " [  4.   1.]\n",
      " [ 15.  11.]\n",
      " [ 24.  14.]\n",
      " [ 15.  11.]\n",
      " [  3.   1.]\n",
      " [ 14.  11.]\n",
      " [ 31.  29.]\n",
      " [ 25.  14.]\n",
      " [ 61.  11.]\n",
      " [ 26.  15.]\n",
      " [ 23.  13.]\n",
      " [  2.   1.]\n",
      " [ 23.  13.]\n",
      " [  2.   1.]\n",
      " [ 13.  10.]\n",
      " [ 27.  16.]\n",
      " [  4.   1.]\n",
      " [ 14.  10.]\n",
      " [  6.   1.]\n",
      " [ 16.  13.]\n",
      " [ 25.  14.]\n",
      " [  4.   1.]\n",
      " [ 25.  14.]\n",
      " [ 23.  13.]\n",
      " [  4.   1.]\n",
      " [  3.   1.]\n",
      " [ 23.  13.]\n",
      " [ 26.  15.]\n",
      " [  5.   1.]\n",
      " [  2.   1.]\n",
      " [  4.   1.]\n",
      " [  2.   1.]\n",
      " [  2.   1.]\n",
      " [ 16.  13.]\n",
      " [  3.   1.]\n",
      " [ 25.  14.]\n",
      " [ 17.  14.]\n",
      " [  3.   1.]\n",
      " [  2.   1.]\n",
      " [ 70.  68.]\n",
      " [ 13.  10.]\n",
      " [ 14.  10.]\n",
      " [ 13.  10.]\n",
      " [ 24.  13.]\n",
      " [ 71.  69.]\n",
      " [ 70.  68.]\n",
      " [ 25.  14.]\n",
      " [  3.   1.]\n",
      " [ 13.  10.]\n",
      " [ 13.  10.]\n",
      " [ 16.  13.]\n",
      " [  2.   1.]\n",
      " [  4.   1.]\n",
      " [  3.   1.]\n",
      " [ 23.  13.]\n",
      " [ 16.  13.]\n",
      " [ 15.  11.]\n",
      " [  3.   1.]\n",
      " [  2.   1.]\n",
      " [ 71.  69.]\n",
      " [ 26.  15.]\n",
      " [  6.   1.]\n",
      " [  6.   1.]\n",
      " [ 15.  11.]\n",
      " [ 23.  13.]\n",
      " [ 17.  14.]\n",
      " [ 69.  67.]\n",
      " [100.  71.]\n",
      " [ 70.  68.]\n",
      " [ 73.  70.]\n",
      " [118. 106.]\n",
      " [  3.   1.]\n",
      " [ 23.  13.]\n",
      " [103. 100.]\n",
      " [ 12.   7.]\n",
      " [122. 104.]\n",
      " [ 24.  13.]\n",
      " [ 16.  13.]\n",
      " [ 17.  14.]\n",
      " [104. 101.]\n",
      " [107. 105.]\n",
      " [106. 104.]\n",
      " [129. 102.]\n",
      " [ 73.  70.]\n",
      " [ 23.  13.]\n",
      " [ 24.  13.]\n",
      " [131. 101.]\n",
      " [ 71.  69.]\n",
      " [ 71.  69.]\n",
      " [ 23.  13.]\n",
      " [ 23.  13.]\n",
      " [108. 106.]\n",
      " [ 71.  69.]\n",
      " [139.  67.]\n",
      " [ 66.  64.]\n",
      " [ 16.  13.]\n",
      " [ 23.  13.]\n",
      " [  4.   1.]\n",
      " [ 25.  14.]\n",
      " [  3.   1.]\n",
      " [108. 106.]\n",
      " [  3.   1.]\n",
      " [106. 104.]\n",
      " [143.   8.]\n",
      " [ 26.  15.]\n",
      " [144.   8.]\n",
      " [145.   3.]\n",
      " [146.   3.]\n",
      " [ 24.  13.]\n",
      " [147.   2.]\n",
      " [103. 100.]\n",
      " [ 16.  13.]]\n"
     ]
    }
   ],
   "source": [
    "print(lc_raw[:,:2])"
   ]
  },
  {
   "cell_type": "markdown",
   "id": "9e1ce7e0",
   "metadata": {},
   "source": [
    "# TODO-- find nearby keyframes not already in graph, use ICP to generate new loop closures"
   ]
  },
  {
   "cell_type": "code",
   "execution_count": null,
   "id": "d72355c2",
   "metadata": {},
   "outputs": [],
   "source": [
    "skip_n = 10 #don't try do to loop closure constraints if we're less than this far apart\n",
    "search_thresh = 1.\n",
    "to_close = [] #keyframes that we should be able to add constraints for (they are close according to initial graph)\n",
    "seeds = np.zeros([0,6]) #seeds for initial registration of scan j to scan i [x, y, z, r, p, y]\n",
    "#loop through constraints (skip first?)\n",
    "for i in range(1,np.max(ij)):\n",
    "    ci = result.atPose3(i).translation() #center i\n",
    "    for j in range(i+skip_n, np.max(ij)+1):\n",
    "        cj = result.atPose3(j).translation() #center j\n",
    "        d = sqrt(sum((ci-cj)**2))\n",
    "        if d < search_thresh:\n",
    "            to_close.append([i,j])\n",
    "            rotm_i = result.atPose3(i).matrix()\n",
    "            rotm_j = result.atPose3(j).matrix()\n",
    "            rotm_relative = np.linalg.pinv(rotm_i) @ rotm_j\n",
    "            rpy = R.from_matrix(rotm_relative[:3,:3]).as_euler('xyz')\n",
    "            seed = np.array([[rotm_relative[0,-1], rotm_relative[1,-1], rotm_relative[2,-1], rpy[0], rpy[1], rpy[2]]])\n",
    "            seeds = np.append(seeds, seed, axis = 0)\n",
    "            \n",
    "print(len(to_close))\n",
    "print(to_close)\n",
    "print(seeds[20])"
   ]
  },
  {
   "cell_type": "code",
   "execution_count": null,
   "id": "8875bd06",
   "metadata": {},
   "outputs": [],
   "source": [
    "#debug initial seeds for loop closure\n",
    "idx = 100\n",
    "print(to_close[idx])\n",
    "print(seeds[idx])\n",
    "\n",
    "fn1 = \"apartment/keyframe_\" + str(to_close[idx][0]+1) + \".csv\"\n",
    "fn2 = \"apartment/keyframe_\" + str(to_close[idx][1]+1) + \".csv\"\n",
    "# fn1 = \"keyframe_\" + str(to_close[idx][0]+1) + \".csv\"\n",
    "# fn2 = \"keyframe_\" + str(to_close[idx][1]+1) + \".csv\"\n",
    "pc1 = np.loadtxt(fn1, delimiter=\",\")\n",
    "pc2 = np.loadtxt(fn2, delimiter=\",\")\n",
    "\n",
    "plt = Plotter(N = 1, axes = 0, bg = (0.2, 0.2, 0.2), interactive = True)\n",
    "disp = []\n",
    "p2_p1f_lc = (pc2 - seeds[idx,:3]) @ R.from_euler('xyz',-seeds[idx,3:]).as_matrix()\n",
    "disp.append(Points(p2_p1f_lc, c = 'green', r = 3, alpha = 0.5))\n",
    "\n",
    "disp.append(Points(pc1, c = 'red', r = 3, alpha = 0.5))\n",
    "disp.append(Points(pc2, c = 'blue', r = 3, alpha = 0.5))\n",
    "plt.show(disp, \"using graph solution to seed ICP for generating new constraints\") "
   ]
  },
  {
   "cell_type": "code",
   "execution_count": null,
   "id": "c04c9d40",
   "metadata": {
    "scrolled": true
   },
   "outputs": [],
   "source": [
    "#remove bad factors\n",
    "import gtsam\n",
    "import numpy as np\n",
    "from gtsam import Pose3, Rot3, Point3\n",
    "\n",
    "def detect_bad_loop_closures(added_factors, result, threshold=20.0):\n",
    "    \"\"\"Detect loop closures with high Mahalanobis distance.\"\"\"\n",
    "    bad_factors = []\n",
    "    \n",
    "    for i, factor in enumerate(added_factors):\n",
    "        if isinstance(factor, gtsam.BetweenFactorPose3):\n",
    "            key1, key2 = factor.keys()\n",
    "            \n",
    "            # Get poses from the result\n",
    "            pose1 = result.atPose3(key1)\n",
    "            pose2 = result.atPose3(key2)\n",
    "            \n",
    "            # Get the measured relative pose from the factor\n",
    "            measured_pose = factor.measured()\n",
    "            \n",
    "            # Compute the expected relative pose based on current estimate\n",
    "            expected_pose = pose1.between(pose2)\n",
    "            \n",
    "            # Compute error: difference between measured and expected\n",
    "            error = gtsam.Pose3.Logmap(measured_pose.between(expected_pose.inverse()))\n",
    "            \n",
    "            # Convert GTSAM vector to numpy array\n",
    "            error_np = np.array([error[i] for i in range(6)])\n",
    "            \n",
    "            # Get the noise model from the factor\n",
    "            noise_model = factor.noiseModel()\n",
    "            \n",
    "            # Convert information matrix to covariance\n",
    "            # For a Diagonal noise model, we can use:\n",
    "            if isinstance(noise_model, gtsam.noiseModel.Diagonal):\n",
    "                # Get sigmas (square root of diagonal of covariance)\n",
    "                sigmas = np.array([noise_model.sigmas()[i] for i in range(6)])\n",
    "                # Square to get variances\n",
    "                variances = sigmas ** 2\n",
    "                # Create diagonal covariance matrix\n",
    "                covariance = np.diag(variances)\n",
    "            else:\n",
    "                # For other noise models, this is an approximation\n",
    "                info = np.eye(6)  # Default to identity if we can't get info matrix\n",
    "                covariance = np.linalg.inv(info)\n",
    "            \n",
    "            # Compute Mahalanobis distance\n",
    "            mdist = np.sqrt(error_np.T @ np.linalg.inv(covariance) @ error_np)\n",
    "            \n",
    "            if mdist > threshold:\n",
    "                print(f\"Bad loop closure detected: {key1} -> {key2} (Mahalanobis dist: {mdist:.2f})\")\n",
    "                bad_factors.append(i)  # Store index of the bad factor\n",
    "    \n",
    "    return bad_factors\n",
    "\n",
    "#DEBUG HERE~~~~~~~~~~~~~~~~~~~~~~~~~\n",
    "# Initialize iSAM2 and other structures\n",
    "parameters = gtsam.ISAM2Params()\n",
    "isam = gtsam.ISAM2(parameters)\n",
    "\n",
    "# Initialize the graph and initial values\n",
    "graph = gtsam.NonlinearFactorGraph()\n",
    "initial = gtsam.Values()\n",
    "added_factors = []  # List to keep track of the added factors\n",
    "\n",
    "# Identify the first keyframe appearing in constraints (get the min keyframe)\n",
    "first_keyframe = min(int(row[6]) for row in odometry_history)\n",
    "\n",
    "# Add a prior on the first keyframe to anchor the solution\n",
    "prior_noise = gtsam.noiseModel.Diagonal.Sigmas([1e-3] * 6)  # Small uncertainty\n",
    "pose_prior = gtsam.Pose3(gtsam.Rot3.Identity(), gtsam.Point3(0, 0, 0))\n",
    "graph.add(gtsam.PriorFactorPose3(first_keyframe, pose_prior, prior_noise))\n",
    "initial.insert(first_keyframe, pose_prior)  # Make sure the first keyframe is initialized\n",
    "\n",
    "# Now, process the constraints and add them incrementally\n",
    "for row in odometry_history:\n",
    "    x, y, z, roll, pitch, yaw, keyframe1, keyframe2 = row\n",
    "    x *= -1\n",
    "    y *= -1\n",
    "    z *= -1\n",
    "    roll *= -1\n",
    "    pitch *= -1\n",
    "    yaw *= -1  \n",
    "    \n",
    "    keyframe1, keyframe2 = int(keyframe1), int(keyframe2)\n",
    "\n",
    "    # Ensure keyframe1 is initialized before we process the constraint\n",
    "    if not initial.exists(keyframe1):\n",
    "        print(f\"Skipping constraint {keyframe1} -> {keyframe2} (keyframe1 not initialized yet)\")\n",
    "        continue  # Skip this constraint if keyframe1 is not initialized yet\n",
    "\n",
    "    # Convert to Pose3 transformation\n",
    "    rot = gtsam.Rot3.Ypr(yaw, pitch, roll)\n",
    "    relative_pose = gtsam.Pose3(rot, gtsam.Point3(x, y, z))\n",
    "\n",
    "    # Define a noise model for the constraint\n",
    "    constraint_noise = gtsam.noiseModel.Diagonal.Sigmas([0.1] * 6)\n",
    "\n",
    "    # Add the BetweenFactorPose3 constraint\n",
    "    factor = gtsam.BetweenFactorPose3(keyframe1, keyframe2, relative_pose, constraint_noise)\n",
    "    graph.add(factor)\n",
    "    added_factors.append(factor)\n",
    "\n",
    "    # Initialize keyframe2 if not already present\n",
    "    if not initial.exists(keyframe2):\n",
    "        prev_pose = initial.atPose3(keyframe1)  # This will now always exist\n",
    "        new_pose = prev_pose.compose(relative_pose)\n",
    "        initial.insert(keyframe2, new_pose)\n",
    "\n",
    "# Update iSAM2 incrementally with the factors and initial values\n",
    "isam.update(graph, initial)\n",
    "\n",
    "# Now, calculate the current estimate using iSAM2\n",
    "result = isam.calculateEstimate()\n",
    "\n",
    "# Clear graph and initial values after update (iSAM2 retains internal state)\n",
    "graph = gtsam.NonlinearFactorGraph()\n",
    "initial = gtsam.Values()\n",
    "\n",
    "# After optimization, detect and remove bad loop closures\n",
    "thresh = 20  # Threshold for bad loop closures\n",
    "bad_factors = detect_bad_loop_closures(added_factors, result, thresh)\n",
    "print(bad_factors)\n",
    "# After detecting bad loop closures\n",
    "if bad_factors:\n",
    "    print(f\"Removing {len(bad_factors)} bad constraints and re-optimizing...\")\n",
    "\n",
    "    # Rebuild the graph without the bad factors\n",
    "    graph = gtsam.NonlinearFactorGraph()\n",
    "    new_factors = [f for i, f in enumerate(added_factors) if i not in bad_factors]\n",
    "    \n",
    "    # Add prior factor to anchor the solution\n",
    "    graph.add(gtsam.PriorFactorPose3(first_keyframe, pose_prior, prior_noise))\n",
    "    \n",
    "    # Add the good factors back to the graph\n",
    "    for factor in new_factors:\n",
    "        graph.add(factor)\n",
    "\n",
    "    # Start with the first keyframe as initial value\n",
    "    initial = gtsam.Values()\n",
    "    initial.insert(first_keyframe, pose_prior)\n",
    "    \n",
    "    # Initialize other keyframes based on good constraints\n",
    "    initialized_keys = {first_keyframe}\n",
    "    \n",
    "    # Keep trying to initialize keyframes until no more can be initialized\n",
    "    progress = True\n",
    "    while progress:\n",
    "        progress = False\n",
    "        for factor in new_factors:\n",
    "            if isinstance(factor, gtsam.BetweenFactorPose3):\n",
    "                key1, key2 = factor.keys()\n",
    "                \n",
    "                # If key1 is initialized but key2 is not\n",
    "                if key1 in initialized_keys and key2 not in initialized_keys:\n",
    "                    prev_pose = initial.atPose3(key1)\n",
    "                    new_pose = prev_pose.compose(factor.measured())\n",
    "                    initial.insert(key2, new_pose)\n",
    "                    initialized_keys.add(key2)\n",
    "                    progress = True\n",
    "                \n",
    "                # If key2 is initialized but key1 is not\n",
    "                elif key2 in initialized_keys and key1 not in initialized_keys:\n",
    "                    prev_pose = initial.atPose3(key2)\n",
    "                    new_pose = prev_pose.compose(factor.measured().inverse())\n",
    "                    initial.insert(key1, new_pose)\n",
    "                    initialized_keys.add(key1)\n",
    "                    progress = True\n",
    "    \n",
    "    # Re-initialize iSAM2 with the cleaned graph and initial estimate\n",
    "    isam = gtsam.ISAM2(parameters)\n",
    "    isam.update(graph, initial)\n",
    "    result = isam.calculateEstimate()\n",
    "\n",
    "# # Print final poses for debugging\n",
    "# for i in range(len(odometry_history) + 1):\n",
    "#     if result.exists(i):\n",
    "#         print(f\"Pose {i}: {result.atPose3(i)}\")"
   ]
  },
  {
   "cell_type": "code",
   "execution_count": null,
   "id": "0b79968b",
   "metadata": {},
   "outputs": [],
   "source": []
  },
  {
   "cell_type": "code",
   "execution_count": null,
   "id": "7be4f289",
   "metadata": {},
   "outputs": [],
   "source": []
  },
  {
   "cell_type": "code",
   "execution_count": null,
   "id": "158a4169",
   "metadata": {
    "scrolled": true
   },
   "outputs": [],
   "source": [
    "# print(graph.keys())\n",
    "# print(initial.keys())\n",
    "# print(initial)\n",
    "# print(graph.nrFactors)\n",
    "# graph.nrFactor\n",
    "# graph.print()"
   ]
  },
  {
   "cell_type": "code",
   "execution_count": null,
   "id": "2bd9918d",
   "metadata": {},
   "outputs": [],
   "source": [
    "# # Create an empty nonlinear factor graph\n",
    "# graph = gtsam.NonlinearFactorGraph() \n",
    "\n",
    "# # Add a prior on the first pose, setting it to the origin\n",
    "# priorRot = gtsam.Rot3(R_tf(np.array([0., 0., 0.])))\n",
    "# priorMean = gtsam.Pose3(priorRot, np.array([0., 0., .0])) #prior at nonzero pose\n",
    "# PRIOR_NOISE = gtsam.noiseModel.Diagonal.Sigmas(\n",
    "#     np.array([0.003, 0.003, 0.003, 1e-5, 1e-5, 1e-5], dtype = np.float64))\n",
    "# graph.add(gtsam.PriorFactorPose3(0, priorMean, PRIOR_NOISE)) #constrain first point at priorMean\n",
    "\n",
    "# #loop through all constraints \n",
    "# for i in range(len(ij)):\n",
    "#     rot = gtsam.Rot3(R_tf(odometry_history[i,3:7]))    #convert to Point3 strucutre\n",
    "#     transform = gtsam.Pose3(rot, odometry_history[i,:3])\n",
    "#     cov_estimate = gtsam.noiseModel.Diagonal.Sigmas(pred_stds_history[i,:-2])\n",
    "#     graph.add(gtsam.BetweenFactorPose3(ij[i,0], ij[i,1], transform, cov_estimate))\n",
    "\n",
    "# #set initial conditions\n",
    "# initial = gtsam.Values()\n",
    "# print(\"\\n graph size:\", graph.size(), \"max ij\", np.max(ij))\n",
    "# # for j in range(graph.size()):\n",
    "# for j in range(int(np.max(ij))+1):\n",
    "# #     init_rot = gtsam.Rot3(sr[j-1,:3,:3])\n",
    "# #     init_pose = gtsam.Pose3(init_rot, -sr[j-1,:3,3])\n",
    "#     init_rot = gtsam.Rot3(0.01*np.random.randn(3))\n",
    "# #     init_pose = gtsam.Pose3(init_rot, 1.*np.random.randn(3))\n",
    "#     init_pose = gtsam.Pose3(init_rot, j*odometry_history[i,:3])\n",
    "#     initial.insert(j, init_pose)\n",
    "    \n",
    "# # # optimize using Levenberg-Marquardt optimization\n",
    "# # # damped optimizer - seems to work much better here\n",
    "# # params = gtsam.LevenbergMarquardtParams()\n",
    "# # optimizer = gtsam.LevenbergMarquardtOptimizer(graph, initial, params)\n",
    "\n",
    "# # # simple gauss newton - kinda unreliable for high DOF problems (especially with zero initial conditions)\n",
    "# # params = gtsam.GaussNewtonParams()\n",
    "# # params.setVerbosity(\"Termination\")  # this will show info about stopping conds\n",
    "# # optimizer = gtsam.GaussNewtonOptimizer(graph, initial, params)\n",
    "\n",
    "# # dogleg\n",
    "# params = gtsam.DoglegParams()\n",
    "# params.setVerbosity(\"Termination\")\n",
    "# params.setMaxIterations(10)\n",
    "# optimizer = gtsam.DoglegOptimizer(graph, initial, params)\n",
    "\n",
    "# result = optimizer.optimize()\n",
    "# marginals = gtsam.Marginals(graph, result) #calculate covariance estimates for each pose\n",
    "\n",
    "# print(\"initial error = \", graph.error(initial))\n",
    "# print(\"final error = \", graph.error(result))\n",
    "# # print(initial.keys())\n",
    "# # print(graph.keys())"
   ]
  },
  {
   "cell_type": "code",
   "execution_count": null,
   "id": "3f1afde6",
   "metadata": {},
   "outputs": [],
   "source": []
  }
 ],
 "metadata": {
  "kernelspec": {
   "display_name": "Python 3 (ipykernel)",
   "language": "python",
   "name": "python3"
  },
  "language_info": {
   "codemirror_mode": {
    "name": "ipython",
    "version": 3
   },
   "file_extension": ".py",
   "mimetype": "text/x-python",
   "name": "python",
   "nbconvert_exporter": "python",
   "pygments_lexer": "ipython3",
   "version": "3.8.10"
  }
 },
 "nbformat": 4,
 "nbformat_minor": 5
}
