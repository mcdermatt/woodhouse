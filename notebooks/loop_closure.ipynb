{
 "cells": [
  {
   "cell_type": "code",
   "execution_count": 1,
   "id": "86a26a31",
   "metadata": {},
   "outputs": [],
   "source": [
    "from vedo import *\n",
    "from ipyvtklink.viewer import ViewInteractiveWidget\n",
    "import numpy as np\n",
    "# import tensorflow as tf\n",
    "from scipy.spatial.transform import Rotation as R\n",
    "\n",
    "import numpy as np\n",
    "from matplotlib import pyplot as plt\n"
   ]
  },
  {
   "cell_type": "markdown",
   "id": "026e1800",
   "metadata": {},
   "source": [
    "# Draw frames from odometry constraints"
   ]
  },
  {
   "cell_type": "code",
   "execution_count": 36,
   "id": "1a25b07b",
   "metadata": {},
   "outputs": [
    {
     "name": "stdout",
     "output_type": "stream",
     "text": [
      "65\n"
     ]
    }
   ],
   "source": [
    "#load relative poses from odometry file\n",
    "odom_raw = np.loadtxt(\"pose_data.csv\", delimiter=',',skiprows=1)\n",
    "# print(odom_raw[0])\n",
    "print(len(odom_raw))\n",
    "\n",
    "#convert to rotation matrix\n",
    "odom = np.zeros([len(odom_raw),4,4])\n",
    "odom[0] = np.eye(4)\n",
    "odom[:,:3,-1] = odom_raw[:,2:5]\n",
    "odom[:,2,-1] *= -1 #IDK why but for some reason z is getting flipped...\n",
    "for i in range(1,len(odom_raw)):\n",
    "    odom[i,3,3] = 1\n",
    "    odom[i,:3,:3] = R.from_quat(odom_raw[i,5:]).as_dcm() @ odom[i-1,:3,:3]\n",
    "    odom[i,:3,-1] = odom[i-1,:3,-1] + odom[i,:3,-1]"
   ]
  },
  {
   "cell_type": "code",
   "execution_count": null,
   "id": "df5e9f2c",
   "metadata": {},
   "outputs": [],
   "source": [
    "plt = Plotter(N = 1, axes = 0, bg = (0.2, 0.2, 0.2), interactive = True) #axes = 4 (simple), 1(scale)\n",
    "disp=[]         \n",
    "scale = 1/10\n",
    "runlen = len(odom) - 1\n",
    "\n",
    "for i in range(1,runlen):\n",
    "    rotm = odom[i,:,:]\n",
    "    alph = 1-(i/runlen)\n",
    "    \n",
    "    #forward view direction (-z in NeRF c2w convention)\n",
    "#     headings = rotm[:3,:3] @ np.array([0,0,scale])\n",
    "#     disp.append(Arrows(rotm[:3,-1][None,:], (rotm[:3,-1] + headings)[None,:], c = \"yellow\", alpha = alph))\n",
    "    # x\n",
    "    headings = rotm[:3,:3] @ np.array([scale,0,0])\n",
    "    disp.append(Arrows(rotm[:3,-1][None,:], (rotm[:3,-1] + headings)[None,:], c = \"red\", alpha = alph))\n",
    "    #y\n",
    "    headings = rotm[:3,:3] @ np.array([0,scale,0])\n",
    "    disp.append(Arrows(rotm[:3,-1][None,:], (rotm[:3,-1] + headings)[None,:], c = \"green\", alpha = alph))\n",
    "    #z\n",
    "    headings = rotm[:3,:3] @ np.array([0,0,scale])\n",
    "    disp.append(Arrows(rotm[:3,-1][None,:], (rotm[:3,-1] + headings)[None,:], c = \"blue\", alpha = alph))\n",
    "    \n",
    "    disp.append(Line(odom[i,:3,3], odom[i+1,:3,3], c = 'gray', lw=2))\n",
    "\n",
    "plt.show(disp, \"dead reckoning from odometry constraints\")"
   ]
  },
  {
   "cell_type": "markdown",
   "id": "9da90ae3",
   "metadata": {},
   "source": [
    "# Draw point clouds"
   ]
  },
  {
   "cell_type": "code",
   "execution_count": 31,
   "id": "49d1719e",
   "metadata": {},
   "outputs": [],
   "source": [
    "#load keyframe point clouds\n",
    "idx = 50\n",
    "fn1 = \"keyframe_\" + str(idx) + \".csv\"\n",
    "pc1 = np.loadtxt(fn1, delimiter=\",\")\n",
    "\n",
    "idx2 = idx + 1\n",
    "fn2 = \"keyframe_\" + str(idx2) + \".csv\"\n",
    "pc2 = np.loadtxt(fn2, delimiter=\",\")"
   ]
  },
  {
   "cell_type": "code",
   "execution_count": 32,
   "id": "706bdc3a",
   "metadata": {},
   "outputs": [
    {
     "data": {
      "text/plain": [
       "<vedo.plotter.Plotter at 0x7eff84f0ef40>"
      ]
     },
     "execution_count": 32,
     "metadata": {},
     "output_type": "execute_result"
    }
   ],
   "source": [
    "plt = Plotter(N = 1, axes = 0, bg = (0.2, 0.2, 0.2), interactive = True) #axes = 4 (simple), 1(scale)\n",
    "disp=[]          \n",
    "disp.append(Points(pc1, c = 'red', r = 3, alpha = 0.5))\n",
    "disp.append(Points(pc2, c = 'blue', r = 3, alpha = 0.5))\n",
    "\n",
    "#draw pc2 in pc1 frame \n",
    "p2_p1f = np.append(pc2, np.ones([len(pc2),1]), axis = 1)\n",
    "p2_p1f = p2_p1f @ np.linalg.pinv(odom[idx]) @ odom[idx+1]\n",
    "p2_p1f = p2_p1f[:,:3]\n",
    "# print(p2_p1f)\n",
    "disp.append(Points(p2_p1f, c = 'green', r = 3, alpha = 0.5))\n",
    "\n",
    "plt.show(disp, \"scan 1 (red), scan2 (blue), scan2 in s1 frame (green)\")"
   ]
  },
  {
   "cell_type": "code",
   "execution_count": null,
   "id": "3b864ad5",
   "metadata": {},
   "outputs": [],
   "source": []
  }
 ],
 "metadata": {
  "kernelspec": {
   "display_name": "Python 3 (ipykernel)",
   "language": "python",
   "name": "python3"
  },
  "language_info": {
   "codemirror_mode": {
    "name": "ipython",
    "version": 3
   },
   "file_extension": ".py",
   "mimetype": "text/x-python",
   "name": "python",
   "nbconvert_exporter": "python",
   "pygments_lexer": "ipython3",
   "version": "3.8.10"
  }
 },
 "nbformat": 4,
 "nbformat_minor": 5
}
