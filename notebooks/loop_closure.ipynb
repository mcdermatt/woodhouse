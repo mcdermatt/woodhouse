{
 "cells": [
  {
   "cell_type": "code",
   "execution_count": 1,
   "id": "86a26a31",
   "metadata": {},
   "outputs": [
    {
     "name": "stderr",
     "output_type": "stream",
     "text": [
      "2025-03-31 12:18:47.188683: I tensorflow/core/platform/cpu_feature_guard.cc:193] This TensorFlow binary is optimized with oneAPI Deep Neural Network Library (oneDNN) to use the following CPU instructions in performance-critical operations:  AVX2 FMA\n",
      "To enable them in other operations, rebuild TensorFlow with the appropriate compiler flags.\n",
      "2025-03-31 12:18:49.185064: W tensorflow/compiler/xla/stream_executor/platform/default/dso_loader.cc:64] Could not load dynamic library 'libnvinfer.so.7'; dlerror: libnvinfer.so.7: cannot open shared object file: No such file or directory; LD_LIBRARY_PATH: /usr/local/lib:/usr/local/lib:/home/derm/ROS/devel/lib:/opt/ros/noetic/lib:/usr/local/lib\n",
      "2025-03-31 12:18:49.185251: W tensorflow/compiler/xla/stream_executor/platform/default/dso_loader.cc:64] Could not load dynamic library 'libnvinfer_plugin.so.7'; dlerror: libnvinfer_plugin.so.7: cannot open shared object file: No such file or directory; LD_LIBRARY_PATH: /usr/local/lib:/usr/local/lib:/home/derm/ROS/devel/lib:/opt/ros/noetic/lib:/usr/local/lib\n",
      "2025-03-31 12:18:49.185261: W tensorflow/compiler/tf2tensorrt/utils/py_utils.cc:38] TF-TRT Warning: Cannot dlopen some TensorRT libraries. If you would like to use Nvidia GPU with TensorRT, please make sure the missing libraries mentioned above are installed properly.\n"
     ]
    }
   ],
   "source": [
    "from vedo import *\n",
    "from ipyvtklink.viewer import ViewInteractiveWidget\n",
    "#needed for running on laptop~~~~~\n",
    "from vedo import settings\n",
    "settings.default_backend = 'vtk'\n",
    "#~~~~~~~~~~~~~~~~~~~~~~~~~~~~~~~~~\n",
    "import numpy as np\n",
    "# import tensorflow as tf\n",
    "from scipy.spatial.transform import Rotation as R\n",
    "\n",
    "import gtsam\n",
    "import gtsam.utils.plot as gtsam_plot\n",
    "from gtsam import Pose3, Rot3, Point3\n",
    "from pose_graph_utils import *\n",
    "import tensorflow as tf\n",
    "from tensorflow import  sin, cos, tan\n",
    "\n",
    "import numpy as np\n",
    "from matplotlib import pyplot as p\n"
   ]
  },
  {
   "cell_type": "markdown",
   "id": "026e1800",
   "metadata": {},
   "source": [
    "# Draw frames from odometry constraints"
   ]
  },
  {
   "cell_type": "code",
   "execution_count": 398,
   "id": "1a25b07b",
   "metadata": {
    "scrolled": true
   },
   "outputs": [
    {
     "name": "stdout",
     "output_type": "stream",
     "text": [
      "99\n"
     ]
    }
   ],
   "source": [
    "#load relative poses from odometry file\n",
    "# constraints = np.loadtxt(\"apartment/pose_data.csv\", delimiter=',',skiprows=1)\n",
    "constraints = np.loadtxt(\"pose_data.csv\", delimiter=',',skiprows=1)\n",
    "\n",
    "# print(constraints[:,0] == 1)\n",
    "# print(constraints[:,:3])\n",
    "\n",
    "odom_raw = constraints[constraints[:,0] == 0][:,1:]  # raw odometry constraints \n",
    "sr_raw = constraints[constraints[:,0] == 1][:,1:]    # sequential registration of keyframe constraints\n",
    "lc_raw = constraints[constraints[:,0] == 2][:,1:]    # loop closure constraints\n",
    "\n",
    "# odom_raw = sr_raw #DEBUG-- uncomment to draw SR traj ~~~~~~~~~~~~~~~~~~~~~~~~~~~~~~~~~~~~~~~~~~~~~~~~~~\n",
    "print(len(odom_raw))\n",
    "#convert to rotation matrix\n",
    "odom = np.zeros([len(odom_raw),4,4])\n",
    "odom[0] = np.eye(4)\n",
    "for i in range(1,len(odom_raw)):\n",
    "    odom[i] = np.eye(4)\n",
    "    curr = np.eye(4)\n",
    "    #Full 6DOF transform\n",
    "#     curr[:3,:3] = R.from_quat(odom_raw[i,5:]).as_matrix() #scipy depreciated syntax :(\n",
    "    curr[:3,:3] = R.from_quat(odom_raw[i,5:]).as_dcm() \n",
    "#     #Suppress Pitch and Roll\n",
    "#     full_rot = R.from_quat(odom_raw[i,5:]).as_euler('xyz')\n",
    "#     curr[:3,:3] = R.from_euler('xyz', [0,0,full_rot[2]]).as_matrix()\n",
    "\n",
    "    curr[:3,-1] = odom_raw[i,2:5]\n",
    "    #forward conga line (works)\n",
    "    for j in range(i):\n",
    "        odom[j] = curr @ odom[j]    \n",
    "\n",
    "#bring back to map frame\n",
    "OG = odom[0].copy()\n",
    "for j in range(len(odom_raw)):\n",
    "    odom[j] = np.linalg.pinv(OG) @ odom[j]\n",
    "        \n",
    "sr = np.zeros([len(sr_raw),4,4])\n",
    "sr[0] = np.eye(4)\n",
    "for i in range(len(sr_raw)):\n",
    "    sr[i] = np.eye(4)\n",
    "    curr = np.eye(4)\n",
    "    #FULL DOF\n",
    "#     curr[:3,:3] = R.from_quat(sr_raw[i,5:]).as_matrix()\n",
    "    curr[:3,:3] = R.from_quat(sr_raw[i,5:]).as_dcm()\n",
    "#     #Suppress Pitch and Roll\n",
    "#     full_rot = R.from_quat(sr_raw[i,5:]).as_euler('xyz')\n",
    "#     curr[:3,:3] = R.from_euler('xyz', [0,0,full_rot[2]]).as_matrix()    \n",
    "    curr[:3,-1] = sr_raw[i,2:5]\n",
    "    for j in range(i+1):\n",
    "        sr[j] = curr @ sr[j]"
   ]
  },
  {
   "cell_type": "code",
   "execution_count": 399,
   "id": "6986a56f",
   "metadata": {},
   "outputs": [
    {
     "name": "stderr",
     "output_type": "stream",
     "text": [
      "\u001b[1m[vedo.plotter.py:3439] INFO: Closing window now. Plotter.escaped is set to True.\u001b[0m\n"
     ]
    },
    {
     "data": {
      "text/plain": [
       "<vedo.plotter.Plotter at 0x7fc16c39a910>"
      ]
     },
     "execution_count": 399,
     "metadata": {},
     "output_type": "execute_result"
    }
   ],
   "source": [
    "plt = Plotter(N = 1, axes = 0, bg = (1, 1, 1), interactive = True) #axes = 4 (simple), 1(scale)\n",
    "disp=[]         \n",
    "scale = 0.25\n",
    "runlen = len(odom) - 1\n",
    "# runlen = 75\n",
    "\n",
    "for i in range(0,runlen):\n",
    "    rotm = odom[i,:,:]\n",
    "#     rotm = sr[i,:,:] #TEST\n",
    "#     print(rotm)\n",
    "    alph = 1-(i/runlen)\n",
    "    \n",
    "    #forward view direction (-z in NeRF c2w convention)\n",
    "    # x\n",
    "    headings = rotm[:3,:3] @ np.array([scale,0,0])\n",
    "    disp.append(Arrows(rotm[:3,-1][None,:], (rotm[:3,-1] + headings)[None,:], c = \"red\", alpha = alph))\n",
    "    #y\n",
    "    headings = rotm[:3,:3] @ np.array([0,scale,0])\n",
    "    disp.append(Arrows(rotm[:3,-1][None,:], (rotm[:3,-1] + headings)[None,:], c = \"green\", alpha = alph))\n",
    "    #z\n",
    "    headings = rotm[:3,:3] @ np.array([0,0,scale])\n",
    "    disp.append(Arrows(rotm[:3,-1][None,:], (rotm[:3,-1] + headings)[None,:], c = \"blue\", alpha = alph))\n",
    "    #draw line between odometry\n",
    "    disp.append(Line(odom[i,:3,3], odom[i+1,:3,3], c = 'black', lw=2))\n",
    "    \n",
    "    #draw any potential loop closure constraints\n",
    "    for j in range(len(lc_raw)):\n",
    "        if lc_raw[j,0] == i:\n",
    "            disp.append(Line(odom[i,:3,3], odom[int(lc_raw[j,1]),:3,3], c = 'red', lw=3, alpha = 0.3))\n",
    "    \n",
    "\n",
    "plt.show(disp, \"dead reckoning from odometry constraints\")"
   ]
  },
  {
   "cell_type": "code",
   "execution_count": 400,
   "id": "976342a0",
   "metadata": {
    "scrolled": false
   },
   "outputs": [
    {
     "data": {
      "text/plain": [
       "<matplotlib.legend.Legend at 0x7fc16c3dcb50>"
      ]
     },
     "execution_count": 400,
     "metadata": {},
     "output_type": "execute_result"
    },
    {
     "data": {
      "image/png": "[encoded data removed]",
      "text/plain": [
       "<Figure size 640x480 with 1 Axes>"
      ]
     },
     "metadata": {},
     "output_type": "display_data"
    }
   ],
   "source": [
    "fig, ax = p.subplots()   \n",
    "odom_euls = np.zeros([0,3])\n",
    "for i in range(1,len(odom_raw)):\n",
    "#     rotm = R.from_quat(odom_raw[i,5:]).as_matrix()\n",
    "    rotm = R.from_quat(odom_raw[i,5:]).as_dcm()\n",
    "    rpy = np.array([np.arctan2(rotm[2,1],rotm[2,2]), np.arcsin(rotm[2,0]), np.arctan2(rotm[1,0], rotm[0,0])])\n",
    "    odom_euls = np.append(odom_euls, rpy[None,:], axis = 0)\n",
    "\n",
    "sr_euls = np.zeros([0,3])\n",
    "for i in range(1,len(sr_raw)):\n",
    "#     rotm = R.from_quat(sr_raw[i,5:]).as_matrix()\n",
    "    rotm = R.from_quat(sr_raw[i,5:]).as_dcm()\n",
    "    rpy = np.array([np.arctan2(rotm[2,1],rotm[2,2]), np.arcsin(rotm[2,0]), np.arctan2(rotm[1,0], rotm[0,0])])\n",
    "    sr_euls = np.append(sr_euls, rpy[None,:], axis = 0)\n",
    "\n",
    "ax.plot(odom_euls[1:,2], label = 'odom yaw')\n",
    "ax.plot(sr_euls[:,2], label = 'sequential cloud registration yaw')\n",
    "ax.legend(loc='best')"
   ]
  },
  {
   "cell_type": "code",
   "execution_count": 401,
   "id": "5a7513c0",
   "metadata": {
    "scrolled": false
   },
   "outputs": [
    {
     "data": {
      "text/plain": [
       "<matplotlib.legend.Legend at 0x7fc16c341910>"
      ]
     },
     "execution_count": 401,
     "metadata": {},
     "output_type": "execute_result"
    },
    {
     "data": {
      "image/png": "[encoded data removed]",
      "text/plain": [
       "<Figure size 640x480 with 1 Axes>"
      ]
     },
     "metadata": {},
     "output_type": "display_data"
    }
   ],
   "source": [
    "fig, ax = p.subplots()\n",
    "# print(odom_raw[:10,2:5], \"\\n \\n\", sr_raw[:10,2:5])\n",
    "ax.plot(odom_raw[1:,2], label = 'odom x')\n",
    "ax.plot(sr_raw[:,2], label = 'sequential registration x')\n",
    "ax.legend(loc='best')"
   ]
  },
  {
   "cell_type": "markdown",
   "id": "9da90ae3",
   "metadata": {},
   "source": [
    "# Draw point clouds registered according to raw odometry and sequential keyframe registration"
   ]
  },
  {
   "cell_type": "code",
   "execution_count": 402,
   "id": "49d1719e",
   "metadata": {},
   "outputs": [
    {
     "name": "stdout",
     "output_type": "stream",
     "text": [
      "[20.         21.         -0.180934    0.184291   -0.0223698   0.0423044\n",
      " -0.00581047  0.219705    0.974631  ]\n",
      "20 19\n"
     ]
    }
   ],
   "source": [
    "#load keyframe point clouds\n",
    "idx = 20\n",
    "idx2 = idx + 1\n",
    "# fn1 = \"apartment/keyframe_\" + str(idx) + \".csv\"\n",
    "# fn2 = \"apartment/keyframe_\" + str(idx2) + \".csv\"\n",
    "fn1 = \"keyframe_\" + str(idx) + \".csv\"\n",
    "fn2 = \"keyframe_\" + str(idx2) + \".csv\"\n",
    "pc1 = np.loadtxt(fn1, delimiter=\",\")\n",
    "pc2 = np.loadtxt(fn2, delimiter=\",\")\n",
    "# print(odom_raw[idx,2:5], R.from_quat(odom_raw[idx,5:]).as_euler('xyz'))\n",
    "print(odom_raw[idx])\n",
    "\n",
    "#get row corresponding to correct odometry constraint\n",
    "odom_idx = np.where(odom_raw[:,0] == idx)[0][0]\n",
    "sr_idx = np.where(sr_raw[:,0] == idx)[0][0]\n",
    "print(odom_idx, sr_idx)\n",
    "# print(sr_euls[-5:])\n",
    "\n",
    "# print(sr_raw[idx])\n",
    "# print(odom_raw[idx])"
   ]
  },
  {
   "cell_type": "code",
   "execution_count": 403,
   "id": "706bdc3a",
   "metadata": {},
   "outputs": [
    {
     "name": "stderr",
     "output_type": "stream",
     "text": [
      "\u001b[1m\u001b[33;20m[vedo.plotter.py:909] WARNING: call to add() but Plotter was not initialized with show()\u001b[0m\n",
      "\u001b[1m\u001b[33;20m[vedo.plotter.py:909] WARNING: call to add() but Plotter was not initialized with show()\u001b[0m\n",
      "\u001b[1m[vedo.plotter.py:3439] INFO: Closing window now. Plotter.escaped is set to True.\u001b[0m\n"
     ]
    },
    {
     "data": {
      "text/plain": [
       "<vedo.plotter.Plotter at 0x7fc16c3587f0>"
      ]
     },
     "execution_count": 403,
     "metadata": {},
     "output_type": "execute_result"
    }
   ],
   "source": [
    "plt = Plotter(N = 2, axes = 0, bg = (0.2, 0.2, 0.2), interactive = True) #axes = 4 (simple), 1(scale)\n",
    "disp_odom=[]\n",
    "disp_odom.append(Points(pc1, c = 'red', r = 3, alpha = 0.5))\n",
    "disp_odom.append(Points(pc2, c = 'blue', r = 3, alpha = 0.5))\n",
    "disp_sr=[]\n",
    "disp_sr.append(Points(pc1, c = 'red', r = 3, alpha = 0.5))\n",
    "disp_sr.append(Points(pc2, c = 'blue', r = 3, alpha = 0.5))\n",
    "\n",
    "# p2_p1f_odom = (pc2 - odom_raw[odom_idx,2:5]) @ R.from_quat(odom_raw[odom_idx,5:]).as_matrix()#works for odom output\n",
    "# p2_p1f_sr = (pc2 - sr_raw[sr_idx,2:5]) @ R.from_quat(sr_raw[sr_idx,5:]).as_matrix()#works for odom output\n",
    "p2_p1f_odom = (pc2 - odom_raw[odom_idx,2:5]) @ R.from_quat(odom_raw[odom_idx,5:]).as_dcm()#works for odom output\n",
    "p2_p1f_sr = (pc2 - sr_raw[sr_idx,2:5]) @ R.from_quat(sr_raw[sr_idx,5:]).as_dcm()#works for odom output\n",
    "disp_odom.append(Points(p2_p1f_odom, c = 'green', r = 3, alpha = 0.5))\n",
    "disp_sr.append(Points(p2_p1f_sr, c = 'green', r = 3, alpha = 0.5))\n",
    "\n",
    "plt.at(0).add(disp_odom, \"odometry\")              \n",
    "plt.at(1).add(disp_sr, \"loop closure between neighboring keyframes\")              \n",
    "plt.show()#\"scan 1 (red), scan2 (blue), scan2 in s1 frame (green)\" "
   ]
  },
  {
   "cell_type": "markdown",
   "id": "ae3c49fa",
   "metadata": {},
   "source": [
    "# Look at loop closure canidates (from scan context)"
   ]
  },
  {
   "cell_type": "code",
   "execution_count": 404,
   "id": "d82a2d41",
   "metadata": {
    "scrolled": true
   },
   "outputs": [
    {
     "name": "stdout",
     "output_type": "stream",
     "text": [
      "[[37. 10.]\n",
      " [38.  9.]\n",
      " [40.  6.]\n",
      " [41.  7.]\n",
      " [67. 45.]\n",
      " [94. 44.]\n",
      " [95. 44.]\n",
      " [96. 43.]\n",
      " [97.  5.]\n",
      " [98.  5.]]\n"
     ]
    }
   ],
   "source": [
    "print(lc_raw[:,:2])"
   ]
  },
  {
   "cell_type": "code",
   "execution_count": 405,
   "id": "b943e6c8",
   "metadata": {},
   "outputs": [
    {
     "name": "stdout",
     "output_type": "stream",
     "text": [
      "[95.        44.         0.803591  -0.156524  -0.0541401 -0.0621922\n",
      " -0.0107127 -0.992086   0.108548 ]\n",
      "95 44\n"
     ]
    },
    {
     "name": "stderr",
     "output_type": "stream",
     "text": [
      "\u001b[1m[vedo.plotter.py:3439] INFO: Closing window now. Plotter.escaped is set to True.\u001b[0m\n"
     ]
    },
    {
     "data": {
      "text/plain": [
       "<vedo.plotter.Plotter at 0x7fc16c4fadf0>"
      ]
     },
     "execution_count": 405,
     "metadata": {},
     "output_type": "execute_result"
    }
   ],
   "source": [
    "lc_idx = -4\n",
    "print(lc_raw[lc_idx,:])\n",
    "idx = int((lc_raw[lc_idx,0]))\n",
    "idx2 = int((lc_raw[lc_idx,1]))\n",
    "print(idx, idx2)\n",
    "\n",
    "\n",
    "# fn1 = \"apartment/keyframe_\" + str(idx) + \".csv\"\n",
    "# fn2 = \"apartment/keyframe_\" + str(idx2) + \".csv\"\n",
    "fn1 = \"keyframe_\" + str(idx) + \".csv\"\n",
    "fn2 = \"keyframe_\" + str(idx2) + \".csv\"\n",
    "pc1 = np.loadtxt(fn1, delimiter=\",\")\n",
    "pc2 = np.loadtxt(fn2, delimiter=\",\")\n",
    "\n",
    "plt = Plotter(N = 1, axes = 0, bg = (0.2, 0.2, 0.2), interactive = True)\n",
    "disp = []\n",
    "# p2_p1f_lc = (pc2 - lc_raw[lc_idx,2:5]) @ R.from_quat(lc_raw[lc_idx,5:]).as_matrix()\n",
    "p2_p1f_lc = (pc2 - lc_raw[lc_idx,2:5]) @ R.from_quat(lc_raw[lc_idx,5:]).as_dcm()\n",
    "disp.append(Points(p2_p1f_lc, c = 'green', r = 3, alpha = 0.5))\n",
    "\n",
    "disp.append(Points(pc1, c = 'red', r = 3, alpha = 0.5))\n",
    "disp.append(Points(pc2, c = 'blue', r = 3, alpha = 0.5))\n",
    "plt.show(disp, \"registering point clouds with scan context loop closure \") "
   ]
  },
  {
   "cell_type": "markdown",
   "id": "5a1029b2",
   "metadata": {},
   "source": [
    "# Optimize Sequential Keyframe trajectory + Loop Closure Constraints\n",
    "\n",
    "### TODO:\n",
    "* Combine SR with odom data\n",
    "* replace batch GTSAM optimization with incramental iSAM2\n",
    "* create new python node"
   ]
  },
  {
   "cell_type": "code",
   "execution_count": 406,
   "id": "f408df37",
   "metadata": {
    "scrolled": true
   },
   "outputs": [],
   "source": [
    "# #make basic corkscrew trajectory for debug~~~~~~~~~~~~~~~\n",
    "# npts = 50\n",
    "# odometry_history = np.tile(np.array([0.0, 0.45, 0.18, 0.0, 0.0, 0.3]), (npts,1)) #will create corkscrew motion\n",
    "# pred_stds_history = np.tile(np.array([[0.001, 0.005, 0.001, 1e-6, 1e-6, 1e-5]]), (len(odometry_history),1))\n",
    "# ij = np.array([[0,1]])\n",
    "# for i in range(1,len(odometry_history)):\n",
    "#     ij = np.append(ij, np.array([[i, i+1]]), axis = 0)\n",
    "# ij[npts-1,1] = 30\n",
    "# ij[40,0] = 10\n",
    "# odometry_history = np.append(odometry_history, ij, axis= 1)   #match format output by ROS package\n",
    "# pred_stds_history = np.append(pred_stds_history, ij, axis= 1) #match format output by ROS package\n",
    "# #Linear traj ~~~~~~~~~~~~~~~~~~~~~~~~~~~~~~~~~~~~~~~~~~~~~~~\n",
    "# npts = 15\n",
    "# odometry_history = np.tile(np.array([1.0, 0., 0., 0.0, 0.0, 0.01]), (npts,1)) #will create corkscrew motion\n",
    "# pred_stds_history = np.tile(np.array([[0.001, 0.001, 0.01, 1e-4, 1e-4, 1e-5]]), (len(odometry_history),1))\n",
    "# ij = np.array([[0,1]])\n",
    "# for i in range(1,len(odometry_history)):\n",
    "#     ij = np.append(ij, np.array([[i, i+1]]), axis = 0)\n",
    "# odometry_history = np.append(odometry_history, ij, axis= 1)   #match format output by ROS package\n",
    "# pred_stds_history = np.append(pred_stds_history, ij, axis= 1) #match format output by ROS package\n",
    "\n",
    "# #add extra constraint between middle and another random\n",
    "# extra = np.array([[0.1,0.,0.,0.,0.,0.,10,3]])\n",
    "\n",
    "# odometry_history = np.append(odometry_history, extra, axis = 0)\n",
    "# pred_stds_history = np.append(pred_stds_history, pred_stds_history[-1,:][None,:], axis = 0)\n",
    "# ij = odometry_history[:,-2:].astype(np.int32)\n",
    "# # print(odometry_history)\n",
    "# #~~~~~~~~~~~~~~~~~~~~~~~~~~~~~~~~~~~~~~~~~~~~~~~~~~~~~~~~\n",
    "# # print(ij)"
   ]
  },
  {
   "cell_type": "code",
   "execution_count": 407,
   "id": "932746e3",
   "metadata": {
    "scrolled": true
   },
   "outputs": [],
   "source": [
    "OH = np.zeros([len(sr_raw)+len(lc_raw),8])\n",
    "for i in range(len(sr_raw)):\n",
    "    OH[i,:3] = sr_raw[i,2:5]\n",
    "    OH[i,3:6] = R.from_quat(sr_raw[i,5:]).as_euler('xyz')\n",
    "    OH[i,6] = sr_raw[i,0] - 1\n",
    "    OH[i,7] = sr_raw[i,1] - 1\n",
    "# print(OH[:,-2:])\n",
    "# print(sr_raw[:,:2])\n",
    "for j in range(len(lc_raw)):\n",
    "    OH[len(sr_raw)+j,:3] = lc_raw[j,2:5]\n",
    "    OH[len(sr_raw)+j,3:6] = R.from_quat(lc_raw[j,5:]).as_euler('xyz')\n",
    "    #DEBUG\n",
    "#     OH[len(sr_raw)+j,:3] = np.array([0.,0.,0.])\n",
    "#     OH[len(sr_raw)+j,3:6] = np.array([0.,0.,0.])\n",
    "    OH[len(sr_raw)+j,6] = lc_raw[j,0] - 1\n",
    "    OH[len(sr_raw)+j,7] = lc_raw[j,1] - 1\n",
    "\n",
    "    \n",
    "odometry_history = OH\n",
    "pred_stds_history = np.tile(np.array([[0.01, 0.01, 0.01, 1e-3, 1e-3, 1e-4]]), (len(odometry_history),1))\n",
    "pred_stds_history = np.append(pred_stds_history, odometry_history[:,-2:], axis = 1)\n",
    "ij = odometry_history[:,-2:].astype(np.int32)"
   ]
  },
  {
   "cell_type": "code",
   "execution_count": 408,
   "id": "aef2c645",
   "metadata": {},
   "outputs": [
    {
     "name": "stdout",
     "output_type": "stream",
     "text": [
      "[[-0.0296764  -0.0633129  -0.0079293  -0.00001575 -0.00102169 -0.65776816\n",
      "   0.          1.        ]\n",
      " [-0.0553621  -0.165203    0.00791663 -0.024712   -0.00770624 -0.57648794\n",
      "   1.          2.        ]\n",
      " [-0.00480264 -0.114013    0.00432161 -0.00135192 -0.00265422 -0.35312256\n",
      "   2.          3.        ]\n",
      " [ 0.00841106 -0.130519   -0.00103244 -0.00263029 -0.00688897 -0.4489469\n",
      "   3.          4.        ]\n",
      " [ 0.00444655 -0.113948    0.0107763  -0.0088461   0.00296549 -0.32057133\n",
      "   4.          5.        ]\n",
      " [-0.567712   -0.0905001   0.027633    0.01245177 -0.03729017  0.24497884\n",
      "   5.          6.        ]\n",
      " [-0.209301   -0.0807912   0.00896343 -0.0028195   0.00187284 -0.45653551\n",
      "   6.          7.        ]\n",
      " [-0.487531   -0.0779761   0.0892302  -0.00085464  0.00165203  0.55740355\n",
      "   7.          8.        ]\n",
      " [-0.52242    -0.0553474   0.0224627  -0.01175119  0.02813105 -0.14213933\n",
      "   8.          9.        ]\n",
      " [-0.481254   -0.0119255   0.0265349  -0.05665681  0.00113345 -0.5155855\n",
      "   9.         10.        ]\n",
      " [-0.0992262  -0.0993892  -0.0138709  -0.00795879  0.00694248 -0.43315332\n",
      "  10.         11.        ]\n",
      " [ 0.231169   -0.179846   -0.00097341  0.00299409 -0.02397019 -0.46274199\n",
      "  11.         12.        ]\n",
      " [-0.0902273   0.129772    0.0120255   0.00284467  0.00430257  0.67274046\n",
      "  12.         13.        ]\n",
      " [-0.0564896   0.141542   -0.0206636   0.01389117  0.00226614  0.50805187\n",
      "  13.         14.        ]\n",
      " [-0.0212717   0.107777    0.0102025   0.00435197 -0.0023067   0.37612533\n",
      "  14.         15.        ]\n",
      " [-0.553271   -0.0108564  -0.00002128 -0.07680751  0.01197451  0.12158793\n",
      "  15.         16.        ]\n",
      " [-0.530529   -0.0736591   0.0179496   0.05452575 -0.03307114  0.24780062\n",
      "  16.         17.        ]\n",
      " [-0.544555   -0.016959    0.138737    0.01240063 -0.00779175  0.18761384\n",
      "  17.         18.        ]\n",
      " [-0.231986    0.0690084   0.0866642   0.07305641 -0.03634804  0.28943788\n",
      "  18.         19.        ]\n",
      " [-0.206695    0.0904354  -0.00036269  0.03139862 -0.01590363  0.50010387\n",
      "  19.         20.        ]\n",
      " [-0.538849   -0.00277734 -0.0543918  -0.12144284  0.05064435  0.38415918\n",
      "  20.         21.        ]\n",
      " [-0.505654    0.121486    0.0222514   0.05466412  0.00198693  0.04732859\n",
      "  21.         22.        ]\n",
      " [-0.546122    0.00471153 -0.0481667  -0.01706488 -0.01071609  0.03534585\n",
      "  22.         23.        ]\n",
      " [-0.0839438  -0.100677    0.0262445  -0.02994458 -0.00854566 -0.45990301\n",
      "  23.         24.        ]\n",
      " [-0.0354828  -0.135767    0.00539204  0.00308098  0.00037023 -0.50913727\n",
      "  24.         25.        ]\n",
      " [-0.0205996  -0.16636     0.0315524  -0.03740698 -0.01380843 -0.56629563\n",
      "  25.         26.        ]\n",
      " [-0.00488751 -0.135695    0.0225121  -0.02070938  0.0000463  -0.48306553\n",
      "  26.         27.        ]\n",
      " [ 0.0153187  -0.150418   -0.0108611  -0.02380733 -0.00235728 -0.45587656\n",
      "  27.         28.        ]\n",
      " [ 0.00856721 -0.127409    0.0253675  -0.01533161  0.00589145 -0.40554306\n",
      "  28.         29.        ]\n",
      " [-0.528841   -0.0133547   0.0178586  -0.0509487   0.0125923  -0.15534659\n",
      "  29.         30.        ]\n",
      " [-0.51681    -0.00161548  0.0249646   0.02843461  0.02039997 -0.00926723\n",
      "  30.         31.        ]\n",
      " [-0.457969    0.0201283  -0.0565858  -0.00002054 -0.00431033 -0.46448543\n",
      "  31.         32.        ]\n",
      " [-0.0791193  -0.0960471  -0.0294247   0.00519612  0.01134512 -0.39756577\n",
      "  32.         33.        ]\n",
      " [-0.380207   -0.0499427   0.0668178  -0.02260353  0.02107451 -0.46611312\n",
      "  33.         34.        ]\n",
      " [-0.22888    -0.0652272  -0.0385603  -0.01144199 -0.00937681 -0.37408474\n",
      "  34.         35.        ]\n",
      " [-0.518401   -0.0512662  -0.0103528   0.06305354 -0.00945995  0.29148732\n",
      "  35.         36.        ]\n",
      " [-0.520043   -0.00994681  0.0317944  -0.03966132 -0.05919145 -0.25660792\n",
      "  36.         37.        ]\n",
      " [-0.28455    -0.0521181   0.0195215  -0.01179879  0.00002494 -0.47163963\n",
      "  37.         38.        ]\n",
      " [-0.580551   -0.135059    0.00692757  0.04085626 -0.00297798 -0.26026264\n",
      "  38.         39.        ]\n",
      " [-0.557995   -0.0440102  -0.086153    0.00236388 -0.002428    0.35033639\n",
      "  39.         40.        ]\n",
      " [-0.373194    0.0175794   0.0782799   0.01721024 -0.01131515  0.44903767\n",
      "  40.         41.        ]\n",
      " [-0.538027   -0.0306554   0.043099    0.00109133  0.01098033  0.34676176\n",
      "  41.         42.        ]\n",
      " [-0.535262   -0.0486701   0.00477568 -0.00613067  0.02872916  0.02313915\n",
      "  42.         43.        ]\n",
      " [-0.57451    -0.0479508   0.0843563  -0.00132497 -0.00828246  0.06222769\n",
      "  43.         44.        ]\n",
      " [-0.665817    0.0145681   0.0778683   0.01251101  0.00201396 -0.12580468\n",
      "  44.         45.        ]\n",
      " [-0.614734   -0.0897119   0.0476406  -0.0268443   0.00545965 -0.35323889\n",
      "  45.         46.        ]\n",
      " [-0.539372    0.0543424   0.0843158  -0.05406338 -0.01050415 -0.42655345\n",
      "  46.         47.        ]\n",
      " [-0.171673   -0.0919547   0.0143758  -0.01170672  0.00892567 -0.49207118\n",
      "  47.         48.        ]\n",
      " [-0.510677   -0.171639   -0.0993404  -0.01793518 -0.03841493 -0.26369899\n",
      "  48.         49.        ]\n",
      " [-0.544395   -0.0742978   0.0388005   0.04535493  0.03148466  0.16345217\n",
      "  49.         50.        ]\n",
      " [-0.360375   -0.00122093  0.00894074  0.02413022  0.00759595  0.55628929\n",
      "  50.         51.        ]\n",
      " [-0.229129    0.0507776  -0.0241431   0.0282044  -0.00047373  0.3718345\n",
      "  51.         52.        ]\n",
      " [-0.501888   -0.0308226   0.026516   -0.00377552 -0.00129489 -0.24747116\n",
      "  52.         53.        ]\n",
      " [-0.472655    0.105763    0.0856101  -0.0231166   0.01162298 -0.4348246\n",
      "  53.         54.        ]\n",
      " [-0.0161127  -0.115582    0.00795228 -0.01490665  0.0091209  -0.42734487\n",
      "  54.         55.        ]\n",
      " [-0.00253353 -0.137816   -0.00575658 -0.00019716 -0.00294581 -0.49122016\n",
      "  55.         56.        ]\n",
      " [ 0.0143519  -0.125282   -0.0103028  -0.00140221  0.00189206 -0.43727284\n",
      "  56.         57.        ]\n",
      " [ 0.00384288 -0.13354    -0.0137674  -0.00285865 -0.00514855 -0.42325266\n",
      "  57.         58.        ]\n",
      " [ 0.0214262  -0.129357   -0.0212218  -0.035994    0.03005468 -0.37628411\n",
      "  58.         59.        ]\n",
      " [-0.583425   -0.118747    0.0108423  -0.00405887 -0.02273316 -0.18387288\n",
      "  59.         60.        ]\n",
      " [-0.345323   -0.0694516  -0.0388012  -0.02780018  0.01148147 -0.54034148\n",
      "  60.         61.        ]\n",
      " [-0.147202   -0.0658503   0.0182547   0.01770094 -0.0090974  -0.28010641\n",
      "  61.         62.        ]\n",
      " [-0.58177    -0.0856367  -0.0106995  -0.05069181 -0.01767371 -0.30082404\n",
      "  62.         63.        ]\n",
      " [-0.506627   -0.0881288  -0.0686652   0.00630432 -0.00791839 -0.37690825\n",
      "  63.         64.        ]\n",
      " [-0.442958   -0.00560077  0.064765   -0.01926225  0.01838132 -0.44363683\n",
      "  64.         65.        ]\n",
      " [-0.137477   -0.101279    0.0114775  -0.00612094 -0.00384664 -0.50368346\n",
      "  65.         66.        ]\n",
      " [-0.0758332  -0.128245    0.0185502  -0.00467432  0.00187324 -0.36091313\n",
      "  66.         67.        ]\n",
      " [-0.497925    0.0119855   0.10921    -0.00990676 -0.00977575 -0.33185909\n",
      "  67.         68.        ]\n",
      " [-0.513912   -0.100959    0.0441543  -0.00899848  0.02333063 -0.04283055\n",
      "  68.         69.        ]\n",
      " [-0.51118    -0.00680687  0.0130808   0.03687976  0.00279663  0.15917062\n",
      "  69.         70.        ]\n",
      " [-0.514915   -0.0332958   0.0558079   0.00753698 -0.00123844 -0.27542429\n",
      "  70.         71.        ]\n",
      " [-0.539675   -0.0482789   0.0207379  -0.00294597  0.02794102 -0.07578256\n",
      "  71.         72.        ]\n",
      " [-0.527885   -0.074582    0.00134269  0.01585071  0.00453131  0.04797032\n",
      "  72.         73.        ]\n",
      " [-0.494148   -0.0915838   0.101721    0.00744193 -0.00272539  0.36689725\n",
      "  73.         74.        ]\n",
      " [-0.214713    0.0396862   0.103688    0.07923463  0.00947767  0.47214654\n",
      "  74.         75.        ]\n",
      " [-0.223423    0.0529223  -0.0188953   0.01202825 -0.07814575  0.61448894\n",
      "  75.         76.        ]\n",
      " [-0.155647    0.0571344   0.0278959   0.01007795 -0.00128985  0.42660464\n",
      "  76.         77.        ]\n",
      " [-0.184237    0.0504321  -0.0193461   0.01005053  0.01957883  0.47407294\n",
      "  77.         78.        ]\n",
      " [-0.126597    0.0813787  -0.0210545   0.00635962  0.01003105  0.29173219\n",
      "  78.         79.        ]\n",
      " [-0.107649    0.0470435  -0.0149468   0.01077664  0.01494321  0.42005195\n",
      "  79.         80.        ]\n",
      " [-0.150996    0.0763898   0.0629589   0.08758798 -0.04468474  0.51237216\n",
      "  80.         81.        ]\n",
      " [-0.196755    0.0744225   0.063481    0.02548156  0.00140594  0.39464742\n",
      "  81.         82.        ]\n",
      " [-0.529234    0.0527617   0.057355   -0.02595014 -0.0444114  -0.45297154\n",
      "  82.         83.        ]\n",
      " [-0.10324    -0.13078     0.0342249  -0.00130566 -0.00170967 -0.50431882\n",
      "  83.         84.        ]\n",
      " [-0.249891   -0.084581    0.0877791   0.02595382  0.03370741 -0.3361693\n",
      "  84.         85.        ]\n",
      " [ 0.0531213   0.15081     0.00846621  0.01767351 -0.01209187  0.43591159\n",
      "  85.         86.        ]\n",
      " [-0.496906    0.133049   -0.152527    0.025923   -0.00939402 -0.00538797\n",
      "  86.         87.        ]\n",
      " [-0.533688   -0.038197   -0.126342    0.00931513  0.04929311  0.06464743\n",
      "  87.         88.        ]\n",
      " [-0.534433   -0.0498546   0.122959   -0.0038344  -0.00647167  0.08590381\n",
      "  88.         89.        ]\n",
      " [-0.541913   -0.0414168   0.0177551  -0.00741334  0.01154195 -0.03209091\n",
      "  89.         90.        ]\n",
      " [-0.485133   -0.0400329   0.103972    0.00232727 -0.00013843 -0.01452636\n",
      "  90.         91.        ]\n",
      " [-0.530636   -0.064996    0.0958091   0.01987475  0.00231028 -0.22826383\n",
      "  91.         92.        ]\n",
      " [-0.517618   -0.0377617   0.0116386   0.02296634  0.00198112  0.22343796\n",
      "  92.         93.        ]\n",
      " [-0.905336   -0.178285    0.00532745  0.0532193   0.01987451  0.08978245\n",
      "  93.         94.        ]\n",
      " [-0.6033     -0.0925106   0.108592   -0.00268443  0.00013656  0.43913021\n",
      "  94.         95.        ]\n",
      " [-0.601737   -0.0368292  -0.0240782   0.02174675 -0.03151812  0.10273038\n",
      "  95.         96.        ]\n",
      " [ 0.842768   -0.24907    -0.0658265   0.01618148 -0.08187027  2.3920782\n",
      "  36.          9.        ]\n",
      " [ 0.747377    0.136082   -0.0397002   0.06127296  0.02021847  2.95628641\n",
      "  37.          8.        ]\n",
      " [ 1.25955    -0.410051   -0.254595    0.1004926  -0.19605269 -3.12187363\n",
      "  39.          5.        ]\n",
      " [ 0.265206   -0.136685   -0.00084983  0.04406569 -0.08129083  3.08523846\n",
      "  40.          6.        ]\n",
      " [ 0.710166   -0.0537645  -0.075984    0.0228409   0.00636587 -0.20604448\n",
      "  66.         44.        ]\n",
      " [ 1.75247     0.0405942  -0.0248596   0.11548846 -0.11979546 -2.75776694\n",
      "  93.         43.        ]\n",
      " [ 0.803591   -0.156524   -0.0541401   0.00781626 -0.12605932 -2.92412517\n",
      "  94.         43.        ]\n",
      " [ 0.738578   -0.0423227   0.0400045   0.04245145 -0.07239399  2.9219657\n",
      "  95.         42.        ]\n",
      " [-0.142567    0.6429     -0.0167448  -0.03587289 -0.06289799 -1.10519802\n",
      "  96.          4.        ]\n",
      " [-0.117374    0.224387    0.045574   -0.07226232 -0.06683256 -1.67206199\n",
      "  97.          4.        ]]\n"
     ]
    }
   ],
   "source": [
    "print(odometry_history)"
   ]
  },
  {
   "cell_type": "code",
   "execution_count": 409,
   "id": "e980b7d0",
   "metadata": {},
   "outputs": [
    {
     "ename": "RuntimeError",
     "evalue": "Attempting to at the key \"97\", which does not exist in the Values.",
     "output_type": "error",
     "traceback": [
      "\u001b[0;31m---------------------------------------------------------------------------\u001b[0m",
      "\u001b[0;31mRuntimeError\u001b[0m                              Traceback (most recent call last)",
      "Cell \u001b[0;32mIn[409], line 51\u001b[0m\n\u001b[1;32m     49\u001b[0m params\u001b[38;5;241m.\u001b[39msetMaxIterations(\u001b[38;5;241m100\u001b[39m)\n\u001b[1;32m     50\u001b[0m params\u001b[38;5;241m.\u001b[39msetVerbosity(\u001b[38;5;124m\"\u001b[39m\u001b[38;5;124mTermination\u001b[39m\u001b[38;5;124m\"\u001b[39m)\n\u001b[0;32m---> 51\u001b[0m optimizer \u001b[38;5;241m=\u001b[39m \u001b[43mgtsam\u001b[49m\u001b[38;5;241;43m.\u001b[39;49m\u001b[43mDoglegOptimizer\u001b[49m\u001b[43m(\u001b[49m\u001b[43mgraph\u001b[49m\u001b[43m,\u001b[49m\u001b[43m \u001b[49m\u001b[43minitial\u001b[49m\u001b[43m,\u001b[49m\u001b[43m \u001b[49m\u001b[43mparams\u001b[49m\u001b[43m)\u001b[49m\n\u001b[1;32m     52\u001b[0m result \u001b[38;5;241m=\u001b[39m optimizer\u001b[38;5;241m.\u001b[39moptimize()\n\u001b[1;32m     54\u001b[0m \u001b[38;5;66;03m# Print results\u001b[39;00m\n\u001b[1;32m     55\u001b[0m \u001b[38;5;66;03m# for i in range(len(constraints) + 1):\u001b[39;00m\n\u001b[1;32m     56\u001b[0m \u001b[38;5;66;03m#     print(f\"Pose {i}: {result.atPose3(i)}\")\u001b[39;00m\n",
      "\u001b[0;31mRuntimeError\u001b[0m: Attempting to at the key \"97\", which does not exist in the Values."
     ]
    }
   ],
   "source": [
    "# Batch optimization\n",
    "# Example constraint array: [x, y, z, roll, pitch, yaw, keyframe_idx1, keyframe_idx2]\n",
    "constraints = odometry_history.copy()\n",
    "\n",
    "# Initialize factor graph and values\n",
    "graph = gtsam.NonlinearFactorGraph()\n",
    "initial = gtsam.Values()\n",
    "\n",
    "# Add a prior on the first keyframe to anchor the solution\n",
    "prior_noise = gtsam.noiseModel.Diagonal.Sigmas([1e-3, 1e-3, 1e-3, 1e-3, 1e-3, 1e-3])  # Small uncertainty\n",
    "# pose_prior = Pose3(Rot3.Identity(), Point3(0, 0, 0))\n",
    "pose_prior = Pose3(Rot3.identity(), Point3(0, 0, 0))\n",
    "graph.add(gtsam.PriorFactorPose3(0, pose_prior, prior_noise))\n",
    "\n",
    "# Initialize first pose estimate\n",
    "initial.insert(0, pose_prior)\n",
    "\n",
    "# Add constraints and initialize other keyframes\n",
    "for row in constraints:\n",
    "    x, y, z, roll, pitch, yaw, keyframe1, keyframe2 = row\n",
    "    \n",
    "    x *= -1 \n",
    "    y *= -1 \n",
    "    z *= -1 \n",
    "    roll *= -1 \n",
    "    pitch *= -1\n",
    "    yaw *= -1 #TEST\n",
    "    \n",
    "    # Convert quaternion to rotation matrix\n",
    "    rot = Rot3.Ypr(yaw, pitch, roll)  # YPR order (Yaw-Pitch-Roll)\n",
    "    \n",
    "    # Create relative Pose3 transformation\n",
    "    relative_pose = Pose3(rot, Point3(x, y, z))\n",
    "\n",
    "    # Define a noise model (adjust values based on confidence in constraints)\n",
    "    constraint_noise = gtsam.noiseModel.Diagonal.Sigmas([0.1, 0.1, 0.1, 0.1, 0.1, 0.1])  \n",
    "\n",
    "    # Add BetweenFactorPose3 for relative transformation\n",
    "    #had this\n",
    "    graph.add(gtsam.BetweenFactorPose3(int(keyframe1), int(keyframe2), relative_pose, constraint_noise))\n",
    "\n",
    "    # Initialize poses (assuming incremental movement)\n",
    "    if not initial.exists(int(keyframe2)):\n",
    "        prev_pose = initial.atPose3(int(keyframe1))\n",
    "        initial.insert(int(keyframe2), prev_pose.compose(relative_pose))\n",
    "\n",
    "# Optimize\n",
    "params = gtsam.DoglegParams()\n",
    "params.setMaxIterations(100)\n",
    "params.setVerbosity(\"Termination\")\n",
    "optimizer = gtsam.DoglegOptimizer(graph, initial, params)\n",
    "result = optimizer.optimize()\n",
    "\n",
    "# Print results\n",
    "# for i in range(len(constraints) + 1):\n",
    "#     print(f\"Pose {i}: {result.atPose3(i)}\")\n"
   ]
  },
  {
   "cell_type": "code",
   "execution_count": 391,
   "id": "c9e579e7",
   "metadata": {},
   "outputs": [
    {
     "data": {
      "text/plain": [
       "<vedo.plotter.Plotter at 0x7fc16c387400>"
      ]
     },
     "execution_count": 391,
     "metadata": {},
     "output_type": "execute_result"
    }
   ],
   "source": [
    "#Plot results\n",
    "plt1 = Plotter(N = 1, axes = 1, bg =(1, 1, 1), interactive = True) #ax=7 gives rulers\n",
    "disp = []\n",
    "disp = plot_results(disp, result, ij, draw_axis=True) #draw without ellipsoids\n",
    "# disp = plot_results(disp, result, ij, marginals, draw_axis = True) #draws covarince ellipsoids\n",
    "plt1.show(disp, \"Factor Graph Optmized Poses\")"
   ]
  },
  {
   "cell_type": "markdown",
   "id": "75c113b3",
   "metadata": {},
   "source": [
    "# Detect bad factors and run again"
   ]
  },
  {
   "cell_type": "code",
   "execution_count": 392,
   "id": "961f68cf",
   "metadata": {},
   "outputs": [
    {
     "name": "stdout",
     "output_type": "stream",
     "text": [
      "Bad loop closure detected: 17 -> 18 (Mahalanobis dist: 22.83)\n",
      "Bad loop closure detected: 29 -> 30 (Mahalanobis dist: 20.55)\n",
      "Bad loop closure detected: 29 -> 18 (Mahalanobis dist: 24.71)\n",
      "Bad loop closure detected: 81 -> 70 (Mahalanobis dist: 21.03)\n"
     ]
    }
   ],
   "source": [
    "#Only works with batch optimized graph (iSAM2 doesn't retain internal state in the same way)\n",
    "def mahalanobis_distance(error, covariance):\n",
    "    \"\"\"Compute the Mahalanobis distance.\"\"\"\n",
    "    return error.T @ np.linalg.inv(covariance) @ error\n",
    "\n",
    "def detect_bad_loop_closures(graph, result, threshold=20.0):\n",
    "    bad_factors = []\n",
    "    for i in range(graph.size()):\n",
    "        factor = graph.at(i) \n",
    "        if isinstance(factor, gtsam.BetweenFactorPose3):\n",
    "            key1, key2 = factor.keys()\n",
    "\n",
    "            # Compute expected relative pose based on current estimate\n",
    "            expected_pose = result.atPose3(key1).between(result.atPose3(key2))\n",
    "            measured_pose = factor.measured()\n",
    "            \n",
    "            # Compute the relative transformation error\n",
    "            error = gtsam.Pose3.Logmap(measured_pose.inverse() * expected_pose)\n",
    "\n",
    "            # Get covariance from noise model\n",
    "            covariance = factor.noiseModel().covariance()\n",
    "\n",
    "            # Compute Mahalanobis distance\n",
    "            mdist = mahalanobis_distance(error, covariance)\n",
    "\n",
    "            if mdist > threshold:\n",
    "                print(f\"Bad loop closure detected: {key1} -> {key2} (Mahalanobis dist: {mdist:.2f})\")\n",
    "                bad_factors.append(i)  # Store index of the bad factor\n",
    "    return bad_factors\n",
    "\n",
    "def optimize_slam(graph, initial_estimate, thresh = 20.):\n",
    "    \"\"\"Optimize the SLAM graph and remove bad loop closures based on Mahalanobis distance.\"\"\"\n",
    "    optimizer = gtsam.LevenbergMarquardtOptimizer(graph, initial_estimate)\n",
    "    result = optimizer.optimize()\n",
    "\n",
    "    # Detect bad loop closures\n",
    "    bad_factors = detect_bad_loop_closures(graph, result, thresh)\n",
    "\n",
    "    if bad_factors:\n",
    "        # Remove bad constraints\n",
    "        new_graph = gtsam.NonlinearFactorGraph()\n",
    "        for i in range(graph.size()):\n",
    "            if i not in bad_factors:\n",
    "                new_graph.add(graph.at(i))\n",
    "\n",
    "        # Re-optimize with cleaned graph\n",
    "        optimizer = gtsam.LevenbergMarquardtOptimizer(new_graph, initial_estimate)\n",
    "        result = optimizer.optimize()\n",
    "\n",
    "    return result\n",
    "\n",
    "# Initialize estimates for keyframe positions from initial graph convergence\n",
    "initial_estimate = gtsam.Values()\n",
    "current_pose = gtsam.Pose3()\n",
    "for i in range(graph.size()):\n",
    "    factor = graph.at(i)\n",
    "    if isinstance(factor, gtsam.BetweenFactorPose3):\n",
    "        key1, key2 = factor.keys()  # Get the keys\n",
    "\n",
    "        if not initial_estimate.exists(key1):  # Insert key1 if not already present\n",
    "            initial_estimate.insert(key1, current_pose)\n",
    "\n",
    "        # Apply odometry to get next pose\n",
    "        current_pose = current_pose.compose(factor.measured())\n",
    "\n",
    "        if not initial_estimate.exists(key2):  # FIX: Check before inserting key2\n",
    "            initial_estimate.insert(key2, current_pose)\n",
    "\n",
    "thresh = 20 #too low and we lose connectivity in our odometry chain\n",
    "result = optimize_slam(graph, initial_estimate, thresh)"
   ]
  },
  {
   "cell_type": "markdown",
   "id": "5d46e2e6",
   "metadata": {},
   "source": [
    "# Draw Keyframe Clouds on Optimized Trajectory "
   ]
  },
  {
   "cell_type": "code",
   "execution_count": 393,
   "id": "f9e9c73b",
   "metadata": {
    "scrolled": true
   },
   "outputs": [
    {
     "name": "stderr",
     "output_type": "stream",
     "text": [
      "\u001b[1m[vedo.plotter.py:3439] INFO: Closing window now. Plotter.escaped is set to True.\u001b[0m\n"
     ]
    },
    {
     "data": {
      "text/plain": [
       "<vedo.plotter.Plotter at 0x7fc16c384bb0>"
      ]
     },
     "execution_count": 393,
     "metadata": {},
     "output_type": "execute_result"
    }
   ],
   "source": [
    "plt1 = Plotter(N = 1, axes = 0, bg =(1, 1, 1), interactive = True) #ax=7 gives rulers\n",
    "disp = []\n",
    "\n",
    "for i in range(2,result.size(), 10):\n",
    "# for i in range(2,20):\n",
    "    t = result.atPose3(i).matrix()\n",
    "#     pc = np.loadtxt(\"keyframe_\" + str(i+1) + \".csv\",delimiter=\",\")\n",
    "    pc = np.loadtxt(\"apartment/keyframe_\" + str(i+1) + \".csv\",delimiter=\",\")\n",
    "    pc4 = np.append(pc, np.ones([len(pc),1]), axis = 1)\n",
    "    pc_wf = (t @ pc4.T).T    \n",
    "    disp.append(Points(pc_wf[:,:3], c = 'gray', r=3, alpha = 0.125))\n",
    "    disp.append(Points(t[:3,-1][None,:], c = 'red', r = 10))\n",
    "\n",
    "plt1.show(disp, \"Drawing Optimized Map\")"
   ]
  },
  {
   "cell_type": "markdown",
   "id": "9983bd1c",
   "metadata": {},
   "source": [
    "# Repeat with incramental iSAM2 graph"
   ]
  },
  {
   "cell_type": "code",
   "execution_count": 394,
   "id": "7a87a5e6",
   "metadata": {},
   "outputs": [],
   "source": [
    "OH = np.zeros([len(sr_raw)+len(lc_raw),8])\n",
    "# OH = np.zeros([len(sr_raw)+len(lc_raw)+len(odom_raw)-1,8])\n",
    "for i in range(len(sr_raw)):\n",
    "    OH[i,:3] = sr_raw[i,2:5]\n",
    "    OH[i,3:6] = R.from_quat(sr_raw[i,5:]).as_euler('xyz')\n",
    "    OH[i,6] = sr_raw[i,0] - 1\n",
    "    OH[i,7] = sr_raw[i,1] - 1\n",
    "for j in range(len(lc_raw)-1):\n",
    "    OH[len(sr_raw)+j,:3] = lc_raw[j,2:5]\n",
    "    OH[len(sr_raw)+j,3:6] = R.from_quat(lc_raw[j,5:]).as_euler('xyz')\n",
    "    OH[len(sr_raw)+j,6] = lc_raw[j,0]# - 1\n",
    "    OH[len(sr_raw)+j,7] = lc_raw[j,1]# - 1\n",
    "    \n",
    "# #TODO-- include raw odometry constraints as well(?)\n",
    "# for k in range(len(odom_raw)-1):\n",
    "#     OH[len(sr_raw)+len(lc_raw)+k, :3] = odom_raw[k+1,2:5]\n",
    "#     OH[len(sr_raw)+len(lc_raw)+k,3:6] = R.from_quat(odom_raw[k+1,5:]).as_euler('xyz')\n",
    "#     OH[len(sr_raw)+len(lc_raw)+k,6] = odom_raw[k+1,0] - 1\n",
    "#     OH[len(sr_raw)+len(lc_raw)+k,7] = odom_raw[k+1,1] - 1\n",
    "    \n",
    "odometry_history = OH\n",
    "pred_stds_history = np.tile(np.array([[0.01, 0.01, 0.01, 1e-3, 1e-3, 1e-4]]), (len(odometry_history),1))\n",
    "pred_stds_history = np.append(pred_stds_history, odometry_history[:,-2:], axis = 1)\n",
    "ij = odometry_history[:,-2:].astype(np.int32)"
   ]
  },
  {
   "cell_type": "code",
   "execution_count": 395,
   "id": "c3cd91bf",
   "metadata": {},
   "outputs": [],
   "source": [
    "#incramental optimization with iSAM2\n",
    "# Example constraint array: [x, y, z, roll, pitch, yaw, keyframe_idx1, keyframe_idx2]\n",
    "constraints = odometry_history.copy()\n",
    "\n",
    "# Initialize iSAM2\n",
    "parameters = gtsam.ISAM2Params()\n",
    "isam = gtsam.ISAM2(parameters)\n",
    "\n",
    "# Initialize factor graph and values\n",
    "graph = gtsam.NonlinearFactorGraph()\n",
    "initial = gtsam.Values()\n",
    "\n",
    "# Add a prior on the first keyframe to anchor the solution\n",
    "prior_noise = gtsam.noiseModel.Diagonal.Sigmas([1e-3] * 6)  # Small uncertainty\n",
    "# pose_prior = Pose3(Rot3.Identity(), Point3(0, 0, 0))\n",
    "pose_prior = Pose3(Rot3.identity(), Point3(0, 0, 0))\n",
    "graph.add(gtsam.PriorFactorPose3(0, pose_prior, prior_noise))\n",
    "initial.insert(0, pose_prior)  # Insert first keyframe\n",
    "\n",
    "# Apply first update to initialize iSAM2\n",
    "isam.update(graph, initial)\n",
    "graph.resize(0)  # Clear graph after update\n",
    "initial.clear()  # Clear values after inserting into iSAM2\n",
    "\n",
    "# Process constraints iteratively\n",
    "for row in constraints:\n",
    "    x, y, z, roll, pitch, yaw, keyframe1, keyframe2 = row\n",
    "    x *= -1\n",
    "    y *= -1\n",
    "    z *= -1\n",
    "    roll *= -1\n",
    "    pitch *= -1\n",
    "    yaw *= -1  \n",
    "\n",
    "    # Convert to Pose3 transformation\n",
    "    rot = Rot3.Ypr(yaw, pitch, roll)  # YPR order (Yaw-Pitch-Roll)\n",
    "    relative_pose = Pose3(rot, Point3(x, y, z))\n",
    "\n",
    "    # Define a noise model\n",
    "    constraint_noise = gtsam.noiseModel.Diagonal.Sigmas([0.1] * 6)\n",
    "\n",
    "    # Add BetweenFactorPose3 to graph\n",
    "    graph.add(gtsam.BetweenFactorPose3(int(keyframe1), int(keyframe2), relative_pose, constraint_noise))\n",
    "\n",
    "    # Prepare new values for iSAM2\n",
    "    new_values = gtsam.Values()\n",
    "    if not isam.valueExists(int(keyframe2)):  # Check if keyframe2 is new\n",
    "        prev_pose = isam.calculateEstimate().atPose3(int(keyframe1))  # Get latest estimate\n",
    "        new_values.insert(int(keyframe2), prev_pose.compose(relative_pose))\n",
    "\n",
    "    # Update iSAM2 incrementally\n",
    "    isam.update(graph, new_values)\n",
    "    \n",
    "    # Clear graph & values after update (iSAM2 retains internal state)\n",
    "    graph.resize(0)\n",
    "    new_values.clear()\n",
    "\n",
    "result = isam.calculateEstimate()\n",
    "# for i in range(int(np.max(constraints)) + 1):\n",
    "#     print(f\"Pose {i}: {result.atPose3(i)}\")"
   ]
  },
  {
   "cell_type": "code",
   "execution_count": 396,
   "id": "74dd1b5f",
   "metadata": {},
   "outputs": [
    {
     "name": "stderr",
     "output_type": "stream",
     "text": [
      "\u001b[1m[vedo.plotter.py:3439] INFO: Closing window now. Plotter.escaped is set to True.\u001b[0m\n"
     ]
    },
    {
     "data": {
      "text/plain": [
       "<vedo.plotter.Plotter at 0x7fc16c3874c0>"
      ]
     },
     "execution_count": 396,
     "metadata": {},
     "output_type": "execute_result"
    }
   ],
   "source": [
    "#Plot (initial) results\n",
    "plt1 = Plotter(N = 1, axes = 1, bg =(1, 1, 1), interactive = True) #ax=7 gives rulers\n",
    "disp = []\n",
    "disp = plot_results(disp, result, ij, draw_axis=True) #draw without ellipsoids\n",
    "# disp = plot_results(disp, result, ij, marginals, draw_axis = True) #draws covarince ellipsoids\n",
    "plt1.show(disp, \"Factor Graph Optmized Poses\")"
   ]
  },
  {
   "cell_type": "markdown",
   "id": "9e1ce7e0",
   "metadata": {},
   "source": [
    "# TODO-- find nearby keyframes not already in graph, use ICP to generate new loop closures"
   ]
  },
  {
   "cell_type": "code",
   "execution_count": 397,
   "id": "d72355c2",
   "metadata": {},
   "outputs": [
    {
     "ename": "AttributeError",
     "evalue": "type object 'Rotation' has no attribute 'from_matrix'",
     "output_type": "error",
     "traceback": [
      "\u001b[0;31m---------------------------------------------------------------------------\u001b[0m",
      "\u001b[0;31mAttributeError\u001b[0m                            Traceback (most recent call last)",
      "Cell \u001b[0;32mIn[397], line 16\u001b[0m\n\u001b[1;32m     14\u001b[0m rotm_j \u001b[38;5;241m=\u001b[39m result\u001b[38;5;241m.\u001b[39matPose3(j)\u001b[38;5;241m.\u001b[39mmatrix()\n\u001b[1;32m     15\u001b[0m rotm_relative \u001b[38;5;241m=\u001b[39m np\u001b[38;5;241m.\u001b[39mlinalg\u001b[38;5;241m.\u001b[39mpinv(rotm_i) \u001b[38;5;241m@\u001b[39m rotm_j\n\u001b[0;32m---> 16\u001b[0m rpy \u001b[38;5;241m=\u001b[39m \u001b[43mR\u001b[49m\u001b[38;5;241;43m.\u001b[39;49m\u001b[43mfrom_matrix\u001b[49m(rotm_relative[:\u001b[38;5;241m3\u001b[39m,:\u001b[38;5;241m3\u001b[39m])\u001b[38;5;241m.\u001b[39mas_euler(\u001b[38;5;124m'\u001b[39m\u001b[38;5;124mxyz\u001b[39m\u001b[38;5;124m'\u001b[39m)\n\u001b[1;32m     17\u001b[0m seed \u001b[38;5;241m=\u001b[39m np\u001b[38;5;241m.\u001b[39marray([[rotm_relative[\u001b[38;5;241m0\u001b[39m,\u001b[38;5;241m-\u001b[39m\u001b[38;5;241m1\u001b[39m], rotm_relative[\u001b[38;5;241m1\u001b[39m,\u001b[38;5;241m-\u001b[39m\u001b[38;5;241m1\u001b[39m], rotm_relative[\u001b[38;5;241m2\u001b[39m,\u001b[38;5;241m-\u001b[39m\u001b[38;5;241m1\u001b[39m], rpy[\u001b[38;5;241m0\u001b[39m], rpy[\u001b[38;5;241m1\u001b[39m], rpy[\u001b[38;5;241m2\u001b[39m]]])\n\u001b[1;32m     18\u001b[0m seeds \u001b[38;5;241m=\u001b[39m np\u001b[38;5;241m.\u001b[39mappend(seeds, seed, axis \u001b[38;5;241m=\u001b[39m \u001b[38;5;241m0\u001b[39m)\n",
      "\u001b[0;31mAttributeError\u001b[0m: type object 'Rotation' has no attribute 'from_matrix'"
     ]
    }
   ],
   "source": [
    "skip_n = 10 #don't try do to loop closure constraints if we're less than this far apart\n",
    "search_thresh = 1.\n",
    "to_close = [] #keyframes that we should be able to add constraints for (they are close according to initial graph)\n",
    "seeds = np.zeros([0,6]) #seeds for initial registration of scan j to scan i [x, y, z, r, p, y]\n",
    "#loop through constraints (skip first?)\n",
    "for i in range(1,np.max(ij)):\n",
    "    ci = result.atPose3(i).translation() #center i\n",
    "    for j in range(i+skip_n, np.max(ij)+1):\n",
    "        cj = result.atPose3(j).translation() #center j\n",
    "        d = sqrt(sum((ci-cj)**2))\n",
    "        if d < search_thresh:\n",
    "            to_close.append([i,j])\n",
    "            rotm_i = result.atPose3(i).matrix()\n",
    "            rotm_j = result.atPose3(j).matrix()\n",
    "            rotm_relative = np.linalg.pinv(rotm_i) @ rotm_j\n",
    "            rpy = R.from_matrix(rotm_relative[:3,:3]).as_euler('xyz')\n",
    "            seed = np.array([[rotm_relative[0,-1], rotm_relative[1,-1], rotm_relative[2,-1], rpy[0], rpy[1], rpy[2]]])\n",
    "            seeds = np.append(seeds, seed, axis = 0)\n",
    "            \n",
    "print(len(to_close))\n",
    "print(to_close)\n",
    "print(seeds[20])"
   ]
  },
  {
   "cell_type": "code",
   "execution_count": 137,
   "id": "8875bd06",
   "metadata": {},
   "outputs": [
    {
     "name": "stdout",
     "output_type": "stream",
     "text": [
      "[41, 94]\n",
      "[ 0.10558465  0.18439912 -0.21920871  0.03763917  0.06884191 -3.09378835]\n"
     ]
    },
    {
     "data": {
      "text/plain": [
       "<vedo.plotter.Plotter at 0x7f2573831070>"
      ]
     },
     "execution_count": 137,
     "metadata": {},
     "output_type": "execute_result"
    }
   ],
   "source": [
    "#debug initial seeds for loop closure\n",
    "idx = 100\n",
    "print(to_close[idx])\n",
    "print(seeds[idx])\n",
    "\n",
    "fn1 = \"apartment/keyframe_\" + str(to_close[idx][0]+1) + \".csv\"\n",
    "fn2 = \"apartment/keyframe_\" + str(to_close[idx][1]+1) + \".csv\"\n",
    "# fn1 = \"keyframe_\" + str(to_close[idx][0]+1) + \".csv\"\n",
    "# fn2 = \"keyframe_\" + str(to_close[idx][1]+1) + \".csv\"\n",
    "pc1 = np.loadtxt(fn1, delimiter=\",\")\n",
    "pc2 = np.loadtxt(fn2, delimiter=\",\")\n",
    "\n",
    "plt = Plotter(N = 1, axes = 0, bg = (0.2, 0.2, 0.2), interactive = True)\n",
    "disp = []\n",
    "p2_p1f_lc = (pc2 - seeds[idx,:3]) @ R.from_euler('xyz',-seeds[idx,3:]).as_matrix()\n",
    "disp.append(Points(p2_p1f_lc, c = 'green', r = 3, alpha = 0.5))\n",
    "\n",
    "disp.append(Points(pc1, c = 'red', r = 3, alpha = 0.5))\n",
    "disp.append(Points(pc2, c = 'blue', r = 3, alpha = 0.5))\n",
    "plt.show(disp, \"using graph solution to seed ICP for generating new constraints\") "
   ]
  },
  {
   "cell_type": "code",
   "execution_count": 123,
   "id": "c04c9d40",
   "metadata": {
    "scrolled": true
   },
   "outputs": [
    {
     "name": "stdout",
     "output_type": "stream",
     "text": [
      "Bad loop closure detected: 90 -> 64 (Mahalanobis dist: 32.06)\n",
      "Bad loop closure detected: 91 -> 64 (Mahalanobis dist: 32.21)\n",
      "[112, 113]\n",
      "Removing 2 bad constraints and re-optimizing...\n"
     ]
    }
   ],
   "source": [
    "#remove bad factors\n",
    "import gtsam\n",
    "import numpy as np\n",
    "from gtsam import Pose3, Rot3, Point3\n",
    "\n",
    "def detect_bad_loop_closures(added_factors, result, threshold=20.0):\n",
    "    \"\"\"Detect loop closures with high Mahalanobis distance.\"\"\"\n",
    "    bad_factors = []\n",
    "    \n",
    "    for i, factor in enumerate(added_factors):\n",
    "        if isinstance(factor, gtsam.BetweenFactorPose3):\n",
    "            key1, key2 = factor.keys()\n",
    "            \n",
    "            # Get poses from the result\n",
    "            pose1 = result.atPose3(key1)\n",
    "            pose2 = result.atPose3(key2)\n",
    "            \n",
    "            # Get the measured relative pose from the factor\n",
    "            measured_pose = factor.measured()\n",
    "            \n",
    "            # Compute the expected relative pose based on current estimate\n",
    "            expected_pose = pose1.between(pose2)\n",
    "            \n",
    "            # Compute error: difference between measured and expected\n",
    "            error = gtsam.Pose3.Logmap(measured_pose.between(expected_pose.inverse()))\n",
    "            \n",
    "            # Convert GTSAM vector to numpy array\n",
    "            error_np = np.array([error[i] for i in range(6)])\n",
    "            \n",
    "            # Get the noise model from the factor\n",
    "            noise_model = factor.noiseModel()\n",
    "            \n",
    "            # Convert information matrix to covariance\n",
    "            # For a Diagonal noise model, we can use:\n",
    "            if isinstance(noise_model, gtsam.noiseModel.Diagonal):\n",
    "                # Get sigmas (square root of diagonal of covariance)\n",
    "                sigmas = np.array([noise_model.sigmas()[i] for i in range(6)])\n",
    "                # Square to get variances\n",
    "                variances = sigmas ** 2\n",
    "                # Create diagonal covariance matrix\n",
    "                covariance = np.diag(variances)\n",
    "            else:\n",
    "                # For other noise models, this is an approximation\n",
    "                info = np.eye(6)  # Default to identity if we can't get info matrix\n",
    "                covariance = np.linalg.inv(info)\n",
    "            \n",
    "            # Compute Mahalanobis distance\n",
    "            mdist = np.sqrt(error_np.T @ np.linalg.inv(covariance) @ error_np)\n",
    "            \n",
    "            if mdist > threshold:\n",
    "                print(f\"Bad loop closure detected: {key1} -> {key2} (Mahalanobis dist: {mdist:.2f})\")\n",
    "                bad_factors.append(i)  # Store index of the bad factor\n",
    "    \n",
    "    return bad_factors\n",
    "\n",
    "#DEBUG HERE~~~~~~~~~~~~~~~~~~~~~~~~~\n",
    "# Initialize iSAM2 and other structures\n",
    "parameters = gtsam.ISAM2Params()\n",
    "isam = gtsam.ISAM2(parameters)\n",
    "\n",
    "# Initialize the graph and initial values\n",
    "graph = gtsam.NonlinearFactorGraph()\n",
    "initial = gtsam.Values()\n",
    "added_factors = []  # List to keep track of the added factors\n",
    "\n",
    "# Identify the first keyframe appearing in constraints (get the min keyframe)\n",
    "first_keyframe = min(int(row[6]) for row in odometry_history)\n",
    "\n",
    "# Add a prior on the first keyframe to anchor the solution\n",
    "prior_noise = gtsam.noiseModel.Diagonal.Sigmas([1e-3] * 6)  # Small uncertainty\n",
    "pose_prior = gtsam.Pose3(gtsam.Rot3.Identity(), gtsam.Point3(0, 0, 0))\n",
    "graph.add(gtsam.PriorFactorPose3(first_keyframe, pose_prior, prior_noise))\n",
    "initial.insert(first_keyframe, pose_prior)  # Make sure the first keyframe is initialized\n",
    "\n",
    "# Now, process the constraints and add them incrementally\n",
    "for row in odometry_history:\n",
    "    x, y, z, roll, pitch, yaw, keyframe1, keyframe2 = row\n",
    "    x *= -1\n",
    "    y *= -1\n",
    "    z *= -1\n",
    "    roll *= -1\n",
    "    pitch *= -1\n",
    "    yaw *= -1  \n",
    "    \n",
    "    keyframe1, keyframe2 = int(keyframe1), int(keyframe2)\n",
    "\n",
    "    # Ensure keyframe1 is initialized before we process the constraint\n",
    "    if not initial.exists(keyframe1):\n",
    "        print(f\"Skipping constraint {keyframe1} -> {keyframe2} (keyframe1 not initialized yet)\")\n",
    "        continue  # Skip this constraint if keyframe1 is not initialized yet\n",
    "\n",
    "    # Convert to Pose3 transformation\n",
    "    rot = gtsam.Rot3.Ypr(yaw, pitch, roll)\n",
    "    relative_pose = gtsam.Pose3(rot, gtsam.Point3(x, y, z))\n",
    "\n",
    "    # Define a noise model for the constraint\n",
    "    constraint_noise = gtsam.noiseModel.Diagonal.Sigmas([0.1] * 6)\n",
    "\n",
    "    # Add the BetweenFactorPose3 constraint\n",
    "    factor = gtsam.BetweenFactorPose3(keyframe1, keyframe2, relative_pose, constraint_noise)\n",
    "    graph.add(factor)\n",
    "    added_factors.append(factor)\n",
    "\n",
    "    # Initialize keyframe2 if not already present\n",
    "    if not initial.exists(keyframe2):\n",
    "        prev_pose = initial.atPose3(keyframe1)  # This will now always exist\n",
    "        new_pose = prev_pose.compose(relative_pose)\n",
    "        initial.insert(keyframe2, new_pose)\n",
    "\n",
    "# Update iSAM2 incrementally with the factors and initial values\n",
    "isam.update(graph, initial)\n",
    "\n",
    "# Now, calculate the current estimate using iSAM2\n",
    "result = isam.calculateEstimate()\n",
    "\n",
    "# Clear graph and initial values after update (iSAM2 retains internal state)\n",
    "graph = gtsam.NonlinearFactorGraph()\n",
    "initial = gtsam.Values()\n",
    "\n",
    "# After optimization, detect and remove bad loop closures\n",
    "thresh = 20  # Threshold for bad loop closures\n",
    "bad_factors = detect_bad_loop_closures(added_factors, result, thresh)\n",
    "print(bad_factors)\n",
    "# After detecting bad loop closures\n",
    "if bad_factors:\n",
    "    print(f\"Removing {len(bad_factors)} bad constraints and re-optimizing...\")\n",
    "\n",
    "    # Rebuild the graph without the bad factors\n",
    "    graph = gtsam.NonlinearFactorGraph()\n",
    "    new_factors = [f for i, f in enumerate(added_factors) if i not in bad_factors]\n",
    "    \n",
    "    # Add prior factor to anchor the solution\n",
    "    graph.add(gtsam.PriorFactorPose3(first_keyframe, pose_prior, prior_noise))\n",
    "    \n",
    "    # Add the good factors back to the graph\n",
    "    for factor in new_factors:\n",
    "        graph.add(factor)\n",
    "\n",
    "    # Start with the first keyframe as initial value\n",
    "    initial = gtsam.Values()\n",
    "    initial.insert(first_keyframe, pose_prior)\n",
    "    \n",
    "    # Initialize other keyframes based on good constraints\n",
    "    initialized_keys = {first_keyframe}\n",
    "    \n",
    "    # Keep trying to initialize keyframes until no more can be initialized\n",
    "    progress = True\n",
    "    while progress:\n",
    "        progress = False\n",
    "        for factor in new_factors:\n",
    "            if isinstance(factor, gtsam.BetweenFactorPose3):\n",
    "                key1, key2 = factor.keys()\n",
    "                \n",
    "                # If key1 is initialized but key2 is not\n",
    "                if key1 in initialized_keys and key2 not in initialized_keys:\n",
    "                    prev_pose = initial.atPose3(key1)\n",
    "                    new_pose = prev_pose.compose(factor.measured())\n",
    "                    initial.insert(key2, new_pose)\n",
    "                    initialized_keys.add(key2)\n",
    "                    progress = True\n",
    "                \n",
    "                # If key2 is initialized but key1 is not\n",
    "                elif key2 in initialized_keys and key1 not in initialized_keys:\n",
    "                    prev_pose = initial.atPose3(key2)\n",
    "                    new_pose = prev_pose.compose(factor.measured().inverse())\n",
    "                    initial.insert(key1, new_pose)\n",
    "                    initialized_keys.add(key1)\n",
    "                    progress = True\n",
    "    \n",
    "    # Re-initialize iSAM2 with the cleaned graph and initial estimate\n",
    "    isam = gtsam.ISAM2(parameters)\n",
    "    isam.update(graph, initial)\n",
    "    result = isam.calculateEstimate()\n",
    "\n",
    "# # Print final poses for debugging\n",
    "# for i in range(len(odometry_history) + 1):\n",
    "#     if result.exists(i):\n",
    "#         print(f\"Pose {i}: {result.atPose3(i)}\")"
   ]
  },
  {
   "cell_type": "code",
   "execution_count": null,
   "id": "0b79968b",
   "metadata": {},
   "outputs": [],
   "source": []
  },
  {
   "cell_type": "code",
   "execution_count": null,
   "id": "7be4f289",
   "metadata": {},
   "outputs": [],
   "source": []
  },
  {
   "cell_type": "code",
   "execution_count": null,
   "id": "158a4169",
   "metadata": {
    "scrolled": true
   },
   "outputs": [],
   "source": [
    "# print(graph.keys())\n",
    "# print(initial.keys())\n",
    "# print(initial)\n",
    "# print(graph.nrFactors)\n",
    "# graph.nrFactor\n",
    "# graph.print()"
   ]
  },
  {
   "cell_type": "code",
   "execution_count": null,
   "id": "2bd9918d",
   "metadata": {},
   "outputs": [],
   "source": [
    "# # Create an empty nonlinear factor graph\n",
    "# graph = gtsam.NonlinearFactorGraph() \n",
    "\n",
    "# # Add a prior on the first pose, setting it to the origin\n",
    "# priorRot = gtsam.Rot3(R_tf(np.array([0., 0., 0.])))\n",
    "# priorMean = gtsam.Pose3(priorRot, np.array([0., 0., .0])) #prior at nonzero pose\n",
    "# PRIOR_NOISE = gtsam.noiseModel.Diagonal.Sigmas(\n",
    "#     np.array([0.003, 0.003, 0.003, 1e-5, 1e-5, 1e-5], dtype = np.float64))\n",
    "# graph.add(gtsam.PriorFactorPose3(0, priorMean, PRIOR_NOISE)) #constrain first point at priorMean\n",
    "\n",
    "# #loop through all constraints \n",
    "# for i in range(len(ij)):\n",
    "#     rot = gtsam.Rot3(R_tf(odometry_history[i,3:7]))    #convert to Point3 strucutre\n",
    "#     transform = gtsam.Pose3(rot, odometry_history[i,:3])\n",
    "#     cov_estimate = gtsam.noiseModel.Diagonal.Sigmas(pred_stds_history[i,:-2])\n",
    "#     graph.add(gtsam.BetweenFactorPose3(ij[i,0], ij[i,1], transform, cov_estimate))\n",
    "\n",
    "# #set initial conditions\n",
    "# initial = gtsam.Values()\n",
    "# print(\"\\n graph size:\", graph.size(), \"max ij\", np.max(ij))\n",
    "# # for j in range(graph.size()):\n",
    "# for j in range(int(np.max(ij))+1):\n",
    "# #     init_rot = gtsam.Rot3(sr[j-1,:3,:3])\n",
    "# #     init_pose = gtsam.Pose3(init_rot, -sr[j-1,:3,3])\n",
    "#     init_rot = gtsam.Rot3(0.01*np.random.randn(3))\n",
    "# #     init_pose = gtsam.Pose3(init_rot, 1.*np.random.randn(3))\n",
    "#     init_pose = gtsam.Pose3(init_rot, j*odometry_history[i,:3])\n",
    "#     initial.insert(j, init_pose)\n",
    "    \n",
    "# # # optimize using Levenberg-Marquardt optimization\n",
    "# # # damped optimizer - seems to work much better here\n",
    "# # params = gtsam.LevenbergMarquardtParams()\n",
    "# # optimizer = gtsam.LevenbergMarquardtOptimizer(graph, initial, params)\n",
    "\n",
    "# # # simple gauss newton - kinda unreliable for high DOF problems (especially with zero initial conditions)\n",
    "# # params = gtsam.GaussNewtonParams()\n",
    "# # params.setVerbosity(\"Termination\")  # this will show info about stopping conds\n",
    "# # optimizer = gtsam.GaussNewtonOptimizer(graph, initial, params)\n",
    "\n",
    "# # dogleg\n",
    "# params = gtsam.DoglegParams()\n",
    "# params.setVerbosity(\"Termination\")\n",
    "# params.setMaxIterations(10)\n",
    "# optimizer = gtsam.DoglegOptimizer(graph, initial, params)\n",
    "\n",
    "# result = optimizer.optimize()\n",
    "# marginals = gtsam.Marginals(graph, result) #calculate covariance estimates for each pose\n",
    "\n",
    "# print(\"initial error = \", graph.error(initial))\n",
    "# print(\"final error = \", graph.error(result))\n",
    "# # print(initial.keys())\n",
    "# # print(graph.keys())"
   ]
  },
  {
   "cell_type": "code",
   "execution_count": null,
   "id": "3f1afde6",
   "metadata": {},
   "outputs": [],
   "source": []
  }
 ],
 "metadata": {
  "kernelspec": {
   "display_name": "Python 3 (ipykernel)",
   "language": "python",
   "name": "python3"
  },
  "language_info": {
   "codemirror_mode": {
    "name": "ipython",
    "version": 3
   },
   "file_extension": ".py",
   "mimetype": "text/x-python",
   "name": "python",
   "nbconvert_exporter": "python",
   "pygments_lexer": "ipython3",
   "version": "3.8.10"
  }
 },
 "nbformat": 4,
 "nbformat_minor": 5
}
