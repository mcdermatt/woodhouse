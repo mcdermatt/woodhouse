{
 "cells": [
  {
   "cell_type": "code",
   "execution_count": 1,
   "id": "86a26a31",
   "metadata": {},
   "outputs": [
    {
     "name": "stderr",
     "output_type": "stream",
     "text": [
      "2025-04-02 15:09:41.556329: I tensorflow/core/platform/cpu_feature_guard.cc:193] This TensorFlow binary is optimized with oneAPI Deep Neural Network Library (oneDNN) to use the following CPU instructions in performance-critical operations:  AVX2 FMA\n",
      "To enable them in other operations, rebuild TensorFlow with the appropriate compiler flags.\n",
      "2025-04-02 15:09:42.090146: W tensorflow/compiler/xla/stream_executor/platform/default/dso_loader.cc:64] Could not load dynamic library 'libnvinfer.so.7'; dlerror: libnvinfer.so.7: cannot open shared object file: No such file or directory; LD_LIBRARY_PATH: /usr/local/lib:/usr/local/lib:/home/derm/ROS/devel/lib:/opt/ros/noetic/lib:/usr/local/lib\n",
      "2025-04-02 15:09:42.090216: W tensorflow/compiler/xla/stream_executor/platform/default/dso_loader.cc:64] Could not load dynamic library 'libnvinfer_plugin.so.7'; dlerror: libnvinfer_plugin.so.7: cannot open shared object file: No such file or directory; LD_LIBRARY_PATH: /usr/local/lib:/usr/local/lib:/home/derm/ROS/devel/lib:/opt/ros/noetic/lib:/usr/local/lib\n",
      "2025-04-02 15:09:42.090221: W tensorflow/compiler/tf2tensorrt/utils/py_utils.cc:38] TF-TRT Warning: Cannot dlopen some TensorRT libraries. If you would like to use Nvidia GPU with TensorRT, please make sure the missing libraries mentioned above are installed properly.\n"
     ]
    }
   ],
   "source": [
    "from vedo import *\n",
    "from ipyvtklink.viewer import ViewInteractiveWidget\n",
    "#needed for running on laptop~~~~~\n",
    "from vedo import settings\n",
    "settings.default_backend = 'vtk'\n",
    "#~~~~~~~~~~~~~~~~~~~~~~~~~~~~~~~~~\n",
    "import numpy as np\n",
    "# import tensorflow as tf\n",
    "from scipy.spatial.transform import Rotation as R\n",
    "\n",
    "import gtsam\n",
    "import gtsam.utils.plot as gtsam_plot\n",
    "from gtsam import Pose3, Rot3, Point3\n",
    "from pose_graph_utils import *\n",
    "import tensorflow as tf\n",
    "from tensorflow import  sin, cos, tan\n",
    "\n",
    "import numpy as np\n",
    "from matplotlib import pyplot as p\n",
    "%load_ext autoreload\n",
    "%autoreload 2"
   ]
  },
  {
   "cell_type": "markdown",
   "id": "026e1800",
   "metadata": {},
   "source": [
    "# Draw frames from odometry constraints"
   ]
  },
  {
   "cell_type": "code",
   "execution_count": 475,
   "id": "1a25b07b",
   "metadata": {
    "scrolled": true
   },
   "outputs": [
    {
     "name": "stdout",
     "output_type": "stream",
     "text": [
      "150\n"
     ]
    }
   ],
   "source": [
    "#load relative poses from odometry file\n",
    "# constraints = np.loadtxt(\"apartment/pose_data.csv\", delimiter=',',skiprows=1)\n",
    "constraints = np.loadtxt(\"pose_data.csv\", delimiter=',',skiprows=1)\n",
    "\n",
    "# print(constraints[:,0] == 1)\n",
    "# print(constraints[:,:3])\n",
    "\n",
    "odom_raw = constraints[constraints[:,0] == 0][:,1:]  # raw odometry constraints \n",
    "sr_raw = constraints[constraints[:,0] == 1][:,1:]    # sequential registration of keyframe constraints\n",
    "lc_raw = constraints[constraints[:,0] == 2][:,1:]    # loop closure constraints\n",
    "\n",
    "# odom_raw = sr_raw #DEBUG-- uncomment to draw SR traj ~~~~~~~~~~~~~~~~~~~~~~~~~~~~~~~~~~~~~~~~~~~~~~~~~~\n",
    "print(len(odom_raw))\n",
    "#convert to rotation matrix\n",
    "odom = np.zeros([len(odom_raw),4,4])\n",
    "odom[0] = np.eye(4)\n",
    "for i in range(1,len(odom_raw)):\n",
    "    odom[i] = np.eye(4)\n",
    "    curr = np.eye(4)\n",
    "    #Full 6DOF transform\n",
    "#     curr[:3,:3] = R.from_quat(odom_raw[i,5:]).as_matrix() #scipy depreciated syntax :(\n",
    "    curr[:3,:3] = R.from_quat(odom_raw[i,5:]).as_dcm() \n",
    "#     #Suppress Pitch and Roll\n",
    "#     full_rot = R.from_quat(odom_raw[i,5:]).as_euler('xyz')\n",
    "#     curr[:3,:3] = R.from_euler('xyz', [0,0,full_rot[2]]).as_matrix()\n",
    "\n",
    "    curr[:3,-1] = odom_raw[i,2:5]\n",
    "    #forward conga line (works)\n",
    "    for j in range(i):\n",
    "        odom[j] = curr @ odom[j]    \n",
    "\n",
    "#bring back to map frame\n",
    "OG = odom[0].copy()\n",
    "for j in range(len(odom_raw)):\n",
    "    odom[j] = np.linalg.pinv(OG) @ odom[j]\n",
    "        \n",
    "sr = np.zeros([len(sr_raw),4,4])\n",
    "sr[0] = np.eye(4)\n",
    "for i in range(len(sr_raw)):\n",
    "    sr[i] = np.eye(4)\n",
    "    curr = np.eye(4)\n",
    "    #FULL DOF\n",
    "#     curr[:3,:3] = R.from_quat(sr_raw[i,5:]).as_matrix()\n",
    "    curr[:3,:3] = R.from_quat(sr_raw[i,5:]).as_dcm()\n",
    "#     #Suppress Pitch and Roll\n",
    "#     full_rot = R.from_quat(sr_raw[i,5:]).as_euler('xyz')\n",
    "#     curr[:3,:3] = R.from_euler('xyz', [0,0,full_rot[2]]).as_matrix()    \n",
    "    curr[:3,-1] = sr_raw[i,2:5]\n",
    "    for j in range(i+1):\n",
    "        sr[j] = curr @ sr[j]"
   ]
  },
  {
   "cell_type": "code",
   "execution_count": 476,
   "id": "6986a56f",
   "metadata": {},
   "outputs": [
    {
     "name": "stderr",
     "output_type": "stream",
     "text": [
      "\u001b[1m[vedo.plotter.py:3439] INFO: Closing window now. Plotter.escaped is set to True.\u001b[0m\n"
     ]
    },
    {
     "data": {
      "text/plain": [
       "<vedo.plotter.Plotter at 0x7fa5a5f645b0>"
      ]
     },
     "execution_count": 476,
     "metadata": {},
     "output_type": "execute_result"
    }
   ],
   "source": [
    "plt = Plotter(N = 1, axes = 0, bg = (1, 1, 1), interactive = True) #axes = 4 (simple), 1(scale)\n",
    "disp=[]         \n",
    "scale = 0.25\n",
    "runlen = len(odom) - 1\n",
    "# runlen = 75\n",
    "\n",
    "for i in range(0,runlen):\n",
    "    rotm = odom[i,:,:]\n",
    "#     rotm = sr[i,:,:] #TEST\n",
    "#     print(rotm)\n",
    "    alph = 1-(i/runlen)\n",
    "    \n",
    "    #forward view direction (-z in NeRF c2w convention)\n",
    "    # x\n",
    "    headings = rotm[:3,:3] @ np.array([scale,0,0])\n",
    "    disp.append(Arrows(rotm[:3,-1][None,:], (rotm[:3,-1] + headings)[None,:], c = \"red\", alpha = alph))\n",
    "    #y\n",
    "    headings = rotm[:3,:3] @ np.array([0,scale,0])\n",
    "    disp.append(Arrows(rotm[:3,-1][None,:], (rotm[:3,-1] + headings)[None,:], c = \"green\", alpha = alph))\n",
    "    #z\n",
    "    headings = rotm[:3,:3] @ np.array([0,0,scale])\n",
    "    disp.append(Arrows(rotm[:3,-1][None,:], (rotm[:3,-1] + headings)[None,:], c = \"blue\", alpha = alph))\n",
    "    #draw line between odometry\n",
    "    disp.append(Line(odom[i,:3,3], odom[i+1,:3,3], c = 'black', lw=2))\n",
    "    \n",
    "    #draw any potential loop closure constraints\n",
    "    for j in range(len(lc_raw)):\n",
    "        if lc_raw[j,0] == i:\n",
    "            disp.append(Line(odom[i,:3,3], odom[int(lc_raw[j,1]),:3,3], c = 'red', lw=3, alpha = 0.3))\n",
    "    \n",
    "\n",
    "plt.show(disp, \"dead reckoning from odometry constraints\")"
   ]
  },
  {
   "cell_type": "code",
   "execution_count": 477,
   "id": "976342a0",
   "metadata": {
    "scrolled": false
   },
   "outputs": [
    {
     "data": {
      "text/plain": [
       "<matplotlib.legend.Legend at 0x7fa5a5f648b0>"
      ]
     },
     "execution_count": 477,
     "metadata": {},
     "output_type": "execute_result"
    },
    {
     "data": {
      "image/png": "[encoded data removed]",
      "text/plain": [
       "<Figure size 640x480 with 1 Axes>"
      ]
     },
     "metadata": {},
     "output_type": "display_data"
    }
   ],
   "source": [
    "fig, ax = p.subplots()   \n",
    "odom_euls = np.zeros([0,3])\n",
    "for i in range(1,len(odom_raw)):\n",
    "#     rotm = R.from_quat(odom_raw[i,5:]).as_matrix()\n",
    "    rotm = R.from_quat(odom_raw[i,5:]).as_dcm()\n",
    "    rpy = np.array([np.arctan2(rotm[2,1],rotm[2,2]), np.arcsin(rotm[2,0]), np.arctan2(rotm[1,0], rotm[0,0])])\n",
    "    odom_euls = np.append(odom_euls, rpy[None,:], axis = 0)\n",
    "\n",
    "sr_euls = np.zeros([0,3])\n",
    "for i in range(1,len(sr_raw)):\n",
    "#     rotm = R.from_quat(sr_raw[i,5:]).as_matrix()\n",
    "    rotm = R.from_quat(sr_raw[i,5:]).as_dcm()\n",
    "    rpy = np.array([np.arctan2(rotm[2,1],rotm[2,2]), np.arcsin(rotm[2,0]), np.arctan2(rotm[1,0], rotm[0,0])])\n",
    "    sr_euls = np.append(sr_euls, rpy[None,:], axis = 0)\n",
    "\n",
    "ax.plot(odom_euls[1:,2], label = 'odom yaw')\n",
    "ax.plot(sr_euls[:,2], label = 'sequential cloud registration yaw')\n",
    "ax.legend(loc='best')"
   ]
  },
  {
   "cell_type": "code",
   "execution_count": 478,
   "id": "5a7513c0",
   "metadata": {
    "scrolled": false
   },
   "outputs": [
    {
     "data": {
      "text/plain": [
       "<matplotlib.legend.Legend at 0x7fa5a5f23bb0>"
      ]
     },
     "execution_count": 478,
     "metadata": {},
     "output_type": "execute_result"
    },
    {
     "data": {
      "image/png": "[encoded data removed]",
      "text/plain": [
       "<Figure size 640x480 with 1 Axes>"
      ]
     },
     "metadata": {},
     "output_type": "display_data"
    }
   ],
   "source": [
    "fig, ax = p.subplots()\n",
    "# print(odom_raw[:10,2:5], \"\\n \\n\", sr_raw[:10,2:5])\n",
    "ax.plot(odom_raw[1:,2], label = 'odom x')\n",
    "ax.plot(sr_raw[:,2], label = 'sequential registration x')\n",
    "ax.legend(loc='best')"
   ]
  },
  {
   "cell_type": "markdown",
   "id": "9da90ae3",
   "metadata": {},
   "source": [
    "# Draw point clouds registered according to raw odometry and sequential keyframe registration"
   ]
  },
  {
   "cell_type": "code",
   "execution_count": 452,
   "id": "49d1719e",
   "metadata": {},
   "outputs": [
    {
     "name": "stdout",
     "output_type": "stream",
     "text": [
      "[20.         21.         -0.135203   -0.00122022 -0.00619606  0.0237277\n",
      " -0.00702295  0.0072491   0.999668  ]\n",
      "20 19\n"
     ]
    }
   ],
   "source": [
    "#load keyframe point clouds\n",
    "idx = 20\n",
    "idx2 = idx + 1\n",
    "# fn1 = \"apartment/keyframe_\" + str(idx) + \".csv\"\n",
    "# fn2 = \"apartment/keyframe_\" + str(idx2) + \".csv\"\n",
    "fn1 = \"keyframe_\" + str(idx) + \".csv\"\n",
    "fn2 = \"keyframe_\" + str(idx2) + \".csv\"\n",
    "pc1 = np.loadtxt(fn1, delimiter=\",\")\n",
    "pc2 = np.loadtxt(fn2, delimiter=\",\")\n",
    "# print(odom_raw[idx,2:5], R.from_quat(odom_raw[idx,5:]).as_euler('xyz'))\n",
    "print(odom_raw[idx])\n",
    "\n",
    "#get row corresponding to correct odometry constraint\n",
    "odom_idx = np.where(odom_raw[:,0] == idx)[0][0]\n",
    "sr_idx = np.where(sr_raw[:,0] == idx)[0][0]\n",
    "print(odom_idx, sr_idx)"
   ]
  },
  {
   "cell_type": "code",
   "execution_count": 453,
   "id": "706bdc3a",
   "metadata": {},
   "outputs": [
    {
     "name": "stderr",
     "output_type": "stream",
     "text": [
      "\u001b[1m\u001b[33;20m[vedo.plotter.py:909] WARNING: call to add() but Plotter was not initialized with show()\u001b[0m\n",
      "\u001b[1m\u001b[33;20m[vedo.plotter.py:909] WARNING: call to add() but Plotter was not initialized with show()\u001b[0m\n",
      "\u001b[1m[vedo.plotter.py:3439] INFO: Closing window now. Plotter.escaped is set to True.\u001b[0m\n"
     ]
    },
    {
     "data": {
      "text/plain": [
       "<vedo.plotter.Plotter at 0x7fa5a5f9fa00>"
      ]
     },
     "execution_count": 453,
     "metadata": {},
     "output_type": "execute_result"
    }
   ],
   "source": [
    "plt = Plotter(N = 2, axes = 0, bg = (0.2, 0.2, 0.2), interactive = True) #axes = 4 (simple), 1(scale)\n",
    "disp_odom=[]\n",
    "disp_odom.append(Points(pc1, c = 'red', r = 3, alpha = 0.5))\n",
    "disp_odom.append(Points(pc2, c = 'blue', r = 3, alpha = 0.5))\n",
    "disp_sr=[]\n",
    "disp_sr.append(Points(pc1, c = 'red', r = 3, alpha = 0.5))\n",
    "disp_sr.append(Points(pc2, c = 'blue', r = 3, alpha = 0.5))\n",
    "\n",
    "# p2_p1f_odom = (pc2 - odom_raw[odom_idx,2:5]) @ R.from_quat(odom_raw[odom_idx,5:]).as_matrix()#works for odom output\n",
    "# p2_p1f_sr = (pc2 - sr_raw[sr_idx,2:5]) @ R.from_quat(sr_raw[sr_idx,5:]).as_matrix()#works for odom output\n",
    "p2_p1f_odom = (pc2 - odom_raw[odom_idx,2:5]) @ R.from_quat(odom_raw[odom_idx,5:]).as_dcm()#works for odom output\n",
    "p2_p1f_sr = (pc2 - sr_raw[sr_idx,2:5]) @ R.from_quat(sr_raw[sr_idx,5:]).as_dcm()#works for odom output\n",
    "disp_odom.append(Points(p2_p1f_odom, c = 'green', r = 3, alpha = 0.5))\n",
    "disp_sr.append(Points(p2_p1f_sr, c = 'green', r = 3, alpha = 0.5))\n",
    "\n",
    "plt.at(0).add(disp_odom, \"odometry\")              \n",
    "plt.at(1).add(disp_sr, \"loop closure between neighboring keyframes\")              \n",
    "plt.show()#\"scan 1 (red), scan2 (blue), scan2 in s1 frame (green)\" "
   ]
  },
  {
   "cell_type": "markdown",
   "id": "ae3c49fa",
   "metadata": {},
   "source": [
    "# Look at loop closure canidates (from scan context)"
   ]
  },
  {
   "cell_type": "code",
   "execution_count": 454,
   "id": "d82a2d41",
   "metadata": {
    "scrolled": true
   },
   "outputs": [
    {
     "name": "stdout",
     "output_type": "stream",
     "text": [
      "[[ 61.  16.]\n",
      " [ 64.  12.]\n",
      " [ 65.  10.]\n",
      " [142.  69.]\n",
      " [143.  69.]\n",
      " [144.  68.]\n",
      " [145.  66.]\n",
      " [147.   9.]\n",
      " [148.   4.]\n",
      " [149.   4.]\n",
      " [150.   3.]]\n"
     ]
    }
   ],
   "source": [
    "print(lc_raw[:,:2])"
   ]
  },
  {
   "cell_type": "code",
   "execution_count": 455,
   "id": "b943e6c8",
   "metadata": {},
   "outputs": [
    {
     "name": "stdout",
     "output_type": "stream",
     "text": [
      "[150.           3.           0.184782     0.0168001    0.00638921\n",
      "  -0.0036948    0.0328963    0.0142911    0.99935   ]\n",
      "150 3\n"
     ]
    },
    {
     "name": "stderr",
     "output_type": "stream",
     "text": [
      "\u001b[1m[vedo.plotter.py:3439] INFO: Closing window now. Plotter.escaped is set to True.\u001b[0m\n"
     ]
    },
    {
     "data": {
      "text/plain": [
       "<vedo.plotter.Plotter at 0x7fa5a6086160>"
      ]
     },
     "execution_count": 455,
     "metadata": {},
     "output_type": "execute_result"
    }
   ],
   "source": [
    "lc_idx = 10\n",
    "print(lc_raw[lc_idx,:])\n",
    "idx = int((lc_raw[lc_idx,0]))\n",
    "idx2 = int((lc_raw[lc_idx,1]))\n",
    "print(idx, idx2)\n",
    "\n",
    "\n",
    "# fn1 = \"apartment/keyframe_\" + str(idx) + \".csv\"\n",
    "# fn2 = \"apartment/keyframe_\" + str(idx2) + \".csv\"\n",
    "fn1 = \"keyframe_\" + str(idx) + \".csv\"\n",
    "fn2 = \"keyframe_\" + str(idx2) + \".csv\"\n",
    "pc1 = np.loadtxt(fn1, delimiter=\",\")\n",
    "pc2 = np.loadtxt(fn2, delimiter=\",\")\n",
    "\n",
    "plt = Plotter(N = 1, axes = 0, bg = (0.2, 0.2, 0.2), interactive = True)\n",
    "disp = []\n",
    "# p2_p1f_lc = (pc2 - lc_raw[lc_idx,2:5]) @ R.from_quat(lc_raw[lc_idx,5:]).as_matrix()\n",
    "p2_p1f_lc = (pc2 - lc_raw[lc_idx,2:5]) @ R.from_quat(lc_raw[lc_idx,5:]).as_dcm()\n",
    "disp.append(Points(p2_p1f_lc, c = 'green', r = 3, alpha = 0.5))\n",
    "\n",
    "disp.append(Points(pc1, c = 'red', r = 3, alpha = 0.5))\n",
    "disp.append(Points(pc2, c = 'blue', r = 3, alpha = 0.5))\n",
    "plt.show(disp, \"registering point clouds with scan context loop closure \") "
   ]
  },
  {
   "cell_type": "markdown",
   "id": "5a1029b2",
   "metadata": {},
   "source": [
    "# Optimize Sequential Keyframe trajectory + Loop Closure Constraints\n",
    "\n",
    "### TODO:\n",
    "* Combine SR with odom data\n",
    "* replace batch GTSAM optimization with incramental iSAM2\n",
    "* create new python node"
   ]
  },
  {
   "cell_type": "code",
   "execution_count": 352,
   "id": "f408df37",
   "metadata": {
    "scrolled": true
   },
   "outputs": [],
   "source": [
    "# #make basic corkscrew trajectory for debug~~~~~~~~~~~~~~~\n",
    "# npts = 50\n",
    "# odometry_history = np.tile(np.array([0.0, 0.45, 0.18, 0.0, 0.0, 0.3]), (npts,1)) #will create corkscrew motion\n",
    "# pred_stds_history = np.tile(np.array([[0.001, 0.005, 0.001, 1e-6, 1e-6, 1e-5]]), (len(odometry_history),1))\n",
    "# ij = np.array([[0,1]])\n",
    "# for i in range(1,len(odometry_history)):\n",
    "#     ij = np.append(ij, np.array([[i, i+1]]), axis = 0)\n",
    "# ij[npts-1,1] = 30\n",
    "# ij[40,0] = 10\n",
    "# odometry_history = np.append(odometry_history, ij, axis= 1)   #match format output by ROS package\n",
    "# pred_stds_history = np.append(pred_stds_history, ij, axis= 1) #match format output by ROS package\n",
    "# #Linear traj ~~~~~~~~~~~~~~~~~~~~~~~~~~~~~~~~~~~~~~~~~~~~~~~\n",
    "# npts = 15\n",
    "# odometry_history = np.tile(np.array([1.0, 0., 0., 0.0, 0.0, 0.01]), (npts,1)) #will create corkscrew motion\n",
    "# pred_stds_history = np.tile(np.array([[0.001, 0.001, 0.01, 1e-4, 1e-4, 1e-5]]), (len(odometry_history),1))\n",
    "# ij = np.array([[0,1]])\n",
    "# for i in range(1,len(odometry_history)):\n",
    "#     ij = np.append(ij, np.array([[i, i+1]]), axis = 0)\n",
    "# odometry_history = np.append(odometry_history, ij, axis= 1)   #match format output by ROS package\n",
    "# pred_stds_history = np.append(pred_stds_history, ij, axis= 1) #match format output by ROS package\n",
    "\n",
    "# #add extra constraint between middle and another random\n",
    "# extra = np.array([[0.1,0.,0.,0.,0.,0.,10,3]])\n",
    "\n",
    "# odometry_history = np.append(odometry_history, extra, axis = 0)\n",
    "# pred_stds_history = np.append(pred_stds_history, pred_stds_history[-1,:][None,:], axis = 0)\n",
    "# ij = odometry_history[:,-2:].astype(np.int32)\n",
    "# # print(odometry_history)\n",
    "# #~~~~~~~~~~~~~~~~~~~~~~~~~~~~~~~~~~~~~~~~~~~~~~~~~~~~~~~~\n",
    "# # print(ij)"
   ]
  },
  {
   "cell_type": "code",
   "execution_count": 353,
   "id": "932746e3",
   "metadata": {
    "scrolled": true
   },
   "outputs": [],
   "source": [
    "OH = np.zeros([len(sr_raw)+len(lc_raw),8])\n",
    "for i in range(len(sr_raw)):\n",
    "    OH[i,:3] = sr_raw[i,2:5]\n",
    "    OH[i,3:6] = R.from_quat(sr_raw[i,5:]).as_euler('xyz')\n",
    "    OH[i,6] = sr_raw[i,0] - 1\n",
    "    OH[i,7] = sr_raw[i,1] - 1\n",
    "# print(OH[:,-2:])\n",
    "# print(sr_raw[:,:2])\n",
    "for j in range(len(lc_raw)):\n",
    "    OH[len(sr_raw)+j,:3] = lc_raw[j,2:5]\n",
    "    OH[len(sr_raw)+j,3:6] = R.from_quat(lc_raw[j,5:]).as_euler('xyz')\n",
    "    #DEBUG\n",
    "#     OH[len(sr_raw)+j,:3] = np.array([0.,0.,0.])\n",
    "#     OH[len(sr_raw)+j,3:6] = np.array([0.,0.,0.])\n",
    "    OH[len(sr_raw)+j,6] = lc_raw[j,0] - 1\n",
    "    OH[len(sr_raw)+j,7] = lc_raw[j,1] - 1\n",
    "\n",
    "    \n",
    "odometry_history = OH\n",
    "pred_stds_history = np.tile(np.array([[0.01, 0.01, 0.01, 1e-3, 1e-3, 1e-4]]), (len(odometry_history),1))\n",
    "pred_stds_history = np.append(pred_stds_history, odometry_history[:,-2:], axis = 1)\n",
    "ij = odometry_history[:,-2:].astype(np.int32)"
   ]
  },
  {
   "cell_type": "code",
   "execution_count": 378,
   "id": "aef2c645",
   "metadata": {},
   "outputs": [],
   "source": [
    "# print(odometry_history)\n",
    "# print(ij)"
   ]
  },
  {
   "cell_type": "code",
   "execution_count": 355,
   "id": "e980b7d0",
   "metadata": {},
   "outputs": [
    {
     "ename": "RuntimeError",
     "evalue": "Attempting to at the key \"0\", which does not exist in the Values.",
     "output_type": "error",
     "traceback": [
      "\u001b[0;31m---------------------------------------------------------------------------\u001b[0m",
      "\u001b[0;31mRuntimeError\u001b[0m                              Traceback (most recent call last)",
      "Cell \u001b[0;32mIn[355], line 51\u001b[0m\n\u001b[1;32m     49\u001b[0m params\u001b[38;5;241m.\u001b[39msetMaxIterations(\u001b[38;5;241m100\u001b[39m)\n\u001b[1;32m     50\u001b[0m params\u001b[38;5;241m.\u001b[39msetVerbosity(\u001b[38;5;124m\"\u001b[39m\u001b[38;5;124mTermination\u001b[39m\u001b[38;5;124m\"\u001b[39m)\n\u001b[0;32m---> 51\u001b[0m optimizer \u001b[38;5;241m=\u001b[39m \u001b[43mgtsam\u001b[49m\u001b[38;5;241;43m.\u001b[39;49m\u001b[43mDoglegOptimizer\u001b[49m\u001b[43m(\u001b[49m\u001b[43mgraph\u001b[49m\u001b[43m,\u001b[49m\u001b[43m \u001b[49m\u001b[43minitial\u001b[49m\u001b[43m,\u001b[49m\u001b[43m \u001b[49m\u001b[43mparams\u001b[49m\u001b[43m)\u001b[49m\n\u001b[1;32m     52\u001b[0m result \u001b[38;5;241m=\u001b[39m optimizer\u001b[38;5;241m.\u001b[39moptimize()\n\u001b[1;32m     54\u001b[0m \u001b[38;5;66;03m# Print results\u001b[39;00m\n\u001b[1;32m     55\u001b[0m \u001b[38;5;66;03m# for i in range(len(constraints) + 1):\u001b[39;00m\n\u001b[1;32m     56\u001b[0m \u001b[38;5;66;03m#     print(f\"Pose {i}: {result.atPose3(i)}\")\u001b[39;00m\n",
      "\u001b[0;31mRuntimeError\u001b[0m: Attempting to at the key \"0\", which does not exist in the Values."
     ]
    }
   ],
   "source": [
    "# Batch optimization\n",
    "# Example constraint array: [x, y, z, roll, pitch, yaw, keyframe_idx1, keyframe_idx2]\n",
    "constraints = odometry_history.copy()\n",
    "\n",
    "# Initialize factor graph and values\n",
    "graph = gtsam.NonlinearFactorGraph()\n",
    "initial = gtsam.Values()\n",
    "\n",
    "# Add a prior on the first keyframe to anchor the solution\n",
    "prior_noise = gtsam.noiseModel.Diagonal.Sigmas([1e-3, 1e-3, 1e-3, 1e-3, 1e-3, 1e-3])  # Small uncertainty\n",
    "# pose_prior = Pose3(Rot3.Identity(), Point3(0, 0, 0))\n",
    "pose_prior = Pose3(Rot3.identity(), Point3(0, 0, 0))\n",
    "graph.add(gtsam.PriorFactorPose3(1, pose_prior, prior_noise))\n",
    "\n",
    "# Initialize first pose estimate\n",
    "initial.insert(1, pose_prior)\n",
    "\n",
    "# Add constraints and initialize other keyframes\n",
    "for row in constraints:\n",
    "    x, y, z, roll, pitch, yaw, keyframe1, keyframe2 = row\n",
    "    \n",
    "    x *= -1 \n",
    "    y *= -1 \n",
    "    z *= -1 \n",
    "    roll *= -1 \n",
    "    pitch *= -1\n",
    "    yaw *= -1 #TEST\n",
    "    \n",
    "    # Convert quaternion to rotation matrix\n",
    "    rot = Rot3.Ypr(yaw, pitch, roll)  # YPR order (Yaw-Pitch-Roll)\n",
    "    \n",
    "    # Create relative Pose3 transformation\n",
    "    relative_pose = Pose3(rot, Point3(x, y, z))\n",
    "\n",
    "    # Define a noise model (adjust values based on confidence in constraints)\n",
    "    constraint_noise = gtsam.noiseModel.Diagonal.Sigmas([0.1, 0.1, 0.1, 0.1, 0.1, 0.1])  \n",
    "\n",
    "    # Add BetweenFactorPose3 for relative transformation\n",
    "    #had this\n",
    "    graph.add(gtsam.BetweenFactorPose3(int(keyframe1), int(keyframe2), relative_pose, constraint_noise))\n",
    "\n",
    "    # Initialize poses (assuming incremental movement)\n",
    "    if not initial.exists(int(keyframe2)):\n",
    "        prev_pose = initial.atPose3(int(keyframe1))\n",
    "        initial.insert(int(keyframe2), prev_pose.compose(relative_pose))\n",
    "\n",
    "# Optimize\n",
    "params = gtsam.DoglegParams()\n",
    "params.setMaxIterations(100)\n",
    "params.setVerbosity(\"Termination\")\n",
    "optimizer = gtsam.DoglegOptimizer(graph, initial, params)\n",
    "result = optimizer.optimize()\n",
    "\n",
    "# Print results\n",
    "# for i in range(len(constraints) + 1):\n",
    "#     print(f\"Pose {i}: {result.atPose3(i)}\")\n"
   ]
  },
  {
   "cell_type": "code",
   "execution_count": 386,
   "id": "c9e579e7",
   "metadata": {},
   "outputs": [
    {
     "name": "stderr",
     "output_type": "stream",
     "text": [
      "\u001b[1m[vedo.plotter.py:3439] INFO: Closing window now. Plotter.escaped is set to True.\u001b[0m\n"
     ]
    },
    {
     "data": {
      "text/plain": [
       "<vedo.plotter.Plotter at 0x7fa5a5ffadf0>"
      ]
     },
     "execution_count": 386,
     "metadata": {},
     "output_type": "execute_result"
    }
   ],
   "source": [
    "from pose_graph_utils import *\n",
    "\n",
    "#Plot results\n",
    "plt1 = Plotter(N = 1, axes = 1, bg =(1, 1, 1), interactive = True) #ax=7 gives rulers\n",
    "disp = []\n",
    "disp = plot_results(disp, result, ij, draw_axis=True) #draw without ellipsoids\n",
    "# disp = plot_results(disp, result, ij, marginals, draw_axis = True) #draws covarince ellipsoids\n",
    "plt1.show(disp, \"Factor Graph Optmized Poses\")"
   ]
  },
  {
   "cell_type": "markdown",
   "id": "75c113b3",
   "metadata": {},
   "source": [
    "# Detect bad factors and run again"
   ]
  },
  {
   "cell_type": "code",
   "execution_count": 357,
   "id": "961f68cf",
   "metadata": {},
   "outputs": [
    {
     "name": "stdout",
     "output_type": "stream",
     "text": [
      "Bad loop closure detected: 8 -> 9 (Mahalanobis dist: 22.17)\n",
      "Bad loop closure detected: 61 -> 9 (Mahalanobis dist: 27.87)\n"
     ]
    }
   ],
   "source": [
    "#Only works with batch optimized graph (iSAM2 doesn't retain internal state in the same way)\n",
    "def mahalanobis_distance(error, covariance):\n",
    "    \"\"\"Compute the Mahalanobis distance.\"\"\"\n",
    "    return error.T @ np.linalg.inv(covariance) @ error\n",
    "\n",
    "def detect_bad_loop_closures(graph, result, threshold=20.0):\n",
    "    bad_factors = []\n",
    "    for i in range(graph.size()):\n",
    "        factor = graph.at(i) \n",
    "        if isinstance(factor, gtsam.BetweenFactorPose3):\n",
    "            key1, key2 = factor.keys()\n",
    "\n",
    "            # Compute expected relative pose based on current estimate\n",
    "            expected_pose = result.atPose3(key1).between(result.atPose3(key2))\n",
    "            measured_pose = factor.measured()\n",
    "            \n",
    "            # Compute the relative transformation error\n",
    "            error = gtsam.Pose3.Logmap(measured_pose.inverse() * expected_pose)\n",
    "\n",
    "            # Get covariance from noise model\n",
    "            covariance = factor.noiseModel().covariance()\n",
    "\n",
    "            # Compute Mahalanobis distance\n",
    "            mdist = mahalanobis_distance(error, covariance)\n",
    "\n",
    "            if mdist > threshold:\n",
    "                print(f\"Bad loop closure detected: {key1} -> {key2} (Mahalanobis dist: {mdist:.2f})\")\n",
    "                bad_factors.append(i)  # Store index of the bad factor\n",
    "    return bad_factors\n",
    "\n",
    "def optimize_slam(graph, initial_estimate, thresh = 20.):\n",
    "    \"\"\"Optimize the SLAM graph and remove bad loop closures based on Mahalanobis distance.\"\"\"\n",
    "    optimizer = gtsam.LevenbergMarquardtOptimizer(graph, initial_estimate)\n",
    "    result = optimizer.optimize()\n",
    "\n",
    "    # Detect bad loop closures\n",
    "    bad_factors = detect_bad_loop_closures(graph, result, thresh)\n",
    "\n",
    "    if bad_factors:\n",
    "        # Remove bad constraints\n",
    "        new_graph = gtsam.NonlinearFactorGraph()\n",
    "        for i in range(graph.size()):\n",
    "            if i not in bad_factors:\n",
    "                new_graph.add(graph.at(i))\n",
    "\n",
    "        # Re-optimize with cleaned graph\n",
    "        optimizer = gtsam.LevenbergMarquardtOptimizer(new_graph, initial_estimate)\n",
    "        result = optimizer.optimize()\n",
    "\n",
    "    return result\n",
    "\n",
    "# Initialize estimates for keyframe positions from initial graph convergence\n",
    "initial_estimate = gtsam.Values()\n",
    "current_pose = gtsam.Pose3()\n",
    "for i in range(graph.size()):\n",
    "    factor = graph.at(i)\n",
    "    if isinstance(factor, gtsam.BetweenFactorPose3):\n",
    "        key1, key2 = factor.keys()  # Get the keys\n",
    "\n",
    "        if not initial_estimate.exists(key1):  # Insert key1 if not already present\n",
    "            initial_estimate.insert(key1, current_pose)\n",
    "\n",
    "        # Apply odometry to get next pose\n",
    "        current_pose = current_pose.compose(factor.measured())\n",
    "\n",
    "        if not initial_estimate.exists(key2):  # FIX: Check before inserting key2\n",
    "            initial_estimate.insert(key2, current_pose)\n",
    "\n",
    "thresh = 20 #too low and we lose connectivity in our odometry chain\n",
    "result = optimize_slam(graph, initial_estimate, thresh)"
   ]
  },
  {
   "cell_type": "markdown",
   "id": "5d46e2e6",
   "metadata": {},
   "source": [
    "# Draw Keyframe Clouds on Optimized Trajectory "
   ]
  },
  {
   "cell_type": "code",
   "execution_count": 492,
   "id": "f9e9c73b",
   "metadata": {
    "scrolled": true
   },
   "outputs": [
    {
     "name": "stderr",
     "output_type": "stream",
     "text": [
      "\u001b[1m[vedo.plotter.py:3439] INFO: Closing window now. Plotter.escaped is set to True.\u001b[0m\n"
     ]
    },
    {
     "data": {
      "text/plain": [
       "<vedo.plotter.Plotter at 0x7fa5a5f323a0>"
      ]
     },
     "execution_count": 492,
     "metadata": {},
     "output_type": "execute_result"
    }
   ],
   "source": [
    "plt1 = Plotter(N = 1, axes = 0, bg =(1, 1, 1), interactive = True) #ax=7 gives rulers\n",
    "disp = []\n",
    "\n",
    "for i in range(2,result.size(), 5):\n",
    "# for i in range(2,20):\n",
    "    t = result.atPose3(i).matrix()\n",
    "    pc = np.loadtxt(\"keyframe_\" + str(i+1) + \".csv\",delimiter=\",\")\n",
    "#     pc = np.loadtxt(\"apartment/keyframe_\" + str(i+1) + \".csv\",delimiter=\",\")\n",
    "    pc4 = np.append(pc, np.ones([len(pc),1]), axis = 1)\n",
    "    pc_wf = (t @ pc4.T).T    \n",
    "    disp.append(Points(pc_wf[:,:3], c = 'gray', r=3, alpha = 0.125))\n",
    "    disp.append(Points(t[:3,-1][None,:], c = 'red', r = 10))\n",
    "\n",
    "plt1.show(disp, \"Drawing Optimized Map\")"
   ]
  },
  {
   "cell_type": "markdown",
   "id": "9983bd1c",
   "metadata": {},
   "source": [
    "# Repeat with incramental iSAM2 graph"
   ]
  },
  {
   "cell_type": "code",
   "execution_count": 479,
   "id": "8860b75e",
   "metadata": {},
   "outputs": [],
   "source": [
    "# print(ij)"
   ]
  },
  {
   "cell_type": "code",
   "execution_count": 489,
   "id": "7a87a5e6",
   "metadata": {},
   "outputs": [],
   "source": [
    "OH = np.zeros([len(sr_raw)+len(lc_raw),8])\n",
    "# OH = np.zeros([len(sr_raw)+len(lc_raw)+len(odom_raw)-1,8])\n",
    "for i in range(len(sr_raw)):\n",
    "    OH[i,:3] = sr_raw[i,2:5]\n",
    "    OH[i,3:6] = R.from_quat(sr_raw[i,5:]).as_euler('xyz')\n",
    "    OH[i,6] = sr_raw[i,0] - 1\n",
    "    OH[i,7] = sr_raw[i,1] - 1\n",
    "for j in range(len(lc_raw)-1):\n",
    "#     OLD-- not matching up with true trajectory(?)\n",
    "#     OH[len(sr_raw)+j,:3] = lc_raw[j,2:5]\n",
    "#     OH[len(sr_raw)+j,3:6] = R.from_quat(lc_raw[j,5:]).as_euler('xyz')\n",
    "#     OH[len(sr_raw)+j,6] = lc_raw[j,0] - 1\n",
    "#     OH[len(sr_raw)+j,7] = lc_raw[j,1] - 1\n",
    "#     TEST??-- I have no idea where this sign flip is coming from but it seems to fix things...\n",
    "    OH[len(sr_raw)+j,6] = lc_raw[j,0] - 1\n",
    "    OH[len(sr_raw)+j,7] = lc_raw[j,1] - 1\n",
    "    OH[len(sr_raw)+j,:3] = -lc_raw[j,2:5]\n",
    "    OH[len(sr_raw)+j,3:6] = R.from_quat(lc_raw[j,5:]).as_euler('xyz')\n",
    "\n",
    "odometry_history = OH\n",
    "pred_stds_history = np.tile(np.array([[0.01, 0.01, 0.01, 1e-3, 1e-3, 1e-4]]), (len(odometry_history),1))\n",
    "pred_stds_history = np.append(pred_stds_history, odometry_history[:,-2:], axis = 1)\n",
    "ij = odometry_history[:,-2:].astype(np.int32)"
   ]
  },
  {
   "cell_type": "code",
   "execution_count": 490,
   "id": "c3cd91bf",
   "metadata": {},
   "outputs": [],
   "source": [
    "#incramental optimization with iSAM2\n",
    "# Example constraint array: [x, y, z, roll, pitch, yaw, keyframe_idx1, keyframe_idx2]\n",
    "constraints = odometry_history.copy()\n",
    "\n",
    "# Initialize iSAM2\n",
    "parameters = gtsam.ISAM2Params()\n",
    "isam = gtsam.ISAM2(parameters)\n",
    "\n",
    "# Initialize factor graph and values\n",
    "graph = gtsam.NonlinearFactorGraph()\n",
    "initial = gtsam.Values()\n",
    "\n",
    "# Add a prior on the first keyframe to anchor the solution\n",
    "prior_noise = gtsam.noiseModel.Diagonal.Sigmas([1e-3] * 6)  # Small uncertainty\n",
    "# pose_prior = Pose3(Rot3.Identity(), Point3(0, 0, 0))\n",
    "pose_prior = Pose3(Rot3.identity(), Point3(0, 0, 0))\n",
    "graph.add(gtsam.PriorFactorPose3(0, pose_prior, prior_noise))\n",
    "initial.insert(0, pose_prior)  # Insert first keyframe\n",
    "\n",
    "# Apply first update to initialize iSAM2\n",
    "isam.update(graph, initial)\n",
    "graph.resize(0)  # Clear graph after update\n",
    "initial.clear()  # Clear values after inserting into iSAM2\n",
    "\n",
    "# Process constraints iteratively\n",
    "for row in constraints:\n",
    "    x, y, z, roll, pitch, yaw, keyframe1, keyframe2 = row\n",
    "    x *= -1\n",
    "    y *= -1\n",
    "    z *= -1\n",
    "    roll *= -1\n",
    "    pitch *= -1\n",
    "    yaw *= -1  \n",
    "\n",
    "    # Convert to Pose3 transformation\n",
    "    rot = Rot3.Ypr(yaw, pitch, roll)  # YPR order (Yaw-Pitch-Roll)\n",
    "    relative_pose = Pose3(rot, Point3(x, y, z))\n",
    "\n",
    "    # Define a noise model\n",
    "    constraint_noise = gtsam.noiseModel.Diagonal.Sigmas([0.1] * 6)\n",
    "\n",
    "    # Add BetweenFactorPose3 to graph\n",
    "    graph.add(gtsam.BetweenFactorPose3(int(keyframe1), int(keyframe2), relative_pose, constraint_noise))\n",
    "\n",
    "    # Prepare new values for iSAM2\n",
    "    new_values = gtsam.Values()\n",
    "    if not isam.valueExists(int(keyframe2)):  # Check if keyframe2 is new\n",
    "        prev_pose = isam.calculateEstimate().atPose3(int(keyframe1))  # Get latest estimate\n",
    "        new_values.insert(int(keyframe2), prev_pose.compose(relative_pose))\n",
    "\n",
    "    # Update iSAM2 incrementally\n",
    "    isam.update(graph, new_values)\n",
    "    \n",
    "    # Clear graph & values after update (iSAM2 retains internal state)\n",
    "    graph.resize(0)\n",
    "    new_values.clear()\n",
    "\n",
    "result = isam.calculateEstimate()\n",
    "# for i in range(int(np.max(constraints)) + 1):\n",
    "#     print(f\"Pose {i}: {result.atPose3(i)}\")"
   ]
  },
  {
   "cell_type": "code",
   "execution_count": 491,
   "id": "74dd1b5f",
   "metadata": {},
   "outputs": [
    {
     "name": "stderr",
     "output_type": "stream",
     "text": [
      "\u001b[1m[vedo.plotter.py:3439] INFO: Closing window now. Plotter.escaped is set to True.\u001b[0m\n"
     ]
    },
    {
     "data": {
      "text/plain": [
       "<vedo.plotter.Plotter at 0x7fa5a5f37ca0>"
      ]
     },
     "execution_count": 491,
     "metadata": {},
     "output_type": "execute_result"
    }
   ],
   "source": [
    "#Plot (initial) results\n",
    "plt1 = Plotter(N = 1, axes = 1, bg =(1, 1, 1), interactive = True) #ax=7 gives rulers\n",
    "disp = []\n",
    "disp = plot_results(disp, result, ij, draw_axis=True) #draw without ellipsoids\n",
    "# disp = plot_results(disp, result, ij, marginals, draw_axis = True) #draws covarince ellipsoids\n",
    "plt1.show(disp, \"Factor Graph Optmized Poses\")"
   ]
  },
  {
   "cell_type": "markdown",
   "id": "9e1ce7e0",
   "metadata": {},
   "source": [
    "# TODO-- find nearby keyframes not already in graph, use ICP to generate new loop closures"
   ]
  },
  {
   "cell_type": "code",
   "execution_count": null,
   "id": "d72355c2",
   "metadata": {},
   "outputs": [],
   "source": [
    "skip_n = 10 #don't try do to loop closure constraints if we're less than this far apart\n",
    "search_thresh = 1.\n",
    "to_close = [] #keyframes that we should be able to add constraints for (they are close according to initial graph)\n",
    "seeds = np.zeros([0,6]) #seeds for initial registration of scan j to scan i [x, y, z, r, p, y]\n",
    "#loop through constraints (skip first?)\n",
    "for i in range(1,np.max(ij)):\n",
    "    ci = result.atPose3(i).translation() #center i\n",
    "    for j in range(i+skip_n, np.max(ij)+1):\n",
    "        cj = result.atPose3(j).translation() #center j\n",
    "        d = sqrt(sum((ci-cj)**2))\n",
    "        if d < search_thresh:\n",
    "            to_close.append([i,j])\n",
    "            rotm_i = result.atPose3(i).matrix()\n",
    "            rotm_j = result.atPose3(j).matrix()\n",
    "            rotm_relative = np.linalg.pinv(rotm_i) @ rotm_j\n",
    "            rpy = R.from_matrix(rotm_relative[:3,:3]).as_euler('xyz')\n",
    "            seed = np.array([[rotm_relative[0,-1], rotm_relative[1,-1], rotm_relative[2,-1], rpy[0], rpy[1], rpy[2]]])\n",
    "            seeds = np.append(seeds, seed, axis = 0)\n",
    "            \n",
    "print(len(to_close))\n",
    "print(to_close)\n",
    "print(seeds[20])"
   ]
  },
  {
   "cell_type": "code",
   "execution_count": null,
   "id": "8875bd06",
   "metadata": {},
   "outputs": [],
   "source": [
    "#debug initial seeds for loop closure\n",
    "idx = 100\n",
    "print(to_close[idx])\n",
    "print(seeds[idx])\n",
    "\n",
    "fn1 = \"apartment/keyframe_\" + str(to_close[idx][0]+1) + \".csv\"\n",
    "fn2 = \"apartment/keyframe_\" + str(to_close[idx][1]+1) + \".csv\"\n",
    "# fn1 = \"keyframe_\" + str(to_close[idx][0]+1) + \".csv\"\n",
    "# fn2 = \"keyframe_\" + str(to_close[idx][1]+1) + \".csv\"\n",
    "pc1 = np.loadtxt(fn1, delimiter=\",\")\n",
    "pc2 = np.loadtxt(fn2, delimiter=\",\")\n",
    "\n",
    "plt = Plotter(N = 1, axes = 0, bg = (0.2, 0.2, 0.2), interactive = True)\n",
    "disp = []\n",
    "p2_p1f_lc = (pc2 - seeds[idx,:3]) @ R.from_euler('xyz',-seeds[idx,3:]).as_matrix()\n",
    "disp.append(Points(p2_p1f_lc, c = 'green', r = 3, alpha = 0.5))\n",
    "\n",
    "disp.append(Points(pc1, c = 'red', r = 3, alpha = 0.5))\n",
    "disp.append(Points(pc2, c = 'blue', r = 3, alpha = 0.5))\n",
    "plt.show(disp, \"using graph solution to seed ICP for generating new constraints\") "
   ]
  },
  {
   "cell_type": "code",
   "execution_count": null,
   "id": "c04c9d40",
   "metadata": {
    "scrolled": true
   },
   "outputs": [],
   "source": [
    "#remove bad factors\n",
    "import gtsam\n",
    "import numpy as np\n",
    "from gtsam import Pose3, Rot3, Point3\n",
    "\n",
    "def detect_bad_loop_closures(added_factors, result, threshold=20.0):\n",
    "    \"\"\"Detect loop closures with high Mahalanobis distance.\"\"\"\n",
    "    bad_factors = []\n",
    "    \n",
    "    for i, factor in enumerate(added_factors):\n",
    "        if isinstance(factor, gtsam.BetweenFactorPose3):\n",
    "            key1, key2 = factor.keys()\n",
    "            \n",
    "            # Get poses from the result\n",
    "            pose1 = result.atPose3(key1)\n",
    "            pose2 = result.atPose3(key2)\n",
    "            \n",
    "            # Get the measured relative pose from the factor\n",
    "            measured_pose = factor.measured()\n",
    "            \n",
    "            # Compute the expected relative pose based on current estimate\n",
    "            expected_pose = pose1.between(pose2)\n",
    "            \n",
    "            # Compute error: difference between measured and expected\n",
    "            error = gtsam.Pose3.Logmap(measured_pose.between(expected_pose.inverse()))\n",
    "            \n",
    "            # Convert GTSAM vector to numpy array\n",
    "            error_np = np.array([error[i] for i in range(6)])\n",
    "            \n",
    "            # Get the noise model from the factor\n",
    "            noise_model = factor.noiseModel()\n",
    "            \n",
    "            # Convert information matrix to covariance\n",
    "            # For a Diagonal noise model, we can use:\n",
    "            if isinstance(noise_model, gtsam.noiseModel.Diagonal):\n",
    "                # Get sigmas (square root of diagonal of covariance)\n",
    "                sigmas = np.array([noise_model.sigmas()[i] for i in range(6)])\n",
    "                # Square to get variances\n",
    "                variances = sigmas ** 2\n",
    "                # Create diagonal covariance matrix\n",
    "                covariance = np.diag(variances)\n",
    "            else:\n",
    "                # For other noise models, this is an approximation\n",
    "                info = np.eye(6)  # Default to identity if we can't get info matrix\n",
    "                covariance = np.linalg.inv(info)\n",
    "            \n",
    "            # Compute Mahalanobis distance\n",
    "            mdist = np.sqrt(error_np.T @ np.linalg.inv(covariance) @ error_np)\n",
    "            \n",
    "            if mdist > threshold:\n",
    "                print(f\"Bad loop closure detected: {key1} -> {key2} (Mahalanobis dist: {mdist:.2f})\")\n",
    "                bad_factors.append(i)  # Store index of the bad factor\n",
    "    \n",
    "    return bad_factors\n",
    "\n",
    "#DEBUG HERE~~~~~~~~~~~~~~~~~~~~~~~~~\n",
    "# Initialize iSAM2 and other structures\n",
    "parameters = gtsam.ISAM2Params()\n",
    "isam = gtsam.ISAM2(parameters)\n",
    "\n",
    "# Initialize the graph and initial values\n",
    "graph = gtsam.NonlinearFactorGraph()\n",
    "initial = gtsam.Values()\n",
    "added_factors = []  # List to keep track of the added factors\n",
    "\n",
    "# Identify the first keyframe appearing in constraints (get the min keyframe)\n",
    "first_keyframe = min(int(row[6]) for row in odometry_history)\n",
    "\n",
    "# Add a prior on the first keyframe to anchor the solution\n",
    "prior_noise = gtsam.noiseModel.Diagonal.Sigmas([1e-3] * 6)  # Small uncertainty\n",
    "pose_prior = gtsam.Pose3(gtsam.Rot3.Identity(), gtsam.Point3(0, 0, 0))\n",
    "graph.add(gtsam.PriorFactorPose3(first_keyframe, pose_prior, prior_noise))\n",
    "initial.insert(first_keyframe, pose_prior)  # Make sure the first keyframe is initialized\n",
    "\n",
    "# Now, process the constraints and add them incrementally\n",
    "for row in odometry_history:\n",
    "    x, y, z, roll, pitch, yaw, keyframe1, keyframe2 = row\n",
    "    x *= -1\n",
    "    y *= -1\n",
    "    z *= -1\n",
    "    roll *= -1\n",
    "    pitch *= -1\n",
    "    yaw *= -1  \n",
    "    \n",
    "    keyframe1, keyframe2 = int(keyframe1), int(keyframe2)\n",
    "\n",
    "    # Ensure keyframe1 is initialized before we process the constraint\n",
    "    if not initial.exists(keyframe1):\n",
    "        print(f\"Skipping constraint {keyframe1} -> {keyframe2} (keyframe1 not initialized yet)\")\n",
    "        continue  # Skip this constraint if keyframe1 is not initialized yet\n",
    "\n",
    "    # Convert to Pose3 transformation\n",
    "    rot = gtsam.Rot3.Ypr(yaw, pitch, roll)\n",
    "    relative_pose = gtsam.Pose3(rot, gtsam.Point3(x, y, z))\n",
    "\n",
    "    # Define a noise model for the constraint\n",
    "    constraint_noise = gtsam.noiseModel.Diagonal.Sigmas([0.1] * 6)\n",
    "\n",
    "    # Add the BetweenFactorPose3 constraint\n",
    "    factor = gtsam.BetweenFactorPose3(keyframe1, keyframe2, relative_pose, constraint_noise)\n",
    "    graph.add(factor)\n",
    "    added_factors.append(factor)\n",
    "\n",
    "    # Initialize keyframe2 if not already present\n",
    "    if not initial.exists(keyframe2):\n",
    "        prev_pose = initial.atPose3(keyframe1)  # This will now always exist\n",
    "        new_pose = prev_pose.compose(relative_pose)\n",
    "        initial.insert(keyframe2, new_pose)\n",
    "\n",
    "# Update iSAM2 incrementally with the factors and initial values\n",
    "isam.update(graph, initial)\n",
    "\n",
    "# Now, calculate the current estimate using iSAM2\n",
    "result = isam.calculateEstimate()\n",
    "\n",
    "# Clear graph and initial values after update (iSAM2 retains internal state)\n",
    "graph = gtsam.NonlinearFactorGraph()\n",
    "initial = gtsam.Values()\n",
    "\n",
    "# After optimization, detect and remove bad loop closures\n",
    "thresh = 20  # Threshold for bad loop closures\n",
    "bad_factors = detect_bad_loop_closures(added_factors, result, thresh)\n",
    "print(bad_factors)\n",
    "# After detecting bad loop closures\n",
    "if bad_factors:\n",
    "    print(f\"Removing {len(bad_factors)} bad constraints and re-optimizing...\")\n",
    "\n",
    "    # Rebuild the graph without the bad factors\n",
    "    graph = gtsam.NonlinearFactorGraph()\n",
    "    new_factors = [f for i, f in enumerate(added_factors) if i not in bad_factors]\n",
    "    \n",
    "    # Add prior factor to anchor the solution\n",
    "    graph.add(gtsam.PriorFactorPose3(first_keyframe, pose_prior, prior_noise))\n",
    "    \n",
    "    # Add the good factors back to the graph\n",
    "    for factor in new_factors:\n",
    "        graph.add(factor)\n",
    "\n",
    "    # Start with the first keyframe as initial value\n",
    "    initial = gtsam.Values()\n",
    "    initial.insert(first_keyframe, pose_prior)\n",
    "    \n",
    "    # Initialize other keyframes based on good constraints\n",
    "    initialized_keys = {first_keyframe}\n",
    "    \n",
    "    # Keep trying to initialize keyframes until no more can be initialized\n",
    "    progress = True\n",
    "    while progress:\n",
    "        progress = False\n",
    "        for factor in new_factors:\n",
    "            if isinstance(factor, gtsam.BetweenFactorPose3):\n",
    "                key1, key2 = factor.keys()\n",
    "                \n",
    "                # If key1 is initialized but key2 is not\n",
    "                if key1 in initialized_keys and key2 not in initialized_keys:\n",
    "                    prev_pose = initial.atPose3(key1)\n",
    "                    new_pose = prev_pose.compose(factor.measured())\n",
    "                    initial.insert(key2, new_pose)\n",
    "                    initialized_keys.add(key2)\n",
    "                    progress = True\n",
    "                \n",
    "                # If key2 is initialized but key1 is not\n",
    "                elif key2 in initialized_keys and key1 not in initialized_keys:\n",
    "                    prev_pose = initial.atPose3(key2)\n",
    "                    new_pose = prev_pose.compose(factor.measured().inverse())\n",
    "                    initial.insert(key1, new_pose)\n",
    "                    initialized_keys.add(key1)\n",
    "                    progress = True\n",
    "    \n",
    "    # Re-initialize iSAM2 with the cleaned graph and initial estimate\n",
    "    isam = gtsam.ISAM2(parameters)\n",
    "    isam.update(graph, initial)\n",
    "    result = isam.calculateEstimate()\n",
    "\n",
    "# # Print final poses for debugging\n",
    "# for i in range(len(odometry_history) + 1):\n",
    "#     if result.exists(i):\n",
    "#         print(f\"Pose {i}: {result.atPose3(i)}\")"
   ]
  },
  {
   "cell_type": "code",
   "execution_count": null,
   "id": "0b79968b",
   "metadata": {},
   "outputs": [],
   "source": []
  },
  {
   "cell_type": "code",
   "execution_count": null,
   "id": "7be4f289",
   "metadata": {},
   "outputs": [],
   "source": []
  },
  {
   "cell_type": "code",
   "execution_count": null,
   "id": "158a4169",
   "metadata": {
    "scrolled": true
   },
   "outputs": [],
   "source": [
    "# print(graph.keys())\n",
    "# print(initial.keys())\n",
    "# print(initial)\n",
    "# print(graph.nrFactors)\n",
    "# graph.nrFactor\n",
    "# graph.print()"
   ]
  },
  {
   "cell_type": "code",
   "execution_count": null,
   "id": "2bd9918d",
   "metadata": {},
   "outputs": [],
   "source": [
    "# # Create an empty nonlinear factor graph\n",
    "# graph = gtsam.NonlinearFactorGraph() \n",
    "\n",
    "# # Add a prior on the first pose, setting it to the origin\n",
    "# priorRot = gtsam.Rot3(R_tf(np.array([0., 0., 0.])))\n",
    "# priorMean = gtsam.Pose3(priorRot, np.array([0., 0., .0])) #prior at nonzero pose\n",
    "# PRIOR_NOISE = gtsam.noiseModel.Diagonal.Sigmas(\n",
    "#     np.array([0.003, 0.003, 0.003, 1e-5, 1e-5, 1e-5], dtype = np.float64))\n",
    "# graph.add(gtsam.PriorFactorPose3(0, priorMean, PRIOR_NOISE)) #constrain first point at priorMean\n",
    "\n",
    "# #loop through all constraints \n",
    "# for i in range(len(ij)):\n",
    "#     rot = gtsam.Rot3(R_tf(odometry_history[i,3:7]))    #convert to Point3 strucutre\n",
    "#     transform = gtsam.Pose3(rot, odometry_history[i,:3])\n",
    "#     cov_estimate = gtsam.noiseModel.Diagonal.Sigmas(pred_stds_history[i,:-2])\n",
    "#     graph.add(gtsam.BetweenFactorPose3(ij[i,0], ij[i,1], transform, cov_estimate))\n",
    "\n",
    "# #set initial conditions\n",
    "# initial = gtsam.Values()\n",
    "# print(\"\\n graph size:\", graph.size(), \"max ij\", np.max(ij))\n",
    "# # for j in range(graph.size()):\n",
    "# for j in range(int(np.max(ij))+1):\n",
    "# #     init_rot = gtsam.Rot3(sr[j-1,:3,:3])\n",
    "# #     init_pose = gtsam.Pose3(init_rot, -sr[j-1,:3,3])\n",
    "#     init_rot = gtsam.Rot3(0.01*np.random.randn(3))\n",
    "# #     init_pose = gtsam.Pose3(init_rot, 1.*np.random.randn(3))\n",
    "#     init_pose = gtsam.Pose3(init_rot, j*odometry_history[i,:3])\n",
    "#     initial.insert(j, init_pose)\n",
    "    \n",
    "# # # optimize using Levenberg-Marquardt optimization\n",
    "# # # damped optimizer - seems to work much better here\n",
    "# # params = gtsam.LevenbergMarquardtParams()\n",
    "# # optimizer = gtsam.LevenbergMarquardtOptimizer(graph, initial, params)\n",
    "\n",
    "# # # simple gauss newton - kinda unreliable for high DOF problems (especially with zero initial conditions)\n",
    "# # params = gtsam.GaussNewtonParams()\n",
    "# # params.setVerbosity(\"Termination\")  # this will show info about stopping conds\n",
    "# # optimizer = gtsam.GaussNewtonOptimizer(graph, initial, params)\n",
    "\n",
    "# # dogleg\n",
    "# params = gtsam.DoglegParams()\n",
    "# params.setVerbosity(\"Termination\")\n",
    "# params.setMaxIterations(10)\n",
    "# optimizer = gtsam.DoglegOptimizer(graph, initial, params)\n",
    "\n",
    "# result = optimizer.optimize()\n",
    "# marginals = gtsam.Marginals(graph, result) #calculate covariance estimates for each pose\n",
    "\n",
    "# print(\"initial error = \", graph.error(initial))\n",
    "# print(\"final error = \", graph.error(result))\n",
    "# # print(initial.keys())\n",
    "# # print(graph.keys())"
   ]
  },
  {
   "cell_type": "code",
   "execution_count": null,
   "id": "3f1afde6",
   "metadata": {},
   "outputs": [],
   "source": []
  }
 ],
 "metadata": {
  "kernelspec": {
   "display_name": "Python 3 (ipykernel)",
   "language": "python",
   "name": "python3"
  },
  "language_info": {
   "codemirror_mode": {
    "name": "ipython",
    "version": 3
   },
   "file_extension": ".py",
   "mimetype": "text/x-python",
   "name": "python",
   "nbconvert_exporter": "python",
   "pygments_lexer": "ipython3",
   "version": "3.8.10"
  }
 },
 "nbformat": 4,
 "nbformat_minor": 5
}
