{
 "cells": [
  {
   "cell_type": "code",
   "execution_count": 7,
   "id": "86a26a31",
   "metadata": {},
   "outputs": [],
   "source": [
    "from vedo import *\n",
    "from ipyvtklink.viewer import ViewInteractiveWidget\n",
    "import numpy as np\n",
    "# import tensorflow as tf\n",
    "\n",
    "import numpy as np\n",
    "from matplotlib import pyplot as plt\n"
   ]
  },
  {
   "cell_type": "code",
   "execution_count": 12,
   "id": "1a25b07b",
   "metadata": {},
   "outputs": [],
   "source": [
    "#load keyframe point clouds\n",
    "idx1 = 10\n",
    "fn1 = \"keyframe_\" + str(idx1) + \".csv\"\n",
    "k1 = np.loadtxt(fn1, delimiter=\",\")\n",
    "\n",
    "idx2 = 12\n",
    "fn2 = \"keyframe_\" + str(idx2) + \".csv\"\n",
    "k2 = np.loadtxt(fn2, delimiter=\",\")"
   ]
  },
  {
   "cell_type": "code",
   "execution_count": 13,
   "id": "706bdc3a",
   "metadata": {},
   "outputs": [
    {
     "data": {
      "text/plain": [
       "<vedo.plotter.Plotter at 0x7f53cf9aea30>"
      ]
     },
     "execution_count": 13,
     "metadata": {},
     "output_type": "execute_result"
    }
   ],
   "source": [
    "plt = Plotter(N = 1, axes = 1, bg = (1, 1, 1), interactive = True) #axes = 4 (simple), 1(scale)\n",
    "disp=[]          \n",
    "disp.append(Points(k1, c = 'red', r = 3, alpha = 0.5))\n",
    "disp.append(Points(k2, c = 'blue', r = 3, alpha = 0.5))\n",
    "plt.show(disp, \"debugging rays_o and rays_d\")\n",
    "# ViewInteractiveWidget(plt.window)  "
   ]
  },
  {
   "cell_type": "code",
   "execution_count": null,
   "id": "88758872",
   "metadata": {},
   "outputs": [],
   "source": []
  },
  {
   "cell_type": "code",
   "execution_count": null,
   "id": "3b864ad5",
   "metadata": {},
   "outputs": [],
   "source": []
  }
 ],
 "metadata": {
  "kernelspec": {
   "display_name": "Python 3 (ipykernel)",
   "language": "python",
   "name": "python3"
  },
  "language_info": {
   "codemirror_mode": {
    "name": "ipython",
    "version": 3
   },
   "file_extension": ".py",
   "mimetype": "text/x-python",
   "name": "python",
   "nbconvert_exporter": "python",
   "pygments_lexer": "ipython3",
   "version": "3.8.10"
  }
 },
 "nbformat": 4,
 "nbformat_minor": 5
}
