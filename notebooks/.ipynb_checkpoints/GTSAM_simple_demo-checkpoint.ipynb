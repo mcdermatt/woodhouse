{
 "cells": [
  {
   "cell_type": "code",
   "execution_count": 1,
   "id": "5a9856ca",
   "metadata": {},
   "outputs": [
    {
     "data": {
      "application/javascript": [
       "IPython.notebook.set_autosave_interval(180000)"
      ]
     },
     "metadata": {},
     "output_type": "display_data"
    },
    {
     "name": "stdout",
     "output_type": "stream",
     "text": [
      "Autosaving every 180 seconds\n"
     ]
    },
    {
     "name": "stderr",
     "output_type": "stream",
     "text": [
      "2025-02-24 19:26:12.899423: I tensorflow/core/platform/cpu_feature_guard.cc:193] This TensorFlow binary is optimized with oneAPI Deep Neural Network Library (oneDNN) to use the following CPU instructions in performance-critical operations:  AVX2 FMA\n",
      "To enable them in other operations, rebuild TensorFlow with the appropriate compiler flags.\n",
      "2025-02-24 19:26:13.417637: W tensorflow/compiler/xla/stream_executor/platform/default/dso_loader.cc:64] Could not load dynamic library 'libnvinfer.so.7'; dlerror: libnvinfer.so.7: cannot open shared object file: No such file or directory; LD_LIBRARY_PATH: /usr/local/lib:/usr/local/lib:\n",
      "2025-02-24 19:26:13.417712: W tensorflow/compiler/xla/stream_executor/platform/default/dso_loader.cc:64] Could not load dynamic library 'libnvinfer_plugin.so.7'; dlerror: libnvinfer_plugin.so.7: cannot open shared object file: No such file or directory; LD_LIBRARY_PATH: /usr/local/lib:/usr/local/lib:\n",
      "2025-02-24 19:26:13.417718: W tensorflow/compiler/tf2tensorrt/utils/py_utils.cc:38] TF-TRT Warning: Cannot dlopen some TensorRT libraries. If you would like to use Nvidia GPU with TensorRT, please make sure the missing libraries mentioned above are installed properly.\n"
     ]
    },
    {
     "name": "stdout",
     "output_type": "stream",
     "text": [
      "[PhysicalDevice(name='/physical_device:GPU:0', device_type='GPU')]\n"
     ]
    },
    {
     "name": "stderr",
     "output_type": "stream",
     "text": [
      "2025-02-24 19:26:14.323510: I tensorflow/compiler/xla/stream_executor/cuda/cuda_gpu_executor.cc:981] successful NUMA node read from SysFS had negative value (-1), but there must be at least one NUMA node, so returning NUMA node zero\n",
      "2025-02-24 19:26:14.350518: I tensorflow/compiler/xla/stream_executor/cuda/cuda_gpu_executor.cc:981] successful NUMA node read from SysFS had negative value (-1), but there must be at least one NUMA node, so returning NUMA node zero\n",
      "2025-02-24 19:26:14.350728: I tensorflow/compiler/xla/stream_executor/cuda/cuda_gpu_executor.cc:981] successful NUMA node read from SysFS had negative value (-1), but there must be at least one NUMA node, so returning NUMA node zero\n"
     ]
    }
   ],
   "source": [
    "%load_ext autoreload\n",
    "%autoreload 2\n",
    "%autosave 180\n",
    "%matplotlib notebook\n",
    "\n",
    "import gtsam\n",
    "import gtsam.utils.plot as gtsam_plot\n",
    "import matplotlib.pyplot as plt\n",
    "import numpy as np\n",
    "from ipyvtklink.viewer import ViewInteractiveWidget\n",
    "from vedo import  *\n",
    "from pose_graph_utils import *\n",
    "import tensorflow as tf\n",
    "from tensorflow import  sin, cos, tan"
   ]
  },
  {
   "cell_type": "markdown",
   "id": "db62dc7d",
   "metadata": {},
   "source": [
    "# generate simple corkscrew trajectory"
   ]
  },
  {
   "cell_type": "code",
   "execution_count": 2,
   "id": "964107fb",
   "metadata": {},
   "outputs": [],
   "source": [
    "npts = 150\n",
    "odometry_history = np.tile(np.array([0.0, 0.15, 0.08, 0.0, 0.0, 0.3]), (npts,1)) #will create corkscrew motion\n",
    "# #add process noise\n",
    "# odometry_history += np.random.randn(np.shape(odometry_history)[0], \n",
    "#                                     np.shape(odometry_history)[1])*np.array([0,0,0, 0.0,0.1,0.])  \n",
    "# make up history of standard deviations of measurement uncertainty\n",
    "pred_stds_history = np.tile(np.array([[0.001, 0.005, 0.001, 1e-6, 1e-6, 1e-5]]), (len(odometry_history),1))\n",
    "ij = np.array([[0,1]])\n",
    "for i in range(1,len(odometry_history)):\n",
    "    ij = np.append(ij, np.array([[i, i+1]]), axis = 0)"
   ]
  },
  {
   "cell_type": "markdown",
   "id": "c0a9554a",
   "metadata": {},
   "source": [
    "### Try commenting out/ uncommenting the line below to add loop closure"
   ]
  },
  {
   "cell_type": "code",
   "execution_count": 3,
   "id": "d18f348c",
   "metadata": {},
   "outputs": [],
   "source": [
    "ij[-1,1] = 50"
   ]
  },
  {
   "cell_type": "code",
   "execution_count": 4,
   "id": "a245c900",
   "metadata": {
    "scrolled": true
   },
   "outputs": [
    {
     "name": "stderr",
     "output_type": "stream",
     "text": [
      "2025-02-24 19:26:18.691923: I tensorflow/core/platform/cpu_feature_guard.cc:193] This TensorFlow binary is optimized with oneAPI Deep Neural Network Library (oneDNN) to use the following CPU instructions in performance-critical operations:  AVX2 FMA\n",
      "To enable them in other operations, rebuild TensorFlow with the appropriate compiler flags.\n",
      "2025-02-24 19:26:18.692680: I tensorflow/compiler/xla/stream_executor/cuda/cuda_gpu_executor.cc:981] successful NUMA node read from SysFS had negative value (-1), but there must be at least one NUMA node, so returning NUMA node zero\n",
      "2025-02-24 19:26:18.692890: I tensorflow/compiler/xla/stream_executor/cuda/cuda_gpu_executor.cc:981] successful NUMA node read from SysFS had negative value (-1), but there must be at least one NUMA node, so returning NUMA node zero\n",
      "2025-02-24 19:26:18.693057: I tensorflow/compiler/xla/stream_executor/cuda/cuda_gpu_executor.cc:981] successful NUMA node read from SysFS had negative value (-1), but there must be at least one NUMA node, so returning NUMA node zero\n",
      "2025-02-24 19:26:18.997089: I tensorflow/compiler/xla/stream_executor/cuda/cuda_gpu_executor.cc:981] successful NUMA node read from SysFS had negative value (-1), but there must be at least one NUMA node, so returning NUMA node zero\n",
      "2025-02-24 19:26:18.997309: I tensorflow/compiler/xla/stream_executor/cuda/cuda_gpu_executor.cc:981] successful NUMA node read from SysFS had negative value (-1), but there must be at least one NUMA node, so returning NUMA node zero\n",
      "2025-02-24 19:26:18.997502: I tensorflow/compiler/xla/stream_executor/cuda/cuda_gpu_executor.cc:981] successful NUMA node read from SysFS had negative value (-1), but there must be at least one NUMA node, so returning NUMA node zero\n",
      "2025-02-24 19:26:18.997624: I tensorflow/core/common_runtime/gpu/gpu_device.cc:1613] Created device /job:localhost/replica:0/task:0/device:GPU:0 with 4096 MB memory:  -> device: 0, name: NVIDIA GeForce RTX 3090, pci bus id: 0000:0a:00.0, compute capability: 8.6\n"
     ]
    },
    {
     "name": "stdout",
     "output_type": "stream",
     "text": [
      "KeyVector[]\n",
      "\n",
      " graph size: 151\n",
      "initial error = converged\n",
      " 325748091652201.06\n",
      "final error =  19122.04429112809\n",
      "errorThreshold: 19122 <? 0\n",
      "absoluteDecrease: 0.0290529541198 <? 1e-05\n",
      "relativeDecrease: 1.51934121353e-06 <? 1e-05\n",
      "iterations: 45 >? 100\n"
     ]
    }
   ],
   "source": [
    "odometry_history = np.append(odometry_history, ij, axis= 1)   #match format output by ROS package\n",
    "pred_stds_history = np.append(pred_stds_history, ij, axis= 1) #match format output by ROS package\n",
    "\n",
    "# Create an empty nonlinear factor graph\n",
    "graph = gtsam.NonlinearFactorGraph() \n",
    "\n",
    "# Add a prior on the first pose, setting it to the origin\n",
    "# A prior factor consists of a mean and a noise model (covariance matrix)\n",
    "# priorMean = gtsam.Pose3(np.zeros([6,1], dtype = np.float64))  # prior at origin\n",
    "priorRot = gtsam.Rot3(R_tf(np.array([0., 0., 0.8])))\n",
    "priorMean = gtsam.Pose3(priorRot, np.array([0., 0., .0])) #prior at nonzero pose\n",
    "PRIOR_NOISE = gtsam.noiseModel.Diagonal.Sigmas(\n",
    "    np.array([0.003, 0.003, 0.003, 1e-5, 1e-5, 1e-5], dtype = np.float64))\n",
    "# firstKey = initial.keys()[0] #TODO: what does this do???\n",
    "graph.add(gtsam.PriorFactorPose3(0, priorMean, PRIOR_NOISE)) #constrain first point at priorMean\n",
    "\n",
    "#loop through all constraints \n",
    "for i in range(len(ij)):\n",
    "# for i in range(int(np.max(ij))):\n",
    "# for i in range(1,int(np.max(ij)) + 1): #test\n",
    "    #get constraint \n",
    "    raw_odom = odometry_history[i,:-2] #omit scan indices stored at end of line\n",
    "    #convert to Point3 strucutre\n",
    "    point = raw_odom[:3] \n",
    "    rot = gtsam.Rot3(R_tf(raw_odom[3:]))\n",
    "    odometry_estimate = gtsam.Pose3(rot, point)\n",
    "#     print(\"\\n odometry estimate:\\n\", odometry_estimate)\n",
    "    cov_estimate = gtsam.noiseModel.Diagonal.Sigmas(pred_stds_history[i,:-2])\n",
    "#     cov_estimate = gtsam.noiseModel.Diagonal.Sigmas(pred_stds_history[i,:]) #dont need to omit scan indices for fake data\n",
    "    first_idx = ij[i,0]\n",
    "    second_idx = ij[i,1] \n",
    "#     print(first_idx, second_idx) #misses last element in ij!!!\n",
    "    graph.add(gtsam.BetweenFactorPose3(first_idx, second_idx, odometry_estimate, cov_estimate))\n",
    "\n",
    "# print(graph.size())\n",
    "#set to zero initial conditions\n",
    "initial = gtsam.Values()\n",
    "print(initial.keys())\n",
    "print(\"\\n graph size:\", graph.size())\n",
    "# print(int(np.max(ij)))\n",
    "# for j in range(graph.size()):\n",
    "for j in range(int(np.max(ij))+1):\n",
    "#     zero_rot = gtsam.Rot3(R_tf(np.array([0., 0., 0.])))\n",
    "#     zero_pose3 = gtsam.Pose3(zero_rot, np.array([0., 0., 0.])) #does not work with zero initial conds??\n",
    "#     initial.insert(j, zero_pose3)\n",
    "    init_rot = gtsam.Rot3(R_tf(0.01*np.random.randn(3)))\n",
    "    init_pose = gtsam.Pose3(init_rot, np.random.randn(3))\n",
    "    initial.insert(j, init_pose)\n",
    "    \n",
    "# # optimize using Levenberg-Marquardt optimization\n",
    "# # damped optimizer - seems to work much better here\n",
    "# params = gtsam.LevenbergMarquardtParams()\n",
    "# optimizer = gtsam.LevenbergMarquardtOptimizer(graph, initial, params)\n",
    "\n",
    "# # simple gauss newton - kinda unreliable for high DOF problems (especially with zero initial conditions)\n",
    "# params = gtsam.GaussNewtonParams()\n",
    "# params.setVerbosity(\"Termination\")  # this will show info about stopping conds\n",
    "# optimizer = gtsam.GaussNewtonOptimizer(graph, initial, params)\n",
    "\n",
    "# dogleg\n",
    "params = gtsam.DoglegParams()\n",
    "params.setVerbosity(\"Termination\")\n",
    "params.setMaxIterations(100)\n",
    "optimizer = gtsam.DoglegOptimizer(graph, initial, params)\n",
    "\n",
    "result = optimizer.optimize()\n",
    "marginals = gtsam.Marginals(graph, result) #calculate covariance estimates for each pose\n",
    "\n",
    "print(\"initial error = \", graph.error(initial))\n",
    "print(\"final error = \", graph.error(result))\n",
    "# print(initial.keys())\n",
    "# print(graph.keys())"
   ]
  },
  {
   "cell_type": "code",
   "execution_count": 5,
   "id": "428fb780",
   "metadata": {},
   "outputs": [
    {
     "name": "stdout",
     "output_type": "stream",
     "text": [
      "\u001b[1m\u001b[33;1m Warning! isSequence() is deprecated. Please use is_sequence()\u001b[0m\n",
      "\u001b[1m\u001b[33;1m Warning! isSequence() is deprecated. Please use is_sequence()\u001b[0m\n",
      "\u001b[1m\u001b[33;1m Warning! isSequence() is deprecated. Please use is_sequence()\u001b[0m\n",
      "\u001b[1m\u001b[33;1m Warning! isSequence() is deprecated. Please use is_sequence()\u001b[0m\n",
      "\u001b[1m\u001b[33;1m Warning! isSequence() is deprecated. Please use is_sequence()\u001b[0m\n",
      "\u001b[1m\u001b[33;1m Warning! isSequence() is deprecated. Please use is_sequence()\u001b[0m\n",
      "\u001b[1m\u001b[33;1m Warning! isSequence() is deprecated. Please use is_sequence()\u001b[0m\n",
      "\u001b[1m\u001b[33;1m Warning! isSequence() is deprecated. Please use is_sequence()\u001b[0m\n",
      "\u001b[1m\u001b[33;1m Warning! isSequence() is deprecated. Please use is_sequence()\u001b[0m\n",
      "\u001b[1m\u001b[33;1m Warning! isSequence() is deprecated. Please use is_sequence()\u001b[0m\n",
      "\u001b[1m\u001b[33;1m Warning! isSequence() is deprecated. Please use is_sequence()\u001b[0m\n",
      "\u001b[1m\u001b[33;1m Warning! isSequence() is deprecated. Please use is_sequence()\u001b[0m\n",
      "\u001b[1m\u001b[33;1m Warning! isSequence() is deprecated. Please use is_sequence()\u001b[0m\n",
      "\u001b[1m\u001b[33;1m Warning! isSequence() is deprecated. Please use is_sequence()\u001b[0m\n",
      "\u001b[1m\u001b[33;1m Warning! isSequence() is deprecated. Please use is_sequence()\u001b[0m\n",
      "\u001b[1m\u001b[33;1m Warning! isSequence() is deprecated. Please use is_sequence()\u001b[0m\n",
      "\u001b[1m\u001b[33;1m Warning! isSequence() is deprecated. Please use is_sequence()\u001b[0m\n",
      "\u001b[1m\u001b[33;1m Warning! isSequence() is deprecated. Please use is_sequence()\u001b[0m\n",
      "\u001b[1m\u001b[33;1m Warning! isSequence() is deprecated. Please use is_sequence()\u001b[0m\n",
      "\u001b[1m\u001b[33;1m Warning! isSequence() is deprecated. Please use is_sequence()\u001b[0m\n",
      "\u001b[1m\u001b[33;1m Warning! isSequence() is deprecated. Please use is_sequence()\u001b[0m\n",
      "\u001b[1m\u001b[33;1m Warning! isSequence() is deprecated. Please use is_sequence()\u001b[0m\n",
      "\u001b[1m\u001b[33;1m Warning! isSequence() is deprecated. Please use is_sequence()\u001b[0m\n",
      "\u001b[1m\u001b[33;1m Warning! isSequence() is deprecated. Please use is_sequence()\u001b[0m\n",
      "\u001b[1m\u001b[33;1m Warning! isSequence() is deprecated. Please use is_sequence()\u001b[0m\n",
      "\u001b[1m\u001b[33;1m Warning! isSequence() is deprecated. Please use is_sequence()\u001b[0m\n",
      "\u001b[1m\u001b[33;1m Warning! isSequence() is deprecated. Please use is_sequence()\u001b[0m\n",
      "\u001b[1m\u001b[33;1m Warning! isSequence() is deprecated. Please use is_sequence()\u001b[0m\n",
      "\u001b[1m\u001b[33;1m Warning! isSequence() is deprecated. Please use is_sequence()\u001b[0m\n",
      "\u001b[1m\u001b[33;1m Warning! isSequence() is deprecated. Please use is_sequence()\u001b[0m\n",
      "\u001b[1m\u001b[33;1m Warning! isSequence() is deprecated. Please use is_sequence()\u001b[0m\n",
      "\u001b[1m\u001b[33;1m Warning! isSequence() is deprecated. Please use is_sequence()\u001b[0m\n",
      "\u001b[1m\u001b[33;1m Warning! isSequence() is deprecated. Please use is_sequence()\u001b[0m\n",
      "\u001b[1m\u001b[33;1m Warning! isSequence() is deprecated. Please use is_sequence()\u001b[0m\n",
      "\u001b[1m\u001b[33;1m Warning! isSequence() is deprecated. Please use is_sequence()\u001b[0m\n",
      "\u001b[1m\u001b[33;1m Warning! isSequence() is deprecated. Please use is_sequence()\u001b[0m\n",
      "\u001b[1m\u001b[33;1m Warning! isSequence() is deprecated. Please use is_sequence()\u001b[0m\n",
      "\u001b[1m\u001b[33;1m Warning! isSequence() is deprecated. Please use is_sequence()\u001b[0m\n",
      "\u001b[1m\u001b[33;1m Warning! isSequence() is deprecated. Please use is_sequence()\u001b[0m\n",
      "\u001b[1m\u001b[33;1m Warning! isSequence() is deprecated. Please use is_sequence()\u001b[0m\n",
      "\u001b[1m\u001b[33;1m Warning! isSequence() is deprecated. Please use is_sequence()\u001b[0m\n",
      "\u001b[1m\u001b[33;1m Warning! isSequence() is deprecated. Please use is_sequence()\u001b[0m\n",
      "\u001b[1m\u001b[33;1m Warning! isSequence() is deprecated. Please use is_sequence()\u001b[0m\n",
      "\u001b[1m\u001b[33;1m Warning! isSequence() is deprecated. Please use is_sequence()\u001b[0m\n",
      "\u001b[1m\u001b[33;1m Warning! isSequence() is deprecated. Please use is_sequence()\u001b[0m\n",
      "\u001b[1m\u001b[33;1m Warning! isSequence() is deprecated. Please use is_sequence()\u001b[0m\n",
      "\u001b[1m\u001b[33;1m Warning! isSequence() is deprecated. Please use is_sequence()\u001b[0m\n",
      "\u001b[1m\u001b[33;1m Warning! isSequence() is deprecated. Please use is_sequence()\u001b[0m\n",
      "\u001b[1m\u001b[33;1m Warning! isSequence() is deprecated. Please use is_sequence()\u001b[0m\n",
      "\u001b[1m\u001b[33;1m Warning! isSequence() is deprecated. Please use is_sequence()\u001b[0m\n",
      "\u001b[1m\u001b[33;1m Warning! isSequence() is deprecated. Please use is_sequence()\u001b[0m\n",
      "\u001b[1m\u001b[33;1m Warning! isSequence() is deprecated. Please use is_sequence()\u001b[0m\n",
      "\u001b[1m\u001b[33;1m Warning! isSequence() is deprecated. Please use is_sequence()\u001b[0m\n",
      "\u001b[1m\u001b[33;1m Warning! isSequence() is deprecated. Please use is_sequence()\u001b[0m\n",
      "\u001b[1m\u001b[33;1m Warning! isSequence() is deprecated. Please use is_sequence()\u001b[0m\n",
      "\u001b[1m\u001b[33;1m Warning! isSequence() is deprecated. Please use is_sequence()\u001b[0m\n",
      "\u001b[1m\u001b[33;1m Warning! isSequence() is deprecated. Please use is_sequence()\u001b[0m\n",
      "\u001b[1m\u001b[33;1m Warning! isSequence() is deprecated. Please use is_sequence()\u001b[0m\n",
      "\u001b[1m\u001b[33;1m Warning! isSequence() is deprecated. Please use is_sequence()\u001b[0m\n",
      "\u001b[1m\u001b[33;1m Warning! isSequence() is deprecated. Please use is_sequence()\u001b[0m\n",
      "\u001b[1m\u001b[33;1m Warning! isSequence() is deprecated. Please use is_sequence()\u001b[0m\n",
      "\u001b[1m\u001b[33;1m Warning! isSequence() is deprecated. Please use is_sequence()\u001b[0m\n",
      "\u001b[1m\u001b[33;1m Warning! isSequence() is deprecated. Please use is_sequence()\u001b[0m\n",
      "\u001b[1m\u001b[33;1m Warning! isSequence() is deprecated. Please use is_sequence()\u001b[0m\n",
      "\u001b[1m\u001b[33;1m Warning! isSequence() is deprecated. Please use is_sequence()\u001b[0m\n",
      "\u001b[1m\u001b[33;1m Warning! isSequence() is deprecated. Please use is_sequence()\u001b[0m\n",
      "\u001b[1m\u001b[33;1m Warning! isSequence() is deprecated. Please use is_sequence()\u001b[0m\n",
      "\u001b[1m\u001b[33;1m Warning! isSequence() is deprecated. Please use is_sequence()\u001b[0m\n",
      "\u001b[1m\u001b[33;1m Warning! isSequence() is deprecated. Please use is_sequence()\u001b[0m\n",
      "\u001b[1m\u001b[33;1m Warning! isSequence() is deprecated. Please use is_sequence()\u001b[0m\n",
      "\u001b[1m\u001b[33;1m Warning! isSequence() is deprecated. Please use is_sequence()\u001b[0m\n",
      "\u001b[1m\u001b[33;1m Warning! isSequence() is deprecated. Please use is_sequence()\u001b[0m\n",
      "\u001b[1m\u001b[33;1m Warning! isSequence() is deprecated. Please use is_sequence()\u001b[0m\n",
      "\u001b[1m\u001b[33;1m Warning! isSequence() is deprecated. Please use is_sequence()\u001b[0m\n",
      "\u001b[1m\u001b[33;1m Warning! isSequence() is deprecated. Please use is_sequence()\u001b[0m\n",
      "\u001b[1m\u001b[33;1m Warning! isSequence() is deprecated. Please use is_sequence()\u001b[0m\n",
      "\u001b[1m\u001b[33;1m Warning! isSequence() is deprecated. Please use is_sequence()\u001b[0m\n",
      "\u001b[1m\u001b[33;1m Warning! isSequence() is deprecated. Please use is_sequence()\u001b[0m\n",
      "\u001b[1m\u001b[33;1m Warning! isSequence() is deprecated. Please use is_sequence()\u001b[0m\n",
      "\u001b[1m\u001b[33;1m Warning! isSequence() is deprecated. Please use is_sequence()\u001b[0m\n",
      "\u001b[1m\u001b[33;1m Warning! isSequence() is deprecated. Please use is_sequence()\u001b[0m\n",
      "\u001b[1m\u001b[33;1m Warning! isSequence() is deprecated. Please use is_sequence()\u001b[0m\n",
      "\u001b[1m\u001b[33;1m Warning! isSequence() is deprecated. Please use is_sequence()\u001b[0m\n",
      "\u001b[1m\u001b[33;1m Warning! isSequence() is deprecated. Please use is_sequence()\u001b[0m\n",
      "\u001b[1m\u001b[33;1m Warning! isSequence() is deprecated. Please use is_sequence()\u001b[0m\n",
      "\u001b[1m\u001b[33;1m Warning! isSequence() is deprecated. Please use is_sequence()\u001b[0m\n",
      "\u001b[1m\u001b[33;1m Warning! isSequence() is deprecated. Please use is_sequence()\u001b[0m\n",
      "\u001b[1m\u001b[33;1m Warning! isSequence() is deprecated. Please use is_sequence()\u001b[0m\n",
      "\u001b[1m\u001b[33;1m Warning! isSequence() is deprecated. Please use is_sequence()\u001b[0m\n",
      "\u001b[1m\u001b[33;1m Warning! isSequence() is deprecated. Please use is_sequence()\u001b[0m\n",
      "\u001b[1m\u001b[33;1m Warning! isSequence() is deprecated. Please use is_sequence()\u001b[0m\n",
      "\u001b[1m\u001b[33;1m Warning! isSequence() is deprecated. Please use is_sequence()\u001b[0m\n",
      "\u001b[1m\u001b[33;1m Warning! isSequence() is deprecated. Please use is_sequence()\u001b[0m\n",
      "\u001b[1m\u001b[33;1m Warning! isSequence() is deprecated. Please use is_sequence()\u001b[0m\n",
      "\u001b[1m\u001b[33;1m Warning! isSequence() is deprecated. Please use is_sequence()\u001b[0m\n",
      "\u001b[1m\u001b[33;1m Warning! isSequence() is deprecated. Please use is_sequence()\u001b[0m\n",
      "\u001b[1m\u001b[33;1m Warning! isSequence() is deprecated. Please use is_sequence()\u001b[0m\n",
      "\u001b[1m\u001b[33;1m Warning! isSequence() is deprecated. Please use is_sequence()\u001b[0m\n",
      "\u001b[1m\u001b[33;1m Warning! isSequence() is deprecated. Please use is_sequence()\u001b[0m\n",
      "\u001b[1m\u001b[33;1m Warning! isSequence() is deprecated. Please use is_sequence()\u001b[0m\n",
      "\u001b[1m\u001b[33;1m Warning! isSequence() is deprecated. Please use is_sequence()\u001b[0m\n",
      "\u001b[1m\u001b[33;1m Warning! isSequence() is deprecated. Please use is_sequence()\u001b[0m\n",
      "\u001b[1m\u001b[33;1m Warning! isSequence() is deprecated. Please use is_sequence()\u001b[0m\n",
      "\u001b[1m\u001b[33;1m Warning! isSequence() is deprecated. Please use is_sequence()\u001b[0m\n",
      "\u001b[1m\u001b[33;1m Warning! isSequence() is deprecated. Please use is_sequence()\u001b[0m\n",
      "\u001b[1m\u001b[33;1m Warning! isSequence() is deprecated. Please use is_sequence()\u001b[0m\n",
      "\u001b[1m\u001b[33;1m Warning! isSequence() is deprecated. Please use is_sequence()\u001b[0m\n",
      "\u001b[1m\u001b[33;1m Warning! isSequence() is deprecated. Please use is_sequence()\u001b[0m\n",
      "\u001b[1m\u001b[33;1m Warning! isSequence() is deprecated. Please use is_sequence()\u001b[0m\n",
      "\u001b[1m\u001b[33;1m Warning! isSequence() is deprecated. Please use is_sequence()\u001b[0m\n",
      "\u001b[1m\u001b[33;1m Warning! isSequence() is deprecated. Please use is_sequence()\u001b[0m\n",
      "\u001b[1m\u001b[33;1m Warning! isSequence() is deprecated. Please use is_sequence()\u001b[0m\n",
      "\u001b[1m\u001b[33;1m Warning! isSequence() is deprecated. Please use is_sequence()\u001b[0m\n"
     ]
    },
    {
     "name": "stdout",
     "output_type": "stream",
     "text": [
      "\u001b[1m\u001b[33;1m Warning! isSequence() is deprecated. Please use is_sequence()\u001b[0m\n",
      "\u001b[1m\u001b[33;1m Warning! isSequence() is deprecated. Please use is_sequence()\u001b[0m\n",
      "\u001b[1m\u001b[33;1m Warning! isSequence() is deprecated. Please use is_sequence()\u001b[0m\n",
      "\u001b[1m\u001b[33;1m Warning! isSequence() is deprecated. Please use is_sequence()\u001b[0m\n",
      "\u001b[1m\u001b[33;1m Warning! isSequence() is deprecated. Please use is_sequence()\u001b[0m\n",
      "\u001b[1m\u001b[33;1m Warning! isSequence() is deprecated. Please use is_sequence()\u001b[0m\n",
      "\u001b[1m\u001b[33;1m Warning! isSequence() is deprecated. Please use is_sequence()\u001b[0m\n",
      "\u001b[1m\u001b[33;1m Warning! isSequence() is deprecated. Please use is_sequence()\u001b[0m\n",
      "\u001b[1m\u001b[33;1m Warning! isSequence() is deprecated. Please use is_sequence()\u001b[0m\n",
      "\u001b[1m\u001b[33;1m Warning! isSequence() is deprecated. Please use is_sequence()\u001b[0m\n",
      "\u001b[1m\u001b[33;1m Warning! isSequence() is deprecated. Please use is_sequence()\u001b[0m\n",
      "\u001b[1m\u001b[33;1m Warning! isSequence() is deprecated. Please use is_sequence()\u001b[0m\n",
      "\u001b[1m\u001b[33;1m Warning! isSequence() is deprecated. Please use is_sequence()\u001b[0m\n",
      "\u001b[1m\u001b[33;1m Warning! isSequence() is deprecated. Please use is_sequence()\u001b[0m\n",
      "\u001b[1m\u001b[33;1m Warning! isSequence() is deprecated. Please use is_sequence()\u001b[0m\n",
      "\u001b[1m\u001b[33;1m Warning! isSequence() is deprecated. Please use is_sequence()\u001b[0m\n",
      "\u001b[1m\u001b[33;1m Warning! isSequence() is deprecated. Please use is_sequence()\u001b[0m\n",
      "\u001b[1m\u001b[33;1m Warning! isSequence() is deprecated. Please use is_sequence()\u001b[0m\n",
      "\u001b[1m\u001b[33;1m Warning! isSequence() is deprecated. Please use is_sequence()\u001b[0m\n",
      "\u001b[1m\u001b[33;1m Warning! isSequence() is deprecated. Please use is_sequence()\u001b[0m\n",
      "\u001b[1m\u001b[33;1m Warning! isSequence() is deprecated. Please use is_sequence()\u001b[0m\n",
      "\u001b[1m\u001b[33;1m Warning! isSequence() is deprecated. Please use is_sequence()\u001b[0m\n",
      "\u001b[1m\u001b[33;1m Warning! isSequence() is deprecated. Please use is_sequence()\u001b[0m\n",
      "\u001b[1m\u001b[33;1m Warning! isSequence() is deprecated. Please use is_sequence()\u001b[0m\n",
      "\u001b[1m\u001b[33;1m Warning! isSequence() is deprecated. Please use is_sequence()\u001b[0m\n",
      "\u001b[1m\u001b[33;1m Warning! isSequence() is deprecated. Please use is_sequence()\u001b[0m\n",
      "\u001b[1m\u001b[33;1m Warning! isSequence() is deprecated. Please use is_sequence()\u001b[0m\n",
      "\u001b[1m\u001b[33;1m Warning! isSequence() is deprecated. Please use is_sequence()\u001b[0m\n",
      "\u001b[1m\u001b[33;1m Warning! isSequence() is deprecated. Please use is_sequence()\u001b[0m\n",
      "\u001b[1m\u001b[33;1m Warning! isSequence() is deprecated. Please use is_sequence()\u001b[0m\n",
      "\u001b[1m\u001b[33;1m Warning! isSequence() is deprecated. Please use is_sequence()\u001b[0m\n",
      "\u001b[1m\u001b[33;1m Warning! isSequence() is deprecated. Please use is_sequence()\u001b[0m\n",
      "\u001b[1m\u001b[33;1m Warning! isSequence() is deprecated. Please use is_sequence()\u001b[0m\n",
      "\u001b[1m\u001b[33;1m Warning! isSequence() is deprecated. Please use is_sequence()\u001b[0m\n",
      "\u001b[1m\u001b[33;1m Warning! isSequence() is deprecated. Please use is_sequence()\u001b[0m\n",
      "\u001b[1m\u001b[33;1m Warning! isSequence() is deprecated. Please use is_sequence()\u001b[0m\n",
      "\u001b[1m\u001b[33;1m Warning! isSequence() is deprecated. Please use is_sequence()\u001b[0m\n"
     ]
    },
    {
     "data": {
      "text/plain": [
       "<vedo.plotter.Plotter at 0x7feec1c2e130>"
      ]
     },
     "execution_count": 5,
     "metadata": {},
     "output_type": "execute_result"
    }
   ],
   "source": [
    "#Plot results\n",
    "plt1 = Plotter(N = 1, axes = 1, bg =(1, 1, 1), interactive = True) #ax=7 gives rulers\n",
    "disp = []\n",
    "# disp = plot_results(disp, result, ij, draw_axis=True) #draw without ellipsoids\n",
    "disp = plot_results(disp, result, ij, marginals, draw_axis = True) #draws covarince ellipsoids\n",
    "plt1.show(disp, \"Factor Graph Test\")"
   ]
  },
  {
   "cell_type": "code",
   "execution_count": null,
   "id": "5e180816",
   "metadata": {},
   "outputs": [],
   "source": []
  }
 ],
 "metadata": {
  "kernelspec": {
   "display_name": "Python 3 (ipykernel)",
   "language": "python",
   "name": "python3"
  },
  "language_info": {
   "codemirror_mode": {
    "name": "ipython",
    "version": 3
   },
   "file_extension": ".py",
   "mimetype": "text/x-python",
   "name": "python",
   "nbconvert_exporter": "python",
   "pygments_lexer": "ipython3",
   "version": "3.8.10"
  }
 },
 "nbformat": 4,
 "nbformat_minor": 5
}
