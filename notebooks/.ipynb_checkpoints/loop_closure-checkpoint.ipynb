{
 "cells": [
  {
   "cell_type": "code",
   "execution_count": 2,
   "id": "df79cf91",
   "metadata": {},
   "outputs": [],
   "source": [
    "import numpy as np\n",
    "from matplotlib import pyplot as plt\n"
   ]
  },
  {
   "cell_type": "code",
   "execution_count": 4,
   "id": "7e078c83",
   "metadata": {},
   "outputs": [],
   "source": [
    "class Keyframe:\n",
    "    def __init__(self, position, orientation, point_cloud, descriptor=None, id=None, timestamp=None):\n",
    "        self.position = position  # [x, y, z]\n",
    "        self.orientation = orientation  # Quaternion [qx, qy, qz, qw]\n",
    "        self.point_cloud = point_cloud  # Full point cloud\n",
    "        self.descriptor = descriptor  # Optional pose descriptor\n",
    "        self.id = id  # Unique identifier\n",
    "        self.timestamp = timestamp  # Optional metadata\n"
   ]
  },
  {
   "cell_type": "code",
   "execution_count": 12,
   "id": "d149f96f",
   "metadata": {},
   "outputs": [],
   "source": [
    "pos = np.zeros([3])\n",
    "look_dir = np.zeros([3])\n",
    "pc = np.random.randn(10,3)\n",
    "\n",
    "k = Keyframe(pos, look_dir, pc)"
   ]
  },
  {
   "cell_type": "code",
   "execution_count": 13,
   "id": "5c694878",
   "metadata": {},
   "outputs": [
    {
     "name": "stdout",
     "output_type": "stream",
     "text": [
      "[[-0.55898001 -0.01545346 -1.1944209 ]\n",
      " [-2.70108451  1.19745065 -0.54718206]\n",
      " [ 0.42708948 -0.27526263  0.21591109]\n",
      " [ 1.03103411 -0.01852843 -0.85109009]\n",
      " [-1.02511979 -0.38174919  1.0623191 ]\n",
      " [-0.85794265  0.62252758  2.12636228]\n",
      " [-1.35478041  2.0158216  -0.10091824]\n",
      " [ 2.00901043  0.82789328  0.39907473]\n",
      " [ 0.9547147   0.06454257  1.588323  ]\n",
      " [-2.59535989 -0.38666105  0.06003632]]\n"
     ]
    }
   ],
   "source": [
    "print(k.point_cloud)"
   ]
  },
  {
   "cell_type": "code",
   "execution_count": null,
   "id": "84da4d8c",
   "metadata": {},
   "outputs": [],
   "source": []
  }
 ],
 "metadata": {
  "kernelspec": {
   "display_name": "Python 3 (ipykernel)",
   "language": "python",
   "name": "python3"
  },
  "language_info": {
   "codemirror_mode": {
    "name": "ipython",
    "version": 3
   },
   "file_extension": ".py",
   "mimetype": "text/x-python",
   "name": "python",
   "nbconvert_exporter": "python",
   "pygments_lexer": "ipython3",
   "version": "3.8.10"
  }
 },
 "nbformat": 4,
 "nbformat_minor": 5
}
